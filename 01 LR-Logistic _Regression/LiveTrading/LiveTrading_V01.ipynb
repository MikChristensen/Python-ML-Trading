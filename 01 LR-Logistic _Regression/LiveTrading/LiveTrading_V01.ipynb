{
 "cells": [
  {
   "cell_type": "code",
   "execution_count": null,
   "metadata": {},
   "outputs": [
    {
     "name": "stderr",
     "output_type": "stream",
     "text": [
      "/home/mik/anaconda3/lib/python3.9/site-packages/scipy/__init__.py:146: UserWarning: A NumPy version >=1.16.5 and <1.23.0 is required for this version of SciPy (detected version 1.24.2\n",
      "  warnings.warn(f\"A NumPy version >={np_minversion} and <{np_maxversion}\"\n"
     ]
    }
   ],
   "source": [
    "import pandas as pd\n",
    "import numpy as np\n",
    "from sklearn.linear_model import LogisticRegression\n",
    "import fxcmpy\n",
    "import time\n",
    "from datetime import datetime\n",
    "import pickle\n",
    "from talib import abstract"
   ]
  },
  {
   "cell_type": "code",
   "execution_count": null,
   "metadata": {},
   "outputs": [
    {
     "name": "stderr",
     "output_type": "stream",
     "text": [
      "|WARNING|2023-04-14 15:47:40,273|Default account set to 1347451, to change use set_default_account().\n"
     ]
    }
   ],
   "source": [
    "api = fxcmpy.fxcmpy(access_token = \"540857ea0f2c6bf6d5bd063300c5f0107fe37ad9\")"
   ]
  },
  {
   "cell_type": "code",
   "execution_count": null,
   "metadata": {},
   "outputs": [],
   "source": [
    "col = [\"tradeId\", \"amountK\", \"currency\", \"grossPL\", \"isBuy\"]"
   ]
  },
  {
   "cell_type": "code",
   "execution_count": null,
   "metadata": {},
   "outputs": [],
   "source": [
    "class MLTrader():\n",
    "    \n",
    "    def __init__(self, instrument, bar_length, model, units):\n",
    "        self.instrument = instrument\n",
    "        self.bar_length = pd.to_timedelta(bar_length) \n",
    "        self.tick_data = None\n",
    "        self.raw_data = None\n",
    "        self.data = None \n",
    "        self.ticks = 0\n",
    "        self.last_bar = None  \n",
    "        self.units = units\n",
    "        self.feature_columns = ['lag1', 'lag2', 'lag3', 'lag4', 'lag5', 'Ask_Dir', 'SMA', 'SMA_Dir', 'RSI', 'RSI_Dir', 'fastk', 'fastd', 'fastk_Dir', 'fastd_Dir']\n",
    "        self.position = 0\n",
    "        self.isBuy = False\n",
    "        \n",
    "        #*****************add strategy-specific attributes here******************\n",
    "        self.lags = 5\n",
    "        self.model = model\n",
    "        #************************************************************************        \n",
    "    \n",
    "    def get_most_recent(self, period = \"m5\", number = 10000):\n",
    "        while True:  \n",
    "            time.sleep(5)\n",
    "            df = api.get_candles(self.instrument, number = number, period = period, columns = [\"bidclose\", \"askclose\"])\n",
    "            df[self.instrument] = (df.bidclose + df.askclose) / 2\n",
    "            df = df[self.instrument].to_frame()\n",
    "            df = df.resample(self.bar_length, label = \"right\").last().dropna().iloc[:-1]\n",
    "            self.raw_data = df.copy()\n",
    "            self.last_bar = self.raw_data.index[-1]\n",
    "            if pd.to_datetime(datetime.utcnow()) - self.last_bar < self.bar_length:\n",
    "                break\n",
    "    \n",
    "    def get_tick_data(self, data, dataframe):\n",
    "        \n",
    "        self.ticks += 1\n",
    "        print(self.ticks, end = \" \")\n",
    "        \n",
    "        recent_tick = pd.to_datetime(data[\"Updated\"], unit = \"ms\")\n",
    "        \n",
    "        # if a time longer than the bar_lenght has elapsed between last full bar and the most recent tick\n",
    "        if recent_tick - self.last_bar > self.bar_length:\n",
    "            self.tick_data = dataframe.loc[self.last_bar:, [\"Bid\", \"Ask\"]]\n",
    "            self.tick_data[self.instrument] = (self.tick_data.Ask + self.tick_data.Bid)/2\n",
    "            self.tick_data = self.tick_data[self.instrument].to_frame()\n",
    "            self.resample_and_join()\n",
    "            self.define_strategy() \n",
    "            self.execute_trades()\n",
    "            \n",
    "            \n",
    "            \n",
    "    def resample_and_join(self):\n",
    "        self.raw_data = self.raw_data.append(self.tick_data.resample(self.bar_length, \n",
    "                                                             label=\"right\").last().ffill().iloc[:-1])\n",
    "        self.last_bar = self.raw_data.index[-1]  \n",
    "        \n",
    "    def define_strategy(self): # \"strategy-specific\"\n",
    "        df = self.raw_data.copy()\n",
    "        \n",
    "        #******************** define your strategy here ************************\n",
    "        df = df.append(self.tick_data.iloc[-1]) # append latest tick (== open price of current bar)\n",
    "        df[\"returns\"] = np.log(df[self.instrument] / df[self.instrument].shift())\n",
    "        cols = []\n",
    "        for lag in range(1, self.lags + 1):\n",
    "            col = \"lag{}\".format(lag)\n",
    "            df[col] = df.returns.shift(lag)\n",
    "            cols.append(col)\n",
    "            \n",
    "            \n",
    "        df['Ask_Dir'] = np.where(df[self.instrument].shift(-1) > df[self.instrument], 1, 0)\n",
    "        cols.append('Ask_Dir')\n",
    "\n",
    "        df['SMA'] = abstract.SMA(df[self.instrument], timeperiod=12)\n",
    "        cols.append('SMA')\n",
    "        df['SMA_Dir'] = np.where(df['SMA'].shift(-1) > df.SMA, 1, 0)\n",
    "        cols.append('SMA_Dir')\n",
    "\n",
    "        df['RSI'] = abstract.RSI(df[self.instrument], timeperiod=12)\n",
    "        cols.append('RSI')\n",
    "        df['RSI_Dir'] = np.where(df['RSI'].shift(-1) > df.RSI, 1, 0)\n",
    "        cols.append('RSI_Dir')\n",
    "        \n",
    "        df['fastk'], df['fastd'] = abstract.STOCHRSI(df[self.instrument], timeperiod=14, fastk_period=5, fastd_period=3, fastd_matype=0)\n",
    "        cols.append('fastk')\n",
    "        cols.append('fastd')\n",
    "        df['fastk_Dir'] = np.where(df['fastk'].shift(-1) > df.fastk, 1, 0)\n",
    "        cols.append('fastk_Dir')\n",
    "        df['fastd_Dir'] = np.where(df['fastd'].shift(-1) > df.fastd, 1, 0)    \n",
    "        cols.append('fastd_Dir')\n",
    "            \n",
    "            \n",
    "            \n",
    "        df.dropna(inplace = True)\n",
    "        df[\"position\"] = self.model.predict(df[self.feature_columns])\n",
    "        #***********************************************************************\n",
    "                \n",
    "        self.data = df.copy()\n",
    "    \n",
    "    def execute_trades(self):\n",
    "        \n",
    "        if self.position == 1:\n",
    "            if (self.data[\"position\"].iloc[-1] == -1 and self.isBuy) or (self.data[\"position\"].iloc[1] == 1 and not self.isBuy):\n",
    "                order = api.close_all_for_symbol(self.instrument)\n",
    "                self.report_trade(order, \"Close position\")\n",
    "                self.position = 0\n",
    "                self.isBuy = False\n",
    "            \n",
    "            \n",
    "        if self.position == 0 and self.data[\"position\"].iloc[-1] == -1: \n",
    "            print('new prediction is short but current position is long')\n",
    "            # close existing long position, and create new short\n",
    "            api.close_all_for_symbol(symbol= self.instrument)\n",
    "            order = api.create_market_sell_order(self.instrument, self.units)\n",
    "            self.report_trade(order, \"GOING SHORT\")\n",
    "            self.position = 1\n",
    "            self.isBuy = False\n",
    "                 \n",
    "        if self.position == 0 and self.data[\"position\"].iloc[-1] == 1: \n",
    "            print('new prediction is long but current position is short') \n",
    "            # close existing short position, and create new long\n",
    "            api.close_all_for_symbol(symbol= self.instrument)\n",
    "            order = api.create_market_buy_order(self.instrument, self.units)\n",
    "            self.report_trade(order, \"GOING LONG\")\n",
    "            self.position = 1\n",
    "            self.isBuy = True\n",
    "            \n",
    "        if self.data[\"position\"].iloc[-1] == 0: \n",
    "            if self.position == -1:\n",
    "                order = api.close_all_for_symbol(symbol= self.instrument)\n",
    "                self.report_trade(order, \"GOING NEUTRAL\") \n",
    "            elif self.position == 1:\n",
    "                order = api.close_all_for_symbol(symbol= self.instrument)\n",
    "                self.report_trade(order, \"GOING NEUTRAL\")  \n",
    "            self.position = 0\n",
    "\n",
    "\n",
    "    def report_trade(self, order, going):\n",
    "        time = order.get_time()\n",
    "        units = api.get_open_positions().amountK.iloc[-1]\n",
    "        price = api.get_open_positions().open.iloc[-1]\n",
    "        unreal_pl = api.get_open_positions().grossPL.sum()\n",
    "        print(\"\\n\" + 100* \"-\")\n",
    "        print(\"{} | {}\".format(time, going))\n",
    "        print(\"{} | units = {} | price = {} | Unreal. P&L = {}\".format(time, units, price, unreal_pl))\n",
    "        print(100 * \"-\" + \"\\n\")\n",
    "        "
   ]
  },
  {
   "cell_type": "code",
   "execution_count": null,
   "metadata": {},
   "outputs": [],
   "source": [
    "lm = pickle.load(open(\"logreg.pkl\", \"rb\"))\n"
   ]
  },
  {
   "cell_type": "code",
   "execution_count": null,
   "metadata": {},
   "outputs": [],
   "source": [
    "# Create ML Trader object\n",
    "trader = MLTrader(\"EUR/USD\", \"5min\", model = lm, units = 100)"
   ]
  },
  {
   "cell_type": "code",
   "execution_count": null,
   "metadata": {},
   "outputs": [
    {
     "name": "stdout",
     "output_type": "stream",
     "text": [
      "1 2 3 4 "
     ]
    }
   ],
   "source": [
    "# Start online trading\n",
    "\n",
    "trader.get_most_recent()\n",
    "api.subscribe_market_data(trader.instrument, (trader.get_tick_data, ))"
   ]
  },
  {
   "cell_type": "code",
   "execution_count": null,
   "metadata": {},
   "outputs": [
    {
     "name": "stdout",
     "output_type": "stream",
     "text": [
      "5 "
     ]
    }
   ],
   "source": [
    "# Close online trading\n",
    "#api.unsubscribe_market_data(trader.instrument)\n",
    "#if len(api.get_open_positions()) != 0: # if we have final open position(s) (netting and hedging)\n",
    "#    api.close_all_for_symbol(trader.instrument)\n",
    "#    print(2*\"\\n\" + \"{} | GOING NEUTRAL\".format(str(datetime.utcnow())) + \"\\n\")\n",
    "#    time.sleep(20)\n",
    "#    print(api.get_closed_positions_summary()[col])\n",
    "#    trader.position = 0\n"
   ]
  }
 ],
 "metadata": {
  "kernelspec": {
   "display_name": "base",
   "language": "python",
   "name": "python3"
  },
  "language_info": {
   "codemirror_mode": {
    "name": "ipython",
    "version": 3
   },
   "file_extension": ".py",
   "mimetype": "text/x-python",
   "name": "python",
   "nbconvert_exporter": "python",
   "pygments_lexer": "ipython3",
   "version": "3.9.12"
  },
  "orig_nbformat": 4
 },
 "nbformat": 4,
 "nbformat_minor": 2
}
