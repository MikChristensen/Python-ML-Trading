{
  "cells": [
    {
      "cell_type": "markdown",
      "source": [
        "Readings:\n",
        "\n",
        "https://omdena.com/blog/time-series-classification-model-tutorial/\n",
        "https://www.kaggle.com/code/szaitseff/classification-of-time-series-with-lstm-rnn\n"
      ],
      "metadata": {
        "id": "G62e5Dgbrt51"
      }
    },
    {
      "cell_type": "code",
      "source": [
        "!wget http://prdownloads.sourceforge.net/ta-lib/ta-lib-0.4.0-src.tar.gz\n",
        "!tar -xzvf ta-lib-0.4.0-src.tar.gz\n",
        "%cd ta-lib\n",
        "!./configure --prefix=/usr\n",
        "!make\n",
        "!make install\n",
        "!pip install Ta-Lib\n",
        "import talib"
      ],
      "metadata": {
        "id": "hF5Uht7Xnd9f",
        "outputId": "8de8b6a5-9a22-4fc2-cf29-e87a54ed4514",
        "colab": {
          "base_uri": "https://localhost:8080/"
        }
      },
      "execution_count": 1,
      "outputs": [
        {
          "output_type": "stream",
          "name": "stdout",
          "text": [
            "--2023-08-07 19:08:16--  http://prdownloads.sourceforge.net/ta-lib/ta-lib-0.4.0-src.tar.gz\n",
            "Resolving prdownloads.sourceforge.net (prdownloads.sourceforge.net)... 204.68.111.105\n",
            "Connecting to prdownloads.sourceforge.net (prdownloads.sourceforge.net)|204.68.111.105|:80... connected.\n",
            "HTTP request sent, awaiting response... 301 Moved Permanently\n",
            "Location: http://downloads.sourceforge.net/project/ta-lib/ta-lib/0.4.0/ta-lib-0.4.0-src.tar.gz [following]\n",
            "--2023-08-07 19:08:16--  http://downloads.sourceforge.net/project/ta-lib/ta-lib/0.4.0/ta-lib-0.4.0-src.tar.gz\n",
            "Resolving downloads.sourceforge.net (downloads.sourceforge.net)... 204.68.111.105\n",
            "Reusing existing connection to prdownloads.sourceforge.net:80.\n",
            "HTTP request sent, awaiting response... 302 Found\n",
            "Location: http://kumisystems.dl.sourceforge.net/project/ta-lib/ta-lib/0.4.0/ta-lib-0.4.0-src.tar.gz [following]\n",
            "--2023-08-07 19:08:16--  http://kumisystems.dl.sourceforge.net/project/ta-lib/ta-lib/0.4.0/ta-lib-0.4.0-src.tar.gz\n",
            "Resolving kumisystems.dl.sourceforge.net (kumisystems.dl.sourceforge.net)... 148.251.120.111, 2a01:4f8:210:1057::2\n",
            "Connecting to kumisystems.dl.sourceforge.net (kumisystems.dl.sourceforge.net)|148.251.120.111|:80... connected.\n",
            "HTTP request sent, awaiting response... 200 OK\n",
            "Length: 1330299 (1.3M) [application/x-gzip]\n",
            "Saving to: ‘ta-lib-0.4.0-src.tar.gz.2’\n",
            "\n",
            "ta-lib-0.4.0-src.ta 100%[===================>]   1.27M  --.-KB/s    in 0.1s    \n",
            "\n",
            "2023-08-07 19:08:17 (12.7 MB/s) - ‘ta-lib-0.4.0-src.tar.gz.2’ saved [1330299/1330299]\n",
            "\n",
            "ta-lib/\n",
            "ta-lib/config.sub\n",
            "ta-lib/aclocal.m4\n",
            "ta-lib/CHANGELOG.TXT\n",
            "ta-lib/include/\n",
            "ta-lib/include/ta_abstract.h\n",
            "ta-lib/include/ta_func.h\n",
            "ta-lib/include/ta_common.h\n",
            "ta-lib/include/ta_config.h.in\n",
            "ta-lib/include/Makefile.am\n",
            "ta-lib/include/ta_libc.h\n",
            "ta-lib/include/ta_defs.h\n",
            "ta-lib/missing\n",
            "ta-lib/ta-lib.spec.in\n",
            "ta-lib/config.guess\n",
            "ta-lib/Makefile.in\n",
            "ta-lib/ta-lib.dpkg.in\n",
            "ta-lib/Makefile.am\n",
            "ta-lib/autogen.sh\n",
            "ta-lib/install-sh\n",
            "ta-lib/configure\n",
            "ta-lib/depcomp\n",
            "ta-lib/HISTORY.TXT\n",
            "ta-lib/configure.in\n",
            "ta-lib/autom4te.cache/\n",
            "ta-lib/autom4te.cache/output.0\n",
            "ta-lib/autom4te.cache/requests\n",
            "ta-lib/autom4te.cache/output.1\n",
            "ta-lib/autom4te.cache/traces.0\n",
            "ta-lib/autom4te.cache/traces.1\n",
            "ta-lib/ltmain.sh\n",
            "ta-lib/ta-lib-config.in\n",
            "ta-lib/src/\n",
            "ta-lib/src/ta_func/\n",
            "ta-lib/src/ta_func/ta_MACDFIX.c\n",
            "ta-lib/src/ta_func/ta_CDLPIERCING.c\n",
            "ta-lib/src/ta_func/ta_DIV.c\n",
            "ta-lib/src/ta_func/ta_ROCR100.c\n",
            "ta-lib/src/ta_func/ta_ADXR.c\n",
            "ta-lib/src/ta_func/ta_MAVP.c\n",
            "ta-lib/src/ta_func/ta_CDLCLOSINGMARUBOZU.c\n",
            "ta-lib/src/ta_func/ta_COSH.c\n",
            "ta-lib/src/ta_func/ta_EXP.c\n",
            "ta-lib/src/ta_func/ta_MINMAXINDEX.c\n",
            "ta-lib/src/ta_func/ta_SQRT.c\n",
            "ta-lib/src/ta_func/ta_FLOOR.c\n",
            "ta-lib/src/ta_func/ta_CDLCONCEALBABYSWALL.c\n",
            "ta-lib/src/ta_func/ta_NATR.c\n",
            "ta-lib/src/ta_func/ta_CDLHARAMICROSS.c\n",
            "ta-lib/src/ta_func/ta_MINUS_DM.c\n",
            "ta-lib/src/ta_func/ta_LOG10.c\n",
            "ta-lib/src/ta_func/ta_LINEARREG_ANGLE.c\n",
            "ta-lib/src/ta_func/ta_RSI.c\n",
            "ta-lib/src/ta_func/ta_CDLABANDONEDBABY.c\n",
            "ta-lib/src/ta_func/ta_SAR.c\n",
            "ta-lib/src/ta_func/ta_CDLBREAKAWAY.c\n",
            "ta-lib/src/ta_func/ta_CDLDRAGONFLYDOJI.c\n",
            "ta-lib/src/ta_func/ta_CDLHIGHWAVE.c\n",
            "ta-lib/src/ta_func/ta_CDLKICKING.c\n",
            "ta-lib/src/ta_func/ta_CDLDOJISTAR.c\n",
            "ta-lib/src/ta_func/ta_VAR.c\n",
            "ta-lib/src/ta_func/ta_CDLMATCHINGLOW.c\n",
            "ta-lib/src/ta_func/ta_CDLGAPSIDESIDEWHITE.c\n",
            "ta-lib/src/ta_func/ta_CDLMARUBOZU.c\n",
            "ta-lib/src/ta_func/ta_AROONOSC.c\n",
            "ta-lib/src/ta_func/ta_WCLPRICE.c\n",
            "ta-lib/src/ta_func/ta_CDLEVENINGDOJISTAR.c\n",
            "ta-lib/src/ta_func/ta_CDL3INSIDE.c\n",
            "ta-lib/src/ta_func/ta_OBV.c\n",
            "ta-lib/src/ta_func/ta_AROON.c\n",
            "ta-lib/src/ta_func/ta_CDLBELTHOLD.c\n",
            "ta-lib/src/ta_func/ta_CDLSPINNINGTOP.c\n",
            "ta-lib/src/ta_func/ta_AD.c\n",
            "ta-lib/src/ta_func/ta_MAX.c\n",
            "ta-lib/src/ta_func/ta_CDLENGULFING.c\n",
            "ta-lib/src/ta_func/ta_MINMAX.c\n",
            "ta-lib/src/ta_func/ta_CDLINNECK.c\n",
            "ta-lib/src/ta_func/ta_STDDEV.c\n",
            "ta-lib/src/ta_func/ta_NVI.c\n",
            "ta-lib/src/ta_func/ta_CDLHAMMER.c\n",
            "ta-lib/src/ta_func/ta_ASIN.c\n",
            "ta-lib/src/ta_func/ta_SUM.c\n",
            "ta-lib/src/ta_func/ta_STOCH.c\n",
            "ta-lib/src/ta_func/ta_CDLLONGLEGGEDDOJI.c\n",
            "ta-lib/src/ta_func/ta_MEDPRICE.c\n",
            "ta-lib/src/ta_func/ta_CDL3STARSINSOUTH.c\n",
            "ta-lib/src/ta_func/ta_HT_TRENDMODE.c\n",
            "ta-lib/src/ta_func/ta_BBANDS.c\n",
            "ta-lib/src/ta_func/ta_CDLMORNINGSTAR.c\n",
            "ta-lib/src/ta_func/ta_HT_DCPHASE.c\n",
            "ta-lib/src/ta_func/ta_CDLLONGLINE.c\n",
            "ta-lib/src/ta_func/ta_TAN.c\n",
            "ta-lib/src/ta_func/ta_SMA.c\n",
            "ta-lib/src/ta_func/ta_DX.c\n",
            "ta-lib/src/ta_func/ta_MIDPOINT.c\n",
            "ta-lib/src/ta_func/ta_CDL2CROWS.c\n",
            "ta-lib/src/ta_func/ta_CORREL.c\n",
            "ta-lib/src/ta_func/ta_CDL3BLACKCROWS.c\n",
            "ta-lib/src/ta_func/ta_ADD.c\n",
            "ta-lib/src/ta_func/Makefile.in\n",
            "ta-lib/src/ta_func/ta_CDLTHRUSTING.c\n",
            "ta-lib/src/ta_func/ta_SUB.c\n",
            "ta-lib/src/ta_func/ta_CDLSTALLEDPATTERN.c\n",
            "ta-lib/src/ta_func/ta_CDLTRISTAR.c\n",
            "ta-lib/src/ta_func/ta_MA.c\n",
            "ta-lib/src/ta_func/ta_HT_SINE.c\n",
            "ta-lib/src/ta_func/ta_ACOS.c\n",
            "ta-lib/src/ta_func/ta_CDLSTICKSANDWICH.c\n",
            "ta-lib/src/ta_func/ta_SINH.c\n",
            "ta-lib/src/ta_func/ta_utility.h\n",
            "ta-lib/src/ta_func/ta_CDLSHORTLINE.c\n",
            "ta-lib/src/ta_func/ta_ATAN.c\n",
            "ta-lib/src/ta_func/ta_CDLADVANCEBLOCK.c\n",
            "ta-lib/src/ta_func/ta_CDLKICKINGBYLENGTH.c\n",
            "ta-lib/src/ta_func/ta_CDLSHOOTINGSTAR.c\n",
            "ta-lib/src/ta_func/ta_ROCR.c\n",
            "ta-lib/src/ta_func/ta_WMA.c\n",
            "ta-lib/src/ta_func/ta_CDLDARKCLOUDCOVER.c\n",
            "ta-lib/src/ta_func/ta_CDLXSIDEGAP3METHODS.c\n",
            "ta-lib/src/ta_func/ta_TYPPRICE.c\n",
            "ta-lib/src/ta_func/ta_CDL3WHITESOLDIERS.c\n",
            "ta-lib/src/ta_func/Makefile.am\n",
            "ta-lib/src/ta_func/ta_MACDEXT.c\n",
            "ta-lib/src/ta_func/ta_ADX.c\n",
            "ta-lib/src/ta_func/ta_PLUS_DM.c\n",
            "ta-lib/src/ta_func/ta_CDLUPSIDEGAP2CROWS.c\n",
            "ta-lib/src/ta_func/ta_LN.c\n",
            "ta-lib/src/ta_func/ta_DEMA.c\n",
            "ta-lib/src/ta_func/ta_CDL3OUTSIDE.c\n",
            "ta-lib/src/ta_func/ta_CDLTASUKIGAP.c\n",
            "ta-lib/src/ta_func/ta_MAMA.c\n",
            "ta-lib/src/ta_func/ta_CDLMORNINGDOJISTAR.c\n",
            "ta-lib/src/ta_func/ta_PLUS_DI.c\n",
            "ta-lib/src/ta_func/ta_MININDEX.c\n",
            "ta-lib/src/ta_func/ta_COS.c\n",
            "ta-lib/src/ta_func/ta_HT_TRENDLINE.c\n",
            "ta-lib/src/ta_func/ta_MIDPRICE.c\n",
            "ta-lib/src/ta_func/ta_CEIL.c\n",
            "ta-lib/src/ta_func/ta_TRIMA.c\n",
            "ta-lib/src/ta_func/ta_CDLSEPARATINGLINES.c\n",
            "ta-lib/src/ta_func/ta_ROCP.c\n",
            "ta-lib/src/ta_func/ta_CDLHOMINGPIGEON.c\n",
            "ta-lib/src/ta_func/ta_CDLHANGINGMAN.c\n",
            "ta-lib/src/ta_func/ta_AVGPRICE.c\n",
            "ta-lib/src/ta_func/ta_APO.c\n",
            "ta-lib/src/ta_func/ta_CDLRISEFALL3METHODS.c\n",
            "ta-lib/src/ta_func/ta_TRANGE.c\n",
            "ta-lib/src/ta_func/ta_TSF.c\n",
            "ta-lib/src/ta_func/ta_LINEARREG.c\n",
            "ta-lib/src/ta_func/ta_PVI.c\n",
            "ta-lib/src/ta_func/ta_CDLHIKKAKEMOD.c\n",
            "ta-lib/src/ta_func/ta_MFI.c\n",
            "ta-lib/src/ta_func/ta_CDLHARAMI.c\n",
            "ta-lib/src/ta_func/ta_MACD.c\n",
            "ta-lib/src/ta_func/ta_BETA.c\n",
            "ta-lib/src/ta_func/ta_CDLINVERTEDHAMMER.c\n",
            "ta-lib/src/ta_func/ta_LINEARREG_SLOPE.c\n",
            "ta-lib/src/ta_func/ta_STOCHF.c\n",
            "ta-lib/src/ta_func/ta_MIN.c\n",
            "ta-lib/src/ta_func/ta_CDLIDENTICAL3CROWS.c\n",
            "ta-lib/src/ta_func/ta_CDLRICKSHAWMAN.c\n",
            "ta-lib/src/ta_func/ta_T3.c\n",
            "ta-lib/src/ta_func/ta_CDLMATHOLD.c\n",
            "ta-lib/src/ta_func/ta_CDLUNIQUE3RIVER.c\n",
            "ta-lib/src/ta_func/ta_ADOSC.c\n",
            "ta-lib/src/ta_func/ta_MAXINDEX.c\n",
            "ta-lib/src/ta_func/ta_ULTOSC.c\n",
            "ta-lib/src/ta_func/ta_TRIX.c\n",
            "ta-lib/src/ta_func/ta_MOM.c\n",
            "ta-lib/src/ta_func/ta_CDLDOJI.c\n",
            "ta-lib/src/ta_func/ta_EMA.c\n",
            "ta-lib/src/ta_func/ta_STOCHRSI.c\n",
            "ta-lib/src/ta_func/ta_ROC.c\n",
            "ta-lib/src/ta_func/ta_CDLEVENINGSTAR.c\n",
            "ta-lib/src/ta_func/ta_CDLCOUNTERATTACK.c\n",
            "ta-lib/src/ta_func/ta_LINEARREG_INTERCEPT.c\n",
            "ta-lib/src/ta_func/ta_SAREXT.c\n",
            "ta-lib/src/ta_func/ta_WILLR.c\n",
            "ta-lib/src/ta_func/ta_MULT.c\n",
            "ta-lib/src/ta_func/ta_ATR.c\n",
            "ta-lib/src/ta_func/ta_BOP.c\n",
            "ta-lib/src/ta_func/ta_CMO.c\n",
            "ta-lib/src/ta_func/ta_CDLONNECK.c\n",
            "ta-lib/src/ta_func/ta_CCI.c\n",
            "ta-lib/src/ta_func/ta_CDLLADDERBOTTOM.c\n",
            "ta-lib/src/ta_func/ta_HT_PHASOR.c\n",
            "ta-lib/src/ta_func/ta_utility.c\n",
            "ta-lib/src/ta_func/ta_PPO.c\n",
            "ta-lib/src/ta_func/ta_CDLHIKKAKE.c\n",
            "ta-lib/src/ta_func/ta_HT_DCPERIOD.c\n",
            "ta-lib/src/ta_func/ta_CDL3LINESTRIKE.c\n",
            "ta-lib/src/ta_func/ta_TEMA.c\n",
            "ta-lib/src/ta_func/ta_SIN.c\n",
            "ta-lib/src/ta_func/ta_MINUS_DI.c\n",
            "ta-lib/src/ta_func/ta_KAMA.c\n",
            "ta-lib/src/ta_func/ta_TANH.c\n",
            "ta-lib/src/ta_func/ta_CDLTAKURI.c\n",
            "ta-lib/src/ta_func/ta_CDLGRAVESTONEDOJI.c\n",
            "ta-lib/src/ta_common/\n",
            "ta-lib/src/ta_common/ta_pragma.h\n",
            "ta-lib/src/ta_common/ta_magic_nb.h\n",
            "ta-lib/src/ta_common/ta_retcode.csv\n",
            "ta-lib/src/ta_common/Makefile.in\n",
            "ta-lib/src/ta_common/Makefile.am\n",
            "ta-lib/src/ta_common/ta_memory.h\n",
            "ta-lib/src/ta_common/ta_version.c\n",
            "ta-lib/src/ta_common/ta_global.h\n",
            "ta-lib/src/ta_common/ta_global.c\n",
            "ta-lib/src/ta_common/ta_retcode.c\n",
            "ta-lib/src/Makefile.in\n",
            "ta-lib/src/ta_abstract/\n",
            "ta-lib/src/ta_abstract/frames/\n",
            "ta-lib/src/ta_abstract/frames/ta_frame.c\n",
            "ta-lib/src/ta_abstract/frames/ta_frame.h\n",
            "ta-lib/src/ta_abstract/excel_glue.c\n",
            "ta-lib/src/ta_abstract/ta_frame_priv.h\n",
            "ta-lib/src/ta_abstract/ta_func_api.c\n",
            "ta-lib/src/ta_abstract/Makefile.in\n",
            "ta-lib/src/ta_abstract/ta_def_ui.h\n",
            "ta-lib/src/ta_abstract/Makefile.am\n",
            "ta-lib/src/ta_abstract/ta_abstract.c\n",
            "ta-lib/src/ta_abstract/ta_group_idx.c\n",
            "ta-lib/src/ta_abstract/tables/\n",
            "ta-lib/src/ta_abstract/tables/table_u.c\n",
            "ta-lib/src/ta_abstract/tables/table_x.c\n",
            "ta-lib/src/ta_abstract/tables/table_r.c\n",
            "ta-lib/src/ta_abstract/tables/table_f.c\n",
            "ta-lib/src/ta_abstract/tables/table_j.c\n",
            "ta-lib/src/ta_abstract/tables/table_e.c\n",
            "ta-lib/src/ta_abstract/tables/table_t.c\n",
            "ta-lib/src/ta_abstract/tables/table_n.c\n",
            "ta-lib/src/ta_abstract/tables/table_i.c\n",
            "ta-lib/src/ta_abstract/tables/table_c.c\n",
            "ta-lib/src/ta_abstract/tables/table_l.c\n",
            "ta-lib/src/ta_abstract/tables/table_k.c\n",
            "ta-lib/src/ta_abstract/tables/table_g.c\n",
            "ta-lib/src/ta_abstract/tables/table_d.c\n",
            "ta-lib/src/ta_abstract/tables/table_h.c\n",
            "ta-lib/src/ta_abstract/tables/table_o.c\n",
            "ta-lib/src/ta_abstract/tables/table_b.c\n",
            "ta-lib/src/ta_abstract/tables/table_q.c\n",
            "ta-lib/src/ta_abstract/tables/table_v.c\n",
            "ta-lib/src/ta_abstract/tables/table_m.c\n",
            "ta-lib/src/ta_abstract/tables/table_s.c\n",
            "ta-lib/src/ta_abstract/tables/table_y.c\n",
            "ta-lib/src/ta_abstract/tables/table_p.c\n",
            "ta-lib/src/ta_abstract/tables/table_z.c\n",
            "ta-lib/src/ta_abstract/tables/table_a.c\n",
            "ta-lib/src/ta_abstract/tables/table_w.c\n",
            "ta-lib/src/ta_abstract/ta_def_ui.c\n",
            "ta-lib/src/ta_abstract/templates/\n",
            "ta-lib/src/ta_abstract/templates/ta_x.c.template\n",
            "ta-lib/src/ta_abstract/templates/ta_java_defs.h.template\n",
            "ta-lib/src/ta_abstract/templates/excel_glue.c.template\n",
            "ta-lib/src/ta_abstract/templates/ta_group_idx.c.template\n",
            "ta-lib/src/ta_abstract/templates/ta_frame.c.template\n",
            "ta-lib/src/ta_abstract/templates/CoreAnnotated.java.template\n",
            "ta-lib/src/ta_abstract/templates/ta_func.h.template\n",
            "ta-lib/src/ta_abstract/templates/ta_frame.h.template\n",
            "ta-lib/src/ta_abstract/templates/Makefile.am.template\n",
            "ta-lib/src/ta_abstract/templates/ta_func_api.c.template\n",
            "ta-lib/src/ta_abstract/templates/ta_func.swg.template\n",
            "ta-lib/src/ta_abstract/templates/ta_retcode.c.template\n",
            "ta-lib/src/ta_abstract/ta_java_defs.h\n",
            "ta-lib/src/Makefile.am\n",
            "ta-lib/src/tools/\n",
            "ta-lib/src/tools/ta_regtest/\n",
            "ta-lib/src/tools/ta_regtest/test_util.c\n",
            "ta-lib/src/tools/ta_regtest/ta_test_func.h\n",
            "ta-lib/src/tools/ta_regtest/test_data.c\n",
            "ta-lib/src/tools/ta_regtest/ta_gDataHigh.c\n",
            "ta-lib/src/tools/ta_regtest/Makefile.in\n",
            "ta-lib/src/tools/ta_regtest/test_internals.c\n",
            "ta-lib/src/tools/ta_regtest/Makefile.am\n",
            "ta-lib/src/tools/ta_regtest/ta_regtest.c\n",
            "ta-lib/src/tools/ta_regtest/ta_gDataOpen.c\n",
            "ta-lib/src/tools/ta_regtest/ta_gDataClose.c\n",
            "ta-lib/src/tools/ta_regtest/test_abstract.c\n",
            "ta-lib/src/tools/ta_regtest/ta_test_func/\n",
            "ta-lib/src/tools/ta_regtest/ta_test_func/test_bbands.c\n",
            "ta-lib/src/tools/ta_regtest/ta_test_func/test_stddev.c\n",
            "ta-lib/src/tools/ta_regtest/ta_test_func/test_1in_2out.c\n",
            "ta-lib/src/tools/ta_regtest/ta_test_func/test_sar.c\n",
            "ta-lib/src/tools/ta_regtest/ta_test_func/test_1in_1out.c\n",
            "ta-lib/src/tools/ta_regtest/ta_test_func/test_trange.c\n",
            "ta-lib/src/tools/ta_regtest/ta_test_func/test_macd.c\n",
            "ta-lib/src/tools/ta_regtest/ta_test_func/test_po.c\n",
            "ta-lib/src/tools/ta_regtest/ta_test_func/test_per_hlc.c\n",
            "ta-lib/src/tools/ta_regtest/ta_test_func/test_mom.c\n",
            "ta-lib/src/tools/ta_regtest/ta_test_func/test_per_ohlc.c\n",
            "ta-lib/src/tools/ta_regtest/ta_test_func/test_adx.c\n",
            "ta-lib/src/tools/ta_regtest/ta_test_func/test_candlestick.c\n",
            "ta-lib/src/tools/ta_regtest/ta_test_func/test_rsi.c\n",
            "ta-lib/src/tools/ta_regtest/ta_test_func/test_per_ema.c\n",
            "ta-lib/src/tools/ta_regtest/ta_test_func/test_minmax.c\n",
            "ta-lib/src/tools/ta_regtest/ta_test_func/test_per_hlcv.c\n",
            "ta-lib/src/tools/ta_regtest/ta_test_func/test_per_hl.c\n",
            "ta-lib/src/tools/ta_regtest/ta_test_func/test_stoch.c\n",
            "ta-lib/src/tools/ta_regtest/ta_test_func/test_ma.c\n",
            "ta-lib/src/tools/ta_regtest/ta_error_number.h\n",
            "ta-lib/src/tools/ta_regtest/ta_test_priv.h\n",
            "ta-lib/src/tools/ta_regtest/ReadMe.txt\n",
            "ta-lib/src/tools/ta_regtest/ta_gDataLow.c\n",
            "ta-lib/src/tools/Makefile.in\n",
            "ta-lib/src/tools/Makefile.am\n",
            "ta-lib/src/tools/gen_code/\n",
            "ta-lib/src/tools/gen_code/java/\n",
            "ta-lib/src/tools/gen_code/java/PrettyCode.java\n",
            "ta-lib/src/tools/gen_code/java/Main.java\n",
            "ta-lib/src/tools/gen_code/gen_code.c\n",
            "ta-lib/src/tools/gen_code/Makefile.in\n",
            "ta-lib/src/tools/gen_code/Makefile.am\n",
            "ta-lib/src/tools/gen_code/mcpp.exe\n",
            "/content/ta-lib\n",
            "checking for a BSD-compatible install... /usr/bin/install -c\n",
            "checking whether build environment is sane... yes\n",
            "checking for a thread-safe mkdir -p... /usr/bin/mkdir -p\n",
            "checking for gawk... no\n",
            "checking for mawk... mawk\n",
            "checking whether make sets $(MAKE)... yes\n",
            "checking for gcc... gcc\n",
            "checking for C compiler default output file name... a.out\n",
            "checking whether the C compiler works... yes\n",
            "checking whether we are cross compiling... no\n",
            "checking for suffix of executables... \n",
            "checking for suffix of object files... o\n",
            "checking whether we are using the GNU C compiler... yes\n",
            "checking whether gcc accepts -g... yes\n",
            "checking for gcc option to accept ISO C89... none needed\n",
            "checking for style of include used by make... GNU\n",
            "checking dependency style of gcc... gcc3\n",
            "checking build system type... x86_64-unknown-linux-gnu\n",
            "checking host system type... x86_64-unknown-linux-gnu\n",
            "checking for a sed that does not truncate output... /usr/bin/sed\n",
            "checking for grep that handles long lines and -e... /usr/bin/grep\n",
            "checking for egrep... /usr/bin/grep -E\n",
            "checking for ld used by gcc... /usr/bin/ld\n",
            "checking if the linker (/usr/bin/ld) is GNU ld... yes\n",
            "checking for /usr/bin/ld option to reload object files... -r\n",
            "checking for BSD-compatible nm... /usr/bin/nm -B\n",
            "checking whether ln -s works... yes\n",
            "checking how to recognise dependent libraries... pass_all\n",
            "checking how to run the C preprocessor... gcc -E\n",
            "checking for ANSI C header files... yes\n",
            "checking for sys/types.h... yes\n",
            "checking for sys/stat.h... yes\n",
            "checking for stdlib.h... yes\n",
            "checking for string.h... yes\n",
            "checking for memory.h... yes\n",
            "checking for strings.h... yes\n",
            "checking for inttypes.h... yes\n",
            "checking for stdint.h... yes\n",
            "checking for unistd.h... yes\n",
            "checking dlfcn.h usability... yes\n",
            "checking dlfcn.h presence... yes\n",
            "checking for dlfcn.h... yes\n",
            "checking for g++... g++\n",
            "checking whether we are using the GNU C++ compiler... yes\n",
            "checking whether g++ accepts -g... yes\n",
            "checking dependency style of g++... gcc3\n",
            "checking how to run the C++ preprocessor... g++ -E\n",
            "checking for g77... no\n",
            "checking for xlf... no\n",
            "checking for f77... f77\n",
            "checking whether we are using the GNU Fortran 77 compiler... yes\n",
            "checking whether f77 accepts -g... yes\n",
            "checking the maximum length of command line arguments... 32768\n",
            "checking command to parse /usr/bin/nm -B output from gcc object... ok\n",
            "checking for objdir... .libs\n",
            "checking for ar... ar\n",
            "checking for ranlib... ranlib\n",
            "checking for strip... strip\n",
            "checking if gcc supports -fno-rtti -fno-exceptions... no\n",
            "checking for gcc option to produce PIC... -fPIC\n",
            "checking if gcc PIC flag -fPIC works... yes\n",
            "checking if gcc static flag -static works... yes\n",
            "checking if gcc supports -c -o file.o... yes\n",
            "checking whether the gcc linker (/usr/bin/ld -m elf_x86_64) supports shared libraries... yes\n",
            "checking whether -lc should be explicitly linked in... no\n",
            "checking dynamic linker characteristics... GNU/Linux ld.so\n",
            "checking how to hardcode library paths into programs... immediate\n",
            "checking whether stripping libraries is possible... yes\n",
            "checking if libtool supports shared libraries... yes\n",
            "checking whether to build shared libraries... yes\n",
            "checking whether to build static libraries... yes\n",
            "configure: creating libtool\n",
            "appending configuration tag \"CXX\" to libtool\n",
            "checking for ld used by g++... /usr/bin/ld -m elf_x86_64\n",
            "checking if the linker (/usr/bin/ld -m elf_x86_64) is GNU ld... yes\n",
            "checking whether the g++ linker (/usr/bin/ld -m elf_x86_64) supports shared libraries... yes\n",
            "checking for g++ option to produce PIC... -fPIC\n",
            "checking if g++ PIC flag -fPIC works... yes\n",
            "checking if g++ static flag -static works... yes\n",
            "checking if g++ supports -c -o file.o... yes\n",
            "checking whether the g++ linker (/usr/bin/ld -m elf_x86_64) supports shared libraries... yes\n",
            "checking dynamic linker characteristics... GNU/Linux ld.so\n",
            "checking how to hardcode library paths into programs... immediate\n",
            "appending configuration tag \"F77\" to libtool\n",
            "checking if libtool supports shared libraries... yes\n",
            "checking whether to build shared libraries... yes\n",
            "checking whether to build static libraries... yes\n",
            "checking for f77 option to produce PIC... -fPIC\n",
            "checking if f77 PIC flag -fPIC works... yes\n",
            "checking if f77 static flag -static works... yes\n",
            "checking if f77 supports -c -o file.o... yes\n",
            "checking whether the f77 linker (/usr/bin/ld -m elf_x86_64) supports shared libraries... yes\n",
            "checking dynamic linker characteristics... GNU/Linux ld.so\n",
            "checking how to hardcode library paths into programs... immediate\n",
            "checking for dlopen in -ldl... yes\n",
            "checking for pthread_create in -lpthread... yes\n",
            "checking for ANSI C header files... (cached) yes\n",
            "checking float.h usability... yes\n",
            "checking float.h presence... yes\n",
            "checking for float.h... yes\n",
            "checking for inttypes.h... (cached) yes\n",
            "checking limits.h usability... yes\n",
            "checking limits.h presence... yes\n",
            "checking for limits.h... yes\n",
            "checking locale.h usability... yes\n",
            "checking locale.h presence... yes\n",
            "checking for locale.h... yes\n",
            "checking stddef.h usability... yes\n",
            "checking stddef.h presence... yes\n",
            "checking for stddef.h... yes\n",
            "checking for stdint.h... (cached) yes\n",
            "checking for stdlib.h... (cached) yes\n",
            "checking for string.h... (cached) yes\n",
            "checking for unistd.h... (cached) yes\n",
            "checking wchar.h usability... yes\n",
            "checking wchar.h presence... yes\n",
            "checking for wchar.h... yes\n",
            "checking wctype.h usability... yes\n",
            "checking wctype.h presence... yes\n",
            "checking for wctype.h... yes\n",
            "checking for an ANSI C-conforming const... yes\n",
            "checking for size_t... yes\n",
            "checking whether struct tm is in sys/time.h or time.h... time.h\n",
            "checking for working volatile... yes\n",
            "checking for ptrdiff_t... yes\n",
            "checking return type of signal handlers... void\n",
            "checking for working strcoll... yes\n",
            "checking for strftime... yes\n",
            "checking for working strtod... yes\n",
            "checking for vprintf... yes\n",
            "checking for _doprnt... no\n",
            "checking for floor... no\n",
            "checking for isascii... yes\n",
            "checking for localeconv... yes\n",
            "checking for mblen... yes\n",
            "checking for memmove... yes\n",
            "checking for memset... yes\n",
            "checking for modf... yes\n",
            "checking for pow... no\n",
            "checking for sqrt... no\n",
            "checking for strcasecmp... yes\n",
            "checking for strchr... yes\n",
            "checking for strerror... yes\n",
            "checking for strncasecmp... yes\n",
            "checking for strrchr... yes\n",
            "checking for strstr... yes\n",
            "checking for strtol... yes\n",
            "checking for strtoul... yes\n",
            "configure: creating ./config.status\n",
            "config.status: creating Makefile\n",
            "config.status: creating src/Makefile\n",
            "config.status: creating src/ta_abstract/Makefile\n",
            "config.status: creating src/ta_common/Makefile\n",
            "config.status: creating src/ta_func/Makefile\n",
            "config.status: creating src/tools/Makefile\n",
            "config.status: creating src/tools/gen_code/Makefile\n",
            "config.status: creating src/tools/ta_regtest/Makefile\n",
            "config.status: creating ta-lib-config\n",
            "config.status: creating ta-lib.spec\n",
            "config.status: creating ta-lib.dpkg\n",
            "config.status: creating include/ta_config.h\n",
            "config.status: include/ta_config.h is unchanged\n",
            "config.status: executing depfiles commands\n",
            "Making all in src\n",
            "make[1]: Entering directory '/content/ta-lib/src'\n",
            "Making all in ta_abstract\n",
            "make[2]: Entering directory '/content/ta-lib/src/ta_abstract'\n",
            "make[2]: Nothing to be done for 'all'.\n",
            "make[2]: Leaving directory '/content/ta-lib/src/ta_abstract'\n",
            "Making all in ta_common\n",
            "make[2]: Entering directory '/content/ta-lib/src/ta_common'\n",
            "make[2]: Nothing to be done for 'all'.\n",
            "make[2]: Leaving directory '/content/ta-lib/src/ta_common'\n",
            "Making all in ta_func\n",
            "make[2]: Entering directory '/content/ta-lib/src/ta_func'\n",
            "make[2]: Nothing to be done for 'all'.\n",
            "make[2]: Leaving directory '/content/ta-lib/src/ta_func'\n",
            "make[2]: Entering directory '/content/ta-lib/src'\n",
            "make[2]: Nothing to be done for 'all-am'.\n",
            "make[2]: Leaving directory '/content/ta-lib/src'\n",
            "make[1]: Leaving directory '/content/ta-lib/src'\n",
            "Making all in src/tools\n",
            "make[1]: Entering directory '/content/ta-lib/src/tools'\n",
            "Making all in gen_code\n",
            "make[2]: Entering directory '/content/ta-lib/src/tools/gen_code'\n",
            "make  gen_code\n",
            "make[3]: Entering directory '/content/ta-lib/src/tools/gen_code'\n",
            "make[3]: 'gen_code' is up to date.\n",
            "make[3]: Leaving directory '/content/ta-lib/src/tools/gen_code'\n",
            "cp gen_code ../../../bin\n",
            "make[2]: Leaving directory '/content/ta-lib/src/tools/gen_code'\n",
            "Making all in ta_regtest\n",
            "make[2]: Entering directory '/content/ta-lib/src/tools/ta_regtest'\n",
            "make[2]: Nothing to be done for 'all'.\n",
            "make[2]: Leaving directory '/content/ta-lib/src/tools/ta_regtest'\n",
            "make[2]: Entering directory '/content/ta-lib/src/tools'\n",
            "make[2]: Nothing to be done for 'all-am'.\n",
            "make[2]: Leaving directory '/content/ta-lib/src/tools'\n",
            "make[1]: Leaving directory '/content/ta-lib/src/tools'\n",
            "make[1]: Entering directory '/content/ta-lib'\n",
            "make[1]: Nothing to be done for 'all-am'.\n",
            "make[1]: Leaving directory '/content/ta-lib'\n",
            "Making install in src\n",
            "make[1]: Entering directory '/content/ta-lib/src'\n",
            "Making install in ta_abstract\n",
            "make[2]: Entering directory '/content/ta-lib/src/ta_abstract'\n",
            "make[3]: Entering directory '/content/ta-lib/src/ta_abstract'\n",
            "make[3]: Nothing to be done for 'install-exec-am'.\n",
            "test -z \"/usr/include/ta-lib/\" || /usr/bin/mkdir -p \"/usr/include/ta-lib/\"\n",
            " /usr/bin/install -c -m 644 '../../include/ta_defs.h' '/usr/include/ta-lib//ta_defs.h'\n",
            " /usr/bin/install -c -m 644 '../../include/ta_libc.h' '/usr/include/ta-lib//ta_libc.h'\n",
            " /usr/bin/install -c -m 644 '../../include/ta_abstract.h' '/usr/include/ta-lib//ta_abstract.h'\n",
            "make[3]: Leaving directory '/content/ta-lib/src/ta_abstract'\n",
            "make[2]: Leaving directory '/content/ta-lib/src/ta_abstract'\n",
            "Making install in ta_common\n",
            "make[2]: Entering directory '/content/ta-lib/src/ta_common'\n",
            "make[3]: Entering directory '/content/ta-lib/src/ta_common'\n",
            "make[3]: Nothing to be done for 'install-exec-am'.\n",
            "test -z \"/usr/include/ta-lib/\" || /usr/bin/mkdir -p \"/usr/include/ta-lib/\"\n",
            " /usr/bin/install -c -m 644 '../../include/ta_defs.h' '/usr/include/ta-lib//ta_defs.h'\n",
            " /usr/bin/install -c -m 644 '../../include/ta_libc.h' '/usr/include/ta-lib//ta_libc.h'\n",
            " /usr/bin/install -c -m 644 '../../include/ta_common.h' '/usr/include/ta-lib//ta_common.h'\n",
            "make[3]: Leaving directory '/content/ta-lib/src/ta_common'\n",
            "make[2]: Leaving directory '/content/ta-lib/src/ta_common'\n",
            "Making install in ta_func\n",
            "make[2]: Entering directory '/content/ta-lib/src/ta_func'\n",
            "make[3]: Entering directory '/content/ta-lib/src/ta_func'\n",
            "make[3]: Nothing to be done for 'install-exec-am'.\n",
            "test -z \"/usr/include/ta-lib/\" || /usr/bin/mkdir -p \"/usr/include/ta-lib/\"\n",
            " /usr/bin/install -c -m 644 '../../include/ta_defs.h' '/usr/include/ta-lib//ta_defs.h'\n",
            " /usr/bin/install -c -m 644 '../../include/ta_libc.h' '/usr/include/ta-lib//ta_libc.h'\n",
            " /usr/bin/install -c -m 644 '../../include/ta_func.h' '/usr/include/ta-lib//ta_func.h'\n",
            "make[3]: Leaving directory '/content/ta-lib/src/ta_func'\n",
            "make[2]: Leaving directory '/content/ta-lib/src/ta_func'\n",
            "make[2]: Entering directory '/content/ta-lib/src'\n",
            "make[3]: Entering directory '/content/ta-lib/src'\n",
            "test -z \"/usr/lib\" || /usr/bin/mkdir -p \"/usr/lib\"\n",
            " /bin/bash ../libtool --mode=install /usr/bin/install -c  'libta_lib.la' '/usr/lib/libta_lib.la'\n",
            "/usr/bin/install -c .libs/libta_lib.so.0.0.0 /usr/lib/libta_lib.so.0.0.0\n",
            "(cd /usr/lib && { ln -s -f libta_lib.so.0.0.0 libta_lib.so.0 || { rm -f libta_lib.so.0 && ln -s libta_lib.so.0.0.0 libta_lib.so.0; }; })\n",
            "(cd /usr/lib && { ln -s -f libta_lib.so.0.0.0 libta_lib.so || { rm -f libta_lib.so && ln -s libta_lib.so.0.0.0 libta_lib.so; }; })\n",
            "/usr/bin/install -c .libs/libta_lib.lai /usr/lib/libta_lib.la\n",
            "/usr/bin/install -c .libs/libta_lib.a /usr/lib/libta_lib.a\n",
            "chmod 644 /usr/lib/libta_lib.a\n",
            "ranlib /usr/lib/libta_lib.a\n",
            "PATH=\"$PATH:/sbin\" ldconfig -n /usr/lib\n",
            "----------------------------------------------------------------------\n",
            "Libraries have been installed in:\n",
            "   /usr/lib\n",
            "\n",
            "If you ever happen to want to link against installed libraries\n",
            "in a given directory, LIBDIR, you must either use libtool, and\n",
            "specify the full pathname of the library, or use the `-LLIBDIR'\n",
            "flag during linking and do at least one of the following:\n",
            "   - add LIBDIR to the `LD_LIBRARY_PATH' environment variable\n",
            "     during execution\n",
            "   - add LIBDIR to the `LD_RUN_PATH' environment variable\n",
            "     during linking\n",
            "   - use the `-Wl,--rpath -Wl,LIBDIR' linker flag\n",
            "   - have your system administrator add LIBDIR to `/etc/ld.so.conf'\n",
            "\n",
            "See any operating system documentation about shared libraries for\n",
            "more information, such as the ld(1) and ld.so(8) manual pages.\n",
            "----------------------------------------------------------------------\n",
            "make[3]: Nothing to be done for 'install-data-am'.\n",
            "make[3]: Leaving directory '/content/ta-lib/src'\n",
            "make[2]: Leaving directory '/content/ta-lib/src'\n",
            "make[1]: Leaving directory '/content/ta-lib/src'\n",
            "Making install in src/tools\n",
            "make[1]: Entering directory '/content/ta-lib/src/tools'\n",
            "Making install in gen_code\n",
            "make[2]: Entering directory '/content/ta-lib/src/tools/gen_code'\n",
            "make  gen_code\n",
            "make[3]: Entering directory '/content/ta-lib/src/tools/gen_code'\n",
            "make[3]: 'gen_code' is up to date.\n",
            "make[3]: Leaving directory '/content/ta-lib/src/tools/gen_code'\n",
            "cp gen_code ../../../bin\n",
            "make[3]: Entering directory '/content/ta-lib/src/tools/gen_code'\n",
            "make[3]: Nothing to be done for 'install-exec-am'.\n",
            "make[3]: Nothing to be done for 'install-data-am'.\n",
            "make[3]: Leaving directory '/content/ta-lib/src/tools/gen_code'\n",
            "make[2]: Leaving directory '/content/ta-lib/src/tools/gen_code'\n",
            "Making install in ta_regtest\n",
            "make[2]: Entering directory '/content/ta-lib/src/tools/ta_regtest'\n",
            "make[3]: Entering directory '/content/ta-lib/src/tools/ta_regtest'\n",
            "make[3]: Nothing to be done for 'install-exec-am'.\n",
            "make[3]: Nothing to be done for 'install-data-am'.\n",
            "make[3]: Leaving directory '/content/ta-lib/src/tools/ta_regtest'\n",
            "make[2]: Leaving directory '/content/ta-lib/src/tools/ta_regtest'\n",
            "make[2]: Entering directory '/content/ta-lib/src/tools'\n",
            "make[3]: Entering directory '/content/ta-lib/src/tools'\n",
            "make[3]: Nothing to be done for 'install-exec-am'.\n",
            "make[3]: Nothing to be done for 'install-data-am'.\n",
            "make[3]: Leaving directory '/content/ta-lib/src/tools'\n",
            "make[2]: Leaving directory '/content/ta-lib/src/tools'\n",
            "make[1]: Leaving directory '/content/ta-lib/src/tools'\n",
            "make[1]: Entering directory '/content/ta-lib'\n",
            "make[2]: Entering directory '/content/ta-lib'\n",
            "test -z \"/usr/bin\" || /usr/bin/mkdir -p \"/usr/bin\"\n",
            " /usr/bin/install -c 'ta-lib-config' '/usr/bin/ta-lib-config'\n",
            "make[2]: Nothing to be done for 'install-data-am'.\n",
            "make[2]: Leaving directory '/content/ta-lib'\n",
            "make[1]: Leaving directory '/content/ta-lib'\n",
            "Requirement already satisfied: Ta-Lib in /usr/local/lib/python3.10/dist-packages (0.4.27)\n",
            "Requirement already satisfied: numpy in /usr/local/lib/python3.10/dist-packages (from Ta-Lib) (1.22.4)\n"
          ]
        }
      ]
    },
    {
      "cell_type": "code",
      "execution_count": 2,
      "metadata": {
        "colab": {
          "base_uri": "https://localhost:8080/"
        },
        "id": "k3SwCERnjlL1",
        "outputId": "12903576-0c5f-4966-9f1c-42355064baa8"
      },
      "outputs": [
        {
          "output_type": "stream",
          "name": "stdout",
          "text": [
            "Tensorflow version: 2.12.0\n"
          ]
        },
        {
          "output_type": "stream",
          "name": "stderr",
          "text": [
            "<ipython-input-2-fbc437c4eb20>:12: MatplotlibDeprecationWarning: The seaborn styles shipped by Matplotlib are deprecated since 3.6, as they no longer correspond to the styles shipped by seaborn. However, they will remain available as 'seaborn-v0_8-<style>'. Alternatively, directly use the seaborn API instead.\n",
            "  plt.style.use('seaborn')\n"
          ]
        }
      ],
      "source": [
        "# Packages\n",
        "\n",
        "import numpy as np\n",
        "import pandas as pd\n",
        "import tensorflow as tf\n",
        "import yfinance as yf\n",
        "from tensorflow.keras.models import *\n",
        "from tensorflow.keras.layers import *\n",
        "print('Tensorflow version: {}'.format(tf.__version__))\n",
        "\n",
        "import matplotlib.pyplot as plt\n",
        "plt.style.use('seaborn')\n",
        "\n",
        "# Preprocessing data\n",
        "from talib import abstract\n",
        "\n",
        "import warnings\n",
        "warnings.filterwarnings('ignore')"
      ]
    },
    {
      "cell_type": "markdown",
      "source": [
        "# Parameters"
      ],
      "metadata": {
        "id": "ySisYC4im20o"
      }
    },
    {
      "cell_type": "markdown",
      "metadata": {
        "id": "P9qstqiUDKaF"
      },
      "source": [
        "## Hyperparameters"
      ]
    },
    {
      "cell_type": "code",
      "execution_count": 3,
      "metadata": {
        "id": "rsuRqJrfDI0A"
      },
      "outputs": [],
      "source": [
        "seq_len = 128"
      ]
    },
    {
      "cell_type": "markdown",
      "source": [
        "## Model parameters\n"
      ],
      "metadata": {
        "id": "qQadVNzCmt63"
      }
    },
    {
      "cell_type": "code",
      "source": [
        "# Data download\n",
        "symbol = \"EURUSD=X\"\n",
        "period ='60d'\n",
        "interval ='15m'\n",
        "\n",
        "# Tensorflow model\n",
        "epochs = 100"
      ],
      "metadata": {
        "id": "87gSftBWm0-L"
      },
      "execution_count": 4,
      "outputs": []
    },
    {
      "cell_type": "markdown",
      "source": [
        "# Data handling"
      ],
      "metadata": {
        "id": "qP8MUX-5m_t7"
      }
    },
    {
      "cell_type": "markdown",
      "metadata": {
        "id": "FuZ6aP5SrOpe"
      },
      "source": [
        "## Load data from YFinance"
      ]
    },
    {
      "cell_type": "code",
      "source": [
        "# Define function for downloading finance data from yfinance\n",
        "\n",
        "def get_yfinance_hist(symbol = \"EURUSD=X\", period ='1mo', interval ='15m', show_plot = True ):\n",
        "    df_raw = yf.download(symbol,period= period ,interval=interval)\n",
        "    df_raw[\"returns\"] = np.log(df_raw.Close.div(df_raw.Close.shift(1)))\n",
        "    df_raw.dropna(how=\"any\",inplace=True)\n",
        "    df_raw[\"target\"] = np.where(df_raw[\"returns\"].shift(-1) > 0, 1, 0)\n",
        "    df_raw = df_raw.drop('Volume', axis=1)\n",
        "\n",
        "    if(show_plot):\n",
        "      plot_cols = ['Close', 'target', 'Open', 'High', 'Low']\n",
        "      plot_features = df_raw[plot_cols]\n",
        "      plot_features.index = df_raw.index\n",
        "      _ = plot_features.plot(subplots=True)\n",
        "\n",
        "    return df_raw\n",
        "\n",
        "\n",
        "df = get_yfinance_hist(symbol = symbol, period = period, interval= interval )"
      ],
      "metadata": {
        "colab": {
          "base_uri": "https://localhost:8080/",
          "height": 505
        },
        "id": "_UQXy9dnnkHl",
        "outputId": "36ee0b23-d854-475c-deba-993beabcca96"
      },
      "execution_count": 5,
      "outputs": [
        {
          "output_type": "stream",
          "name": "stdout",
          "text": [
            "\r[*********************100%***********************]  1 of 1 completed\n"
          ]
        },
        {
          "output_type": "display_data",
          "data": {
            "text/plain": [
              "<Figure size 800x550 with 5 Axes>"
            ],
            "image/png": "[encoded data removed]"
          },
          "metadata": {}
        }
      ]
    },
    {
      "cell_type": "markdown",
      "source": [
        "## Fetures function"
      ],
      "metadata": {
        "id": "rJTk5P7KflAg"
      }
    },
    {
      "cell_type": "code",
      "source": [
        "def create_feature(data):\n",
        "  # SD based features\n",
        "  for i in range(5, 20, 5):\n",
        "      col_name = 'std_' + str(i)\n",
        "      data[col_name] = data['Close'].rolling(window=i).std()\n",
        "\n",
        "  # MA based features\n",
        "  for i in range(10, 30, 5):\n",
        "      col_name = 'ma_' + str(i)\n",
        "      data[col_name] = data['Close'].rolling(window=i).mean()\n",
        "\n",
        "  # Daily pct change based features\n",
        "  for i in range(3, 12, 3):\n",
        "      col_name = 'pct_' + str(i)\n",
        "      data[col_name] = data['Close'].pct_change().rolling(i).sum()\n",
        "\n",
        "  # Intraday movement\n",
        "  col_name = 'co'\n",
        "  data[col_name] = data['Close'] - data['Open']\n",
        "\n",
        "  data['Ask_Dir'] = np.where(data['returns'].shift(-1) > data.returns, 1, 0)\n",
        "  data['SMA'] = abstract.SMA(data['returns'], timeperiod=12)\n",
        "  data['SMA_Dir'] = np.where(data['SMA'].shift(-1) > data.SMA, 1, 0)\n",
        "  data['RSI'] = abstract.RSI(data['returns'], timeperiod=12)\n",
        "  data['RSI_Dir'] = np.where(data['RSI'].shift(-1) > data.RSI, 1, 0)\n",
        "  data['fastk'], data['fastd'] = abstract.STOCHRSI(data[\"returns\"], timeperiod=14, fastk_period=5, fastd_period=3, fastd_matype=0)\n",
        "  data['fastk_Dir'] = np.where(data['fastk'].shift(-1) > data.fastk, 1, 0)\n",
        "  data['fastd_Dir'] = np.where(data['fastd'].shift(-1) > data.fastd, 1, 0)\n",
        "\n",
        "  data.dropna(inplace = True)\n",
        "\n",
        "\n",
        "  return data\n",
        "\n",
        "\n",
        "df = create_feature(df)"
      ],
      "metadata": {
        "id": "evx-1SZSi3Gq"
      },
      "execution_count": 6,
      "outputs": []
    },
    {
      "cell_type": "markdown",
      "metadata": {
        "id": "atHAT3QvtxvY"
      },
      "source": [
        "## Calculate normalized percentage change for all columns"
      ]
    },
    {
      "cell_type": "code",
      "execution_count": 7,
      "metadata": {
        "id": "RRQBi2S2o71f"
      },
      "outputs": [],
      "source": [
        "'''Calculate percentage change'''\n",
        "\n",
        "df['Open'] = df['Open'].pct_change() # Create arithmetic returns column\n",
        "df['High'] = df['High'].pct_change() # Create arithmetic returns column\n",
        "df['Low'] = df['Low'].pct_change() # Create arithmetic returns column\n",
        "df['Close'] = df['Close'].pct_change() # Create arithmetic returns column\n",
        "\n",
        "df.dropna(how='any', axis=0, inplace=True) # Drop all rows with NaN values\n",
        "\n",
        "###############################################################################\n",
        "'''Normalize price columns'''\n",
        "\n",
        "min_return = min(df[['Open', 'High', 'Low', 'Close']].min(axis=0))\n",
        "max_return = max(df[['Open', 'High', 'Low', 'Close']].max(axis=0))\n",
        "\n",
        "# Min-max normalize price columns (0-1 range)\n",
        "df['Open'] = (df['Open'] - min_return) / (max_return - min_return)\n",
        "df['High'] = (df['High'] - min_return) / (max_return - min_return)\n",
        "df['Low'] = (df['Low'] - min_return) / (max_return - min_return)\n",
        "df['Close'] = (df['Close'] - min_return) / (max_return - min_return)\n",
        "\n",
        "###############################################################################\n"
      ]
    },
    {
      "cell_type": "code",
      "source": [
        "df.columns"
      ],
      "metadata": {
        "id": "PxxgHIsxkMKn",
        "outputId": "e629b73c-0978-44e9-b46f-53d7aa49f92d",
        "colab": {
          "base_uri": "https://localhost:8080/"
        }
      },
      "execution_count": 8,
      "outputs": [
        {
          "output_type": "execute_result",
          "data": {
            "text/plain": [
              "Index(['Open', 'High', 'Low', 'Close', 'Adj Close', 'returns', 'target',\n",
              "       'std_5', 'std_10', 'std_15', 'ma_10', 'ma_15', 'ma_20', 'ma_25',\n",
              "       'pct_3', 'pct_6', 'pct_9', 'co', 'Ask_Dir', 'SMA', 'SMA_Dir', 'RSI',\n",
              "       'RSI_Dir', 'fastk', 'fastd', 'fastk_Dir', 'fastd_Dir'],\n",
              "      dtype='object')"
            ]
          },
          "metadata": {},
          "execution_count": 8
        }
      ]
    },
    {
      "cell_type": "markdown",
      "source": [
        "## Split the df dataframe into test, train and validation dataset"
      ],
      "metadata": {
        "id": "6Q4B42G3wO4E"
      }
    },
    {
      "cell_type": "code",
      "source": [
        "df.columns.drop('target')"
      ],
      "metadata": {
        "id": "vBEkKNe9hN5h",
        "outputId": "639914d7-13a3-4d08-d86a-5ec5d912ccbd",
        "colab": {
          "base_uri": "https://localhost:8080/"
        }
      },
      "execution_count": 9,
      "outputs": [
        {
          "output_type": "execute_result",
          "data": {
            "text/plain": [
              "Index(['Open', 'High', 'Low', 'Close', 'Adj Close', 'returns', 'std_5',\n",
              "       'std_10', 'std_15', 'ma_10', 'ma_15', 'ma_20', 'ma_25', 'pct_3',\n",
              "       'pct_6', 'pct_9', 'co', 'Ask_Dir', 'SMA', 'SMA_Dir', 'RSI', 'RSI_Dir',\n",
              "       'fastk', 'fastd', 'fastk_Dir', 'fastd_Dir'],\n",
              "      dtype='object')"
            ]
          },
          "metadata": {},
          "execution_count": 9
        }
      ]
    },
    {
      "cell_type": "code",
      "source": [
        "train_df, val_df, test_df = np.split(df.sample(frac=1, random_state=42),\n",
        "                       [int(.6*len(df)), int(.8*len(df))])\n",
        "X_cols = df.columns.drop('target')\n",
        "y_cols = 'target'\n",
        "\n",
        "df_X_train = train_df[X_cols]\n",
        "df_y_train = train_df[y_cols]\n",
        "\n",
        "df_X_val = val_df[X_cols]\n",
        "df_y_val = val_df[y_cols]\n",
        "\n",
        "df_X_test = test_df[X_cols]\n",
        "df_y_test = test_df[y_cols]"
      ],
      "metadata": {
        "id": "6cNH_ZHauHLq"
      },
      "execution_count": 10,
      "outputs": []
    },
    {
      "cell_type": "code",
      "source": [
        "X_cols"
      ],
      "metadata": {
        "id": "zvUtBqj9qU-F",
        "outputId": "34bfa822-dc7a-48ca-ffc0-e7e51a5ddf58",
        "colab": {
          "base_uri": "https://localhost:8080/"
        }
      },
      "execution_count": 11,
      "outputs": [
        {
          "output_type": "execute_result",
          "data": {
            "text/plain": [
              "Index(['Open', 'High', 'Low', 'Close', 'Adj Close', 'returns', 'std_5',\n",
              "       'std_10', 'std_15', 'ma_10', 'ma_15', 'ma_20', 'ma_25', 'pct_3',\n",
              "       'pct_6', 'pct_9', 'co', 'Ask_Dir', 'SMA', 'SMA_Dir', 'RSI', 'RSI_Dir',\n",
              "       'fastk', 'fastd', 'fastk_Dir', 'fastd_Dir'],\n",
              "      dtype='object')"
            ]
          },
          "metadata": {},
          "execution_count": 11
        }
      ]
    },
    {
      "cell_type": "markdown",
      "source": [
        "## Print the shapes of the datasets"
      ],
      "metadata": {
        "id": "zh_GWhS9v_An"
      }
    },
    {
      "cell_type": "code",
      "source": [
        "\n",
        "# Convert pandas columns into arrays\n",
        "train_data = train_df.values\n",
        "val_data = val_df.values\n",
        "test_data = test_df.values\n",
        "print('Training data shape: {}'.format(train_data.shape))\n",
        "print('Validation data shape: {}'.format(val_data.shape))\n",
        "print('Test data shape: {}'.format(test_data.shape))\n"
      ],
      "metadata": {
        "colab": {
          "base_uri": "https://localhost:8080/"
        },
        "id": "v_slEBd5uPQE",
        "outputId": "b3c428d7-d718-4c79-c98f-554e11adfe6a"
      },
      "execution_count": 12,
      "outputs": [
        {
          "output_type": "stream",
          "name": "stdout",
          "text": [
            "Training data shape: (3387, 27)\n",
            "Validation data shape: (1129, 27)\n",
            "Test data shape: (1130, 27)\n"
          ]
        }
      ]
    },
    {
      "cell_type": "markdown",
      "metadata": {
        "id": "qNVvDDqoCGvn"
      },
      "source": [
        "## Plot daily changes of close prices and volume"
      ]
    },
    {
      "cell_type": "code",
      "execution_count": 13,
      "metadata": {
        "colab": {
          "base_uri": "https://localhost:8080/",
          "height": 487
        },
        "id": "2rXTKyZ2o7yh",
        "outputId": "b1ec3d31-66b3-4065-a169-88a28b9bce54"
      },
      "outputs": [
        {
          "output_type": "execute_result",
          "data": {
            "text/plain": [
              "Text(0, 0.5, 'Normalized Closing Returns')"
            ]
          },
          "metadata": {},
          "execution_count": 13
        },
        {
          "output_type": "display_data",
          "data": {
            "text/plain": [
              "<Figure size 1500x1000 with 1 Axes>"
            ],
            "image/png": "[encoded data removed]"
          },
          "metadata": {}
        }
      ],
      "source": [
        "fig = plt.figure(figsize=(15,10))\n",
        "st = fig.suptitle(\"Data Separation\", fontsize=20)\n",
        "st.set_y(0.92)\n",
        "\n",
        "###############################################################################\n",
        "\n",
        "ax1 = fig.add_subplot(211)\n",
        "ax1.plot(np.arange(train_data.shape[0]), train_df['Close'], label='Training data')\n",
        "\n",
        "ax1.plot(np.arange(train_data.shape[0],\n",
        "                   train_data.shape[0]+val_data.shape[0]), val_df['Close'], label='Validation data')\n",
        "\n",
        "ax1.plot(np.arange(train_data.shape[0]+val_data.shape[0],\n",
        "                   train_data.shape[0]+val_data.shape[0]+test_data.shape[0]), test_df['Close'], label='Test data')\n",
        "ax1.set_xlabel('Date')\n",
        "ax1.set_ylabel('Normalized Closing Returns')\n"
      ]
    },
    {
      "cell_type": "markdown",
      "metadata": {
        "id": "wGuq3lElCTTI"
      },
      "source": [
        "## Create chunks of training, validation and test data"
      ]
    },
    {
      "cell_type": "code",
      "execution_count": 14,
      "metadata": {
        "colab": {
          "base_uri": "https://localhost:8080/"
        },
        "id": "JNp3SeCv8IIf",
        "outputId": "1856a2eb-604f-4974-db66-d895b8261033"
      },
      "outputs": [
        {
          "output_type": "stream",
          "name": "stdout",
          "text": [
            "(3259, 128, 26) (3259,)\n",
            "(1001, 128, 26) (1001,)\n"
          ]
        }
      ],
      "source": [
        "# Training data\n",
        "X_train, y_train = [], []\n",
        "for i in range(seq_len, len(train_data)):\n",
        "  X_train.append(df_X_train[i-seq_len:i]) # Chunks of training data with a length of 128 df-rows\n",
        "  y_train.append(df_y_train[i]) #Value of 4th column (Close Price) of df-row 128+1\n",
        "X_train, y_train = np.array(X_train), np.array(y_train)\n",
        "\n",
        "###############################################################################\n",
        "\n",
        "# Validation data\n",
        "X_val, y_val = [], []\n",
        "for i in range(seq_len, len(val_data)):\n",
        "    X_val.append(df_X_val[i-seq_len:i])\n",
        "    y_val.append(df_y_val[i])\n",
        "X_val, y_val = np.array(X_val), np.array(y_val)\n",
        "\n",
        "###############################################################################\n",
        "\n",
        "# Test data\n",
        "X_test, y_test = [], []\n",
        "for i in range(seq_len, len(test_data)):\n",
        "    X_test.append(df_X_test[i-seq_len:i])\n",
        "    y_test.append(df_y_test[i])\n",
        "X_test, y_test = np.array(X_test), np.array(y_test)\n",
        "\n",
        "print(X_train.shape, y_train.shape)\n",
        "print(X_val.shape, y_val.shape)"
      ]
    },
    {
      "cell_type": "markdown",
      "metadata": {
        "id": "o33mK855CwmG"
      },
      "source": [
        "## 1D Convolution layers for a CNN+LSTM model\n"
      ]
    },
    {
      "cell_type": "code",
      "execution_count": 15,
      "metadata": {
        "id": "ZuZHtgdw8IGc"
      },
      "outputs": [],
      "source": [
        "def Inception_A(layer_in, c7):\n",
        "  branch1x1_1 = Conv1D(c7, kernel_size=1, padding=\"same\", use_bias=False)(layer_in)\n",
        "  branch1x1 = BatchNormalization()(branch1x1_1)\n",
        "  branch1x1 = ReLU()(branch1x1)\n",
        "\n",
        "  branch5x5_1 = Conv1D(c7, kernel_size=1, padding='same', use_bias=False)(layer_in)\n",
        "  branch5x5 = BatchNormalization()(branch5x5_1)\n",
        "  branch5x5 = ReLU()(branch5x5)\n",
        "  branch5x5 = Conv1D(c7, kernel_size=5, padding='same', use_bias=False)(branch5x5)\n",
        "  branch5x5 = BatchNormalization()(branch5x5)\n",
        "  branch5x5 = ReLU()(branch5x5)\n",
        "\n",
        "  branch3x3_1 = Conv1D(c7, kernel_size=1, padding='same', use_bias=False)(layer_in)\n",
        "  branch3x3 = BatchNormalization()(branch3x3_1)\n",
        "  branch3x3 = ReLU()(branch3x3)\n",
        "  branch3x3 = Conv1D(c7, kernel_size=3, padding='same', use_bias=False)(branch3x3)\n",
        "  branch3x3 = BatchNormalization()(branch3x3)\n",
        "  branch3x3 = ReLU()(branch3x3)\n",
        "  branch3x3 = Conv1D(c7, kernel_size=3, padding='same', use_bias=False)(branch3x3)\n",
        "  branch3x3 = BatchNormalization()(branch3x3)\n",
        "  branch3x3 = ReLU()(branch3x3)\n",
        "\n",
        "  branch_pool = AveragePooling1D(pool_size=(3), strides=1, padding='same')(layer_in)\n",
        "  branch_pool = Conv1D(c7, kernel_size=1, padding='same', use_bias=False)(branch_pool)\n",
        "  branch_pool = BatchNormalization()(branch_pool)\n",
        "  branch_pool = ReLU()(branch_pool)\n",
        "  outputs = Concatenate(axis=-1)([branch1x1, branch5x5, branch3x3, branch_pool])\n",
        "  return outputs\n",
        "\n",
        "\n",
        "def Inception_B(layer_in, c7):\n",
        "  branch3x3 = Conv1D(c7, kernel_size=3, padding=\"same\", strides=2, use_bias=False)(layer_in)\n",
        "  branch3x3 = BatchNormalization()(branch3x3)\n",
        "  branch3x3 = ReLU()(branch3x3)\n",
        "\n",
        "  branch3x3dbl = Conv1D(c7, kernel_size=1, padding=\"same\", use_bias=False)(layer_in)\n",
        "  branch3x3dbl = BatchNormalization()(branch3x3dbl)\n",
        "  branch3x3dbl = ReLU()(branch3x3dbl)\n",
        "  branch3x3dbl = Conv1D(c7, kernel_size=3, padding=\"same\", use_bias=False)(branch3x3dbl)\n",
        "  branch3x3dbl = BatchNormalization()(branch3x3dbl)\n",
        "  branch3x3dbl = ReLU()(branch3x3dbl)\n",
        "  branch3x3dbl = Conv1D(c7, kernel_size=3, padding=\"same\", strides=2, use_bias=False)(branch3x3dbl)\n",
        "  branch3x3dbl = BatchNormalization()(branch3x3dbl)\n",
        "  branch3x3dbl = ReLU()(branch3x3dbl)\n",
        "\n",
        "  branch_pool = MaxPooling1D(pool_size=3, strides=2, padding=\"same\")(layer_in)\n",
        "\n",
        "  outputs = Concatenate(axis=-1)([branch3x3, branch3x3dbl, branch_pool])\n",
        "  return outputs\n",
        "\n",
        "\n",
        "def Inception_C(layer_in, c7):\n",
        "  branch1x1_1 = Conv1D(c7, kernel_size=1, padding=\"same\", use_bias=False)(layer_in)\n",
        "  branch1x1 = BatchNormalization()(branch1x1_1)\n",
        "  branch1x1 = ReLU()(branch1x1)\n",
        "\n",
        "  branch7x7_1 = Conv1D(c7, kernel_size=1, padding=\"same\", use_bias=False)(layer_in)\n",
        "  branch7x7 = BatchNormalization()(branch7x7_1)\n",
        "  branch7x7 = ReLU()(branch7x7)\n",
        "  branch7x7 = Conv1D(c7, kernel_size=(7), padding=\"same\", use_bias=False)(branch7x7)\n",
        "  branch7x7 = BatchNormalization()(branch7x7)\n",
        "  branch7x7 = ReLU()(branch7x7)\n",
        "  branch7x7 = Conv1D(c7, kernel_size=(1), padding=\"same\", use_bias=False)(branch7x7)\n",
        "  branch7x7 = BatchNormalization()(branch7x7)\n",
        "  branch7x7 = ReLU()(branch7x7)\n",
        "\n",
        "  branch7x7dbl_1 = Conv1D(c7, kernel_size=1, padding=\"same\", use_bias=False)(layer_in)\n",
        "  branch7x7dbl = BatchNormalization()(branch7x7dbl_1)\n",
        "  branch7x7dbl = ReLU()(branch7x7dbl)\n",
        "  branch7x7dbl = Conv1D(c7, kernel_size=(7), padding=\"same\", use_bias=False)(branch7x7dbl)\n",
        "  branch7x7dbl = BatchNormalization()(branch7x7dbl)\n",
        "  branch7x7dbl = ReLU()(branch7x7dbl)\n",
        "  branch7x7dbl = Conv1D(c7, kernel_size=(1), padding=\"same\", use_bias=False)(branch7x7dbl)\n",
        "  branch7x7dbl = BatchNormalization()(branch7x7dbl)\n",
        "  branch7x7dbl = ReLU()(branch7x7dbl)\n",
        "  branch7x7dbl = Conv1D(c7, kernel_size=(7), padding=\"same\", use_bias=False)(branch7x7dbl)\n",
        "  branch7x7dbl = BatchNormalization()(branch7x7dbl)\n",
        "  branch7x7dbl = ReLU()(branch7x7dbl)\n",
        "  branch7x7dbl = Conv1D(c7, kernel_size=(1), padding=\"same\", use_bias=False)(branch7x7dbl)\n",
        "  branch7x7dbl = BatchNormalization()(branch7x7dbl)\n",
        "  branch7x7dbl = ReLU()(branch7x7dbl)\n",
        "\n",
        "  branch_pool = AveragePooling1D(pool_size=3, strides=1, padding='same')(layer_in)\n",
        "  branch_pool = Conv1D(c7, kernel_size=1, padding='same', use_bias=False)(branch_pool)\n",
        "  branch_pool = BatchNormalization()(branch_pool)\n",
        "  branch_pool = ReLU()(branch_pool)\n",
        "\n",
        "  outputs = Concatenate(axis=-1)([branch1x1, branch7x7, branch7x7dbl, branch_pool])\n",
        "  return outputs"
      ]
    },
    {
      "cell_type": "markdown",
      "metadata": {
        "id": "NN-ROnUVD0SS"
      },
      "source": [
        "# **Testing different model architectures**\n"
      ]
    },
    {
      "cell_type": "markdown",
      "source": [
        "## Create function for testing models"
      ],
      "metadata": {
        "id": "z2JddQhhh_k6"
      }
    },
    {
      "cell_type": "code",
      "source": [
        "def run_model(model):\n",
        "  model.summary()\n",
        "  callback = tf.keras.callbacks.EarlyStopping(monitor='val_loss', patience=2)\n",
        "\n",
        "  model.fit(X_train, y_train,\n",
        "                batch_size=2048,\n",
        "                verbose=2,\n",
        "                callbacks=[callback],\n",
        "                epochs=epochs,\n",
        "                shuffle=True,\n",
        "                validation_data=(X_val, y_val),)\n",
        "\n",
        "  ###############################################################################\n",
        "  '''Calculate predictions and metrics'''\n",
        "\n",
        "  #Calculate predication for training, validation and test data\n",
        "  train_pred = model.predict(X_train)\n",
        "  val_pred = model.predict(X_val)\n",
        "  test_pred = model.predict(X_test)\n",
        "\n",
        "  #Print evaluation metrics for all datasets\n",
        "  train_eval = model.evaluate(X_train, y_train, verbose=0)\n",
        "  val_eval = model.evaluate(X_val, y_val, verbose=0)\n",
        "  test_eval = model.evaluate(X_test, y_test, verbose=0)\n",
        "  print(' ')\n",
        "  print('Evaluation metrics')\n",
        "  print('Training Data - Loss: {:.4f}, MAE: {:.4f}, MAPE: {:.4f}, ACC: {:.4f}'.format(train_eval[0], train_eval[1], train_eval[2], train_eval[3]))\n",
        "  print('Validation Data - Loss: {:.4f}, MAE: {:.4f}, MAPE: {:.4f}, ACC: {:.4f}'.format(val_eval[0], val_eval[1], val_eval[2] , val_eval[3]))\n",
        "  print('Test Data - Loss: {:.4f}, MAE: {:.4f}, MAPE: {:.4f}, ACC: {:.4f}'.format(test_eval[0], test_eval[1], test_eval[2], test_eval[3]))\n",
        "\n",
        "  ###############################################################################\n",
        "  '''Display results'''\n",
        "\n",
        "  fig = plt.figure(figsize=(15,15))\n",
        "  st = fig.suptitle(\"Bi-LSTM Model\", fontsize=22)\n",
        "  st.set_y(1.02)\n",
        "\n",
        "  #Plot training data results\n",
        "  ax11 = fig.add_subplot(311)\n",
        "  ax11.plot(train_data[:, 0], label='Asset Closing price')\n",
        "  ax11.plot(train_pred, color='yellow', linewidth=3, label='Predicted asset Closing Returns')\n",
        "  ax11.set_title(\"Training Data\", fontsize=18)\n",
        "  ax11.set_xlabel('Date')\n",
        "  ax11.set_ylabel('IBM Closing Returns')\n",
        "\n",
        "  #Plot validation data results\n",
        "  ax21 = fig.add_subplot(312)\n",
        "  ax21.plot(val_data[:, 0], label='Asset Closing price')\n",
        "  ax21.plot(val_pred, color='yellow', linewidth=3, label='Predicted Asset Closing Returns')\n",
        "  ax21.set_title(\"Validation Data\", fontsize=18)\n",
        "  ax21.set_xlabel('Date')\n",
        "  ax21.set_ylabel('IBM Closing Returns')\n",
        "\n",
        "  #Plot test data results\n",
        "  ax31 = fig.add_subplot(313)\n",
        "  ax31.plot(test_data[:, 0], label='Asset Closing price')\n",
        "  ax31.plot(test_pred, color='yellow', linewidth=3, label='Predicted Asset Closing Returns')\n",
        "  ax31.set_title(\"Test Data\", fontsize=18)\n",
        "  ax31.set_xlabel('Date')\n",
        "  ax31.set_ylabel('Asset Closing Returns')\n",
        "\n",
        "  plt.tight_layout()\n",
        "  plt.legend(loc='best')"
      ],
      "metadata": {
        "id": "lHP0ku-9Gmw-"
      },
      "execution_count": 16,
      "outputs": []
    },
    {
      "cell_type": "markdown",
      "metadata": {
        "id": "pzuzAFkKERC-"
      },
      "source": [
        "## Bi-LSTM model"
      ]
    },
    {
      "cell_type": "code",
      "execution_count": 17,
      "metadata": {
        "id": "ohLqA_fT1wsE"
      },
      "outputs": [],
      "source": [
        "def create_model_BI_LSTM():\n",
        "  in_seq = Input(shape = (seq_len, len(X_cols)))\n",
        "\n",
        "  x = Bidirectional(LSTM(128, return_sequences=True))(in_seq)\n",
        "  x = Bidirectional(LSTM(128, return_sequences=True))(x)\n",
        "  x = Bidirectional(LSTM(64, return_sequences=True))(x)\n",
        "\n",
        "  avg_pool = GlobalAveragePooling1D()(x)\n",
        "  max_pool = GlobalMaxPooling1D()(x)\n",
        "  conc = concatenate([avg_pool, max_pool])\n",
        "  conc = Dense(64, activation=\"relu\")(conc)\n",
        "  out = Dense(1, activation=\"linear\")(conc)\n",
        "\n",
        "  model = Model(inputs=in_seq, outputs=out)\n",
        "  model.compile(loss=\"mse\", optimizer=\"adam\", metrics=['mae', 'mape', 'accuracy'])\n",
        "  return model\n"
      ]
    },
    {
      "cell_type": "markdown",
      "source": [],
      "metadata": {
        "id": "ZVbq2IPxUl9r"
      }
    },
    {
      "cell_type": "code",
      "source": [
        "def create_model_LSTM():\n",
        "  # Configure the neural network model\n",
        "  model = Sequential()\n",
        "\n",
        "  # Model with n_neurons = inputshape Timestamps, each with x_train.shape[2] variables\n",
        "  n_neurons = X_train.shape[1] * X_train.shape[2]\n",
        "  #print(n_neurons, X_train.shape[1], X_train.shape[2])\n",
        "  model.add(LSTM(n_neurons, return_sequences=True, input_shape=(X_train.shape[1], X_train.shape[2])))\n",
        "  #model.add(LSTM(n_neurons, return_sequences=True, activation='relu'))\n",
        "  model.add(LSTM(n_neurons, return_sequences=False))\n",
        "  #model.add(Dense(5))\n",
        "  model.add(Dense(1))\n",
        "\n",
        "  model.compile(loss=\"mse\", optimizer=\"adam\", metrics=['mae', 'mape', 'accuracy'])\n",
        "  return model\n",
        "\n"
      ],
      "metadata": {
        "id": "YIOpVLo6UlS5"
      },
      "execution_count": 27,
      "outputs": []
    },
    {
      "cell_type": "markdown",
      "metadata": {
        "id": "ZeYRlfYwI6fu"
      },
      "source": [
        "### CNN + Bi-LSTM model"
      ]
    },
    {
      "cell_type": "code",
      "execution_count": 19,
      "metadata": {
        "id": "Oqx3hmdiDztH"
      },
      "outputs": [],
      "source": [
        "def create_model_CNN_Bi_LSTM():\n",
        "  in_seq = Input(shape=(seq_len, len(X_cols)))\n",
        "\n",
        "  x = Inception_A(in_seq, 32)\n",
        "  x = Inception_A(x, 32)\n",
        "  x = Inception_B(x, 32)\n",
        "  x = Inception_B(x, 32)\n",
        "  x = Inception_C(x, 32)\n",
        "  x = Inception_C(x, 32)\n",
        "\n",
        "  x = Bidirectional(LSTM(128, return_sequences=True))(x)\n",
        "  x = Bidirectional(LSTM(128, return_sequences=True))(x)\n",
        "  x = Bidirectional(LSTM(64, return_sequences=True))(x)\n",
        "\n",
        "  avg_pool = GlobalAveragePooling1D()(x)\n",
        "  max_pool = GlobalMaxPooling1D()(x)\n",
        "  conc = concatenate([avg_pool, max_pool])\n",
        "  conc = Dense(64, activation=\"relu\")(conc)\n",
        "  out = Dense(1, activation=\"sigmoid\")(conc)\n",
        "\n",
        "  model = Model(inputs=in_seq, outputs=out)\n",
        "  model.compile(loss=\"mse\", optimizer=\"adam\", metrics=['mae', 'mape', 'accuracy'])\n",
        "  return model\n"
      ]
    },
    {
      "cell_type": "markdown",
      "source": [
        "## Run models"
      ],
      "metadata": {
        "id": "6zK0mN5JTYcf"
      }
    },
    {
      "cell_type": "code",
      "source": [
        "'''\n",
        "model_BI_LSTM = create_model_BI_LSTM()\n",
        "run_model(model_BI_LSTM)\n",
        "'''\n",
        "model_LSTM = create_model_LSTM()\n",
        "run_model(model_LSTM)\n",
        "'''\n",
        "model_CNN_Bi_LSTM = create_model_CNN_Bi_LSTM()\n",
        "run_model(model_CNN_Bi_LSTM)\n",
        "'''"
      ],
      "metadata": {
        "id": "BAmgzwafTYow",
        "outputId": "8484d2c8-5354-4eb4-ac2e-4aff7662d346",
        "colab": {
          "base_uri": "https://localhost:8080/",
          "height": 738
        }
      },
      "execution_count": 28,
      "outputs": [
        {
          "output_type": "stream",
          "name": "stdout",
          "text": [
            "Model: \"sequential\"\n",
            "_________________________________________________________________\n",
            " Layer (type)                Output Shape              Param #   \n",
            "=================================================================\n",
            " lstm_6 (LSTM)               (None, 128, 3456)         48162816  \n",
            "                                                                 \n",
            " lstm_7 (LSTM)               (None, 3456)              95565312  \n",
            "                                                                 \n",
            " dense_4 (Dense)             (None, 1)                 3457      \n",
            "                                                                 \n",
            "=================================================================\n",
            "Total params: 143,731,585\n",
            "Trainable params: 143,731,585\n",
            "Non-trainable params: 0\n",
            "_________________________________________________________________\n",
            "Epoch 1/100\n"
          ]
        },
        {
          "output_type": "error",
          "ename": "InternalError",
          "evalue": "ignored",
          "traceback": [
            "\u001b[0;31m---------------------------------------------------------------------------\u001b[0m",
            "\u001b[0;31mInternalError\u001b[0m                             Traceback (most recent call last)",
            "\u001b[0;32m<ipython-input-28-945bc01a0170>\u001b[0m in \u001b[0;36m<cell line: 6>\u001b[0;34m()\u001b[0m\n\u001b[1;32m      4\u001b[0m '''\n\u001b[1;32m      5\u001b[0m \u001b[0mmodel_LSTM\u001b[0m \u001b[0;34m=\u001b[0m \u001b[0mcreate_model_LSTM\u001b[0m\u001b[0;34m(\u001b[0m\u001b[0;34m)\u001b[0m\u001b[0;34m\u001b[0m\u001b[0;34m\u001b[0m\u001b[0m\n\u001b[0;32m----> 6\u001b[0;31m \u001b[0mrun_model\u001b[0m\u001b[0;34m(\u001b[0m\u001b[0mmodel_LSTM\u001b[0m\u001b[0;34m)\u001b[0m\u001b[0;34m\u001b[0m\u001b[0;34m\u001b[0m\u001b[0m\n\u001b[0m\u001b[1;32m      7\u001b[0m '''\n\u001b[1;32m      8\u001b[0m \u001b[0mmodel_CNN_Bi_LSTM\u001b[0m \u001b[0;34m=\u001b[0m \u001b[0mcreate_model_CNN_Bi_LSTM\u001b[0m\u001b[0;34m(\u001b[0m\u001b[0;34m)\u001b[0m\u001b[0;34m\u001b[0m\u001b[0;34m\u001b[0m\u001b[0m\n",
            "\u001b[0;32m<ipython-input-16-04f033d66e51>\u001b[0m in \u001b[0;36mrun_model\u001b[0;34m(model)\u001b[0m\n\u001b[1;32m      3\u001b[0m   \u001b[0mcallback\u001b[0m \u001b[0;34m=\u001b[0m \u001b[0mtf\u001b[0m\u001b[0;34m.\u001b[0m\u001b[0mkeras\u001b[0m\u001b[0;34m.\u001b[0m\u001b[0mcallbacks\u001b[0m\u001b[0;34m.\u001b[0m\u001b[0mEarlyStopping\u001b[0m\u001b[0;34m(\u001b[0m\u001b[0mmonitor\u001b[0m\u001b[0;34m=\u001b[0m\u001b[0;34m'val_loss'\u001b[0m\u001b[0;34m,\u001b[0m \u001b[0mpatience\u001b[0m\u001b[0;34m=\u001b[0m\u001b[0;36m2\u001b[0m\u001b[0;34m)\u001b[0m\u001b[0;34m\u001b[0m\u001b[0;34m\u001b[0m\u001b[0m\n\u001b[1;32m      4\u001b[0m \u001b[0;34m\u001b[0m\u001b[0m\n\u001b[0;32m----> 5\u001b[0;31m   model.fit(X_train, y_train,\n\u001b[0m\u001b[1;32m      6\u001b[0m                 \u001b[0mbatch_size\u001b[0m\u001b[0;34m=\u001b[0m\u001b[0;36m2048\u001b[0m\u001b[0;34m,\u001b[0m\u001b[0;34m\u001b[0m\u001b[0;34m\u001b[0m\u001b[0m\n\u001b[1;32m      7\u001b[0m                 \u001b[0mverbose\u001b[0m\u001b[0;34m=\u001b[0m\u001b[0;36m2\u001b[0m\u001b[0;34m,\u001b[0m\u001b[0;34m\u001b[0m\u001b[0;34m\u001b[0m\u001b[0m\n",
            "\u001b[0;32m/usr/local/lib/python3.10/dist-packages/keras/utils/traceback_utils.py\u001b[0m in \u001b[0;36merror_handler\u001b[0;34m(*args, **kwargs)\u001b[0m\n\u001b[1;32m     68\u001b[0m             \u001b[0;31m# To get the full stack trace, call:\u001b[0m\u001b[0;34m\u001b[0m\u001b[0;34m\u001b[0m\u001b[0m\n\u001b[1;32m     69\u001b[0m             \u001b[0;31m# `tf.debugging.disable_traceback_filtering()`\u001b[0m\u001b[0;34m\u001b[0m\u001b[0;34m\u001b[0m\u001b[0m\n\u001b[0;32m---> 70\u001b[0;31m             \u001b[0;32mraise\u001b[0m \u001b[0me\u001b[0m\u001b[0;34m.\u001b[0m\u001b[0mwith_traceback\u001b[0m\u001b[0;34m(\u001b[0m\u001b[0mfiltered_tb\u001b[0m\u001b[0;34m)\u001b[0m \u001b[0;32mfrom\u001b[0m \u001b[0;32mNone\u001b[0m\u001b[0;34m\u001b[0m\u001b[0;34m\u001b[0m\u001b[0m\n\u001b[0m\u001b[1;32m     71\u001b[0m         \u001b[0;32mfinally\u001b[0m\u001b[0;34m:\u001b[0m\u001b[0;34m\u001b[0m\u001b[0;34m\u001b[0m\u001b[0m\n\u001b[1;32m     72\u001b[0m             \u001b[0;32mdel\u001b[0m \u001b[0mfiltered_tb\u001b[0m\u001b[0;34m\u001b[0m\u001b[0;34m\u001b[0m\u001b[0m\n",
            "\u001b[0;32m/usr/local/lib/python3.10/dist-packages/tensorflow/python/eager/execute.py\u001b[0m in \u001b[0;36mquick_execute\u001b[0;34m(op_name, num_outputs, inputs, attrs, ctx, name)\u001b[0m\n\u001b[1;32m     50\u001b[0m   \u001b[0;32mtry\u001b[0m\u001b[0;34m:\u001b[0m\u001b[0;34m\u001b[0m\u001b[0;34m\u001b[0m\u001b[0m\n\u001b[1;32m     51\u001b[0m     \u001b[0mctx\u001b[0m\u001b[0;34m.\u001b[0m\u001b[0mensure_initialized\u001b[0m\u001b[0;34m(\u001b[0m\u001b[0;34m)\u001b[0m\u001b[0;34m\u001b[0m\u001b[0;34m\u001b[0m\u001b[0m\n\u001b[0;32m---> 52\u001b[0;31m     tensors = pywrap_tfe.TFE_Py_Execute(ctx._handle, device_name, op_name,\n\u001b[0m\u001b[1;32m     53\u001b[0m                                         inputs, attrs, num_outputs)\n\u001b[1;32m     54\u001b[0m   \u001b[0;32mexcept\u001b[0m \u001b[0mcore\u001b[0m\u001b[0;34m.\u001b[0m\u001b[0m_NotOkStatusException\u001b[0m \u001b[0;32mas\u001b[0m \u001b[0me\u001b[0m\u001b[0;34m:\u001b[0m\u001b[0;34m\u001b[0m\u001b[0;34m\u001b[0m\u001b[0m\n",
            "\u001b[0;31mInternalError\u001b[0m: Graph execution error:\n\nFailed to call ThenRnnForward with model config: [rnn_mode, rnn_input_mode, rnn_direction_mode]: 2, 0, 0 , [num_layers, input_size, num_units, dir_count, max_seq_length, batch_size, cell_num_units]: [1, 27, 3456, 1, 128, 2048, 3456] \n\t [[{{node CudnnRNN}}]]\n\t [[sequential/lstm_6/PartitionedCall]] [Op:__inference_train_function_34194]"
          ]
        }
      ]
    },
    {
      "cell_type": "markdown",
      "metadata": {
        "id": "XyaZwdAakaOk"
      },
      "source": [
        "## **Conculsion 1**\n",
        "When interpreting at the evaluation metrics it seems that the networks are predicting the next day closing price returns very well. The Bi-LSTM and CNN+Bi-LSTM networks have a **mean average percentage error** **(MAPE)** of  `3.58` and `3.84` for the validation set and `4.26` and `4.53` for the test set.\n",
        "Making it also obvious that the Bi-LSTM network is better than the CNN+Bi-LSTM network, which honestly surprised me.\n",
        "\n",
        "However, when taking a glance at the graphs of the validation and test set it becomes clear that the networks have merely found the center point of the return distributions. Over the entire course of the time series the networks do not divert greatly from the center.\n",
        "\n",
        "It seems that the right and left tail of the stock return distribution are not derivable from price data alone.\n",
        "\n",
        "I do have the following **hypotheses** that provide more room for investigation and might lead to better results.\n",
        "\n",
        "#### **Hypotheses**\n",
        "\n",
        "1. The stock returns seem very rugged, which could make the networks interpret the distribution tails as semi-random. --> smooth returns with **moving average**\n",
        "\n",
        "2. We do need more price data to derive temporal dependencies of the time series and get a better understanding of the distribution tails. --> Obtain **more price data** of different stocks, etfs, etc.\n",
        "\n",
        "3. In order to predict the stock return distribution tails more accurately include additional features e.g. **financial news, company's balance sheet and P&L**\n",
        "\n",
        "The first hypothesis we'll also implement in this notebook.\n",
        "\n",
        "The second and third hypothesis will be addressed at a later stage.\n",
        "\n",
        "\n"
      ]
    },
    {
      "cell_type": "markdown",
      "metadata": {
        "id": "gWEIR6pMrhsK"
      },
      "source": [
        "# **Moving Average Analysis**"
      ]
    },
    {
      "cell_type": "markdown",
      "metadata": {
        "id": "bmEV2UNMsFZm"
      },
      "source": [
        "## Loading financial data again to apply a moving average effect"
      ]
    },
    {
      "cell_type": "code",
      "execution_count": 21,
      "metadata": {
        "colab": {
          "base_uri": "https://localhost:8080/",
          "height": 0
        },
        "id": "sv5KBUCUDzqR",
        "outputId": "a818b20b-a077-44f3-cfd9-5297e7cf81a3"
      },
      "outputs": [
        {
          "output_type": "stream",
          "name": "stdout",
          "text": [
            "\r[*********************100%***********************]  1 of 1 completed\n"
          ]
        },
        {
          "output_type": "execute_result",
          "data": {
            "text/plain": [
              "                         Open      High       Low     Close  Adj Close  \\\n",
              "Datetime                                                                 \n",
              "2023-05-16 02:30:00  1.088116  1.088376  1.087938  1.088175   1.088495   \n",
              "2023-05-16 02:45:00  1.088139  1.088388  1.087950  1.088199   1.088139   \n",
              "2023-05-16 03:00:00  1.088139  1.088388  1.087903  1.088210   1.087784   \n",
              "2023-05-16 03:15:00  1.088128  1.088376  1.087891  1.088234   1.087903   \n",
              "2023-05-16 03:30:00  1.088139  1.088412  1.087903  1.088281   1.088495   \n",
              "\n",
              "                      returns  target  \n",
              "Datetime                               \n",
              "2023-05-16 02:30:00  0.000054       0  \n",
              "2023-05-16 02:45:00  0.000022       0  \n",
              "2023-05-16 03:00:00  0.000011       1  \n",
              "2023-05-16 03:15:00  0.000022       1  \n",
              "2023-05-16 03:30:00  0.000044       1  "
            ],
            "text/html": [
              "\n",
              "\n",
              "  <div id=\"df-9cb598b6-3996-463f-97fe-7dd3dd8b1d3e\">\n",
              "    <div class=\"colab-df-container\">\n",
              "      <div>\n",
              "<style scoped>\n",
              "    .dataframe tbody tr th:only-of-type {\n",
              "        vertical-align: middle;\n",
              "    }\n",
              "\n",
              "    .dataframe tbody tr th {\n",
              "        vertical-align: top;\n",
              "    }\n",
              "\n",
              "    .dataframe thead th {\n",
              "        text-align: right;\n",
              "    }\n",
              "</style>\n",
              "<table border=\"1\" class=\"dataframe\">\n",
              "  <thead>\n",
              "    <tr style=\"text-align: right;\">\n",
              "      <th></th>\n",
              "      <th>Open</th>\n",
              "      <th>High</th>\n",
              "      <th>Low</th>\n",
              "      <th>Close</th>\n",
              "      <th>Adj Close</th>\n",
              "      <th>returns</th>\n",
              "      <th>target</th>\n",
              "    </tr>\n",
              "    <tr>\n",
              "      <th>Datetime</th>\n",
              "      <th></th>\n",
              "      <th></th>\n",
              "      <th></th>\n",
              "      <th></th>\n",
              "      <th></th>\n",
              "      <th></th>\n",
              "      <th></th>\n",
              "    </tr>\n",
              "  </thead>\n",
              "  <tbody>\n",
              "    <tr>\n",
              "      <th>2023-05-16 02:30:00</th>\n",
              "      <td>1.088116</td>\n",
              "      <td>1.088376</td>\n",
              "      <td>1.087938</td>\n",
              "      <td>1.088175</td>\n",
              "      <td>1.088495</td>\n",
              "      <td>0.000054</td>\n",
              "      <td>0</td>\n",
              "    </tr>\n",
              "    <tr>\n",
              "      <th>2023-05-16 02:45:00</th>\n",
              "      <td>1.088139</td>\n",
              "      <td>1.088388</td>\n",
              "      <td>1.087950</td>\n",
              "      <td>1.088199</td>\n",
              "      <td>1.088139</td>\n",
              "      <td>0.000022</td>\n",
              "      <td>0</td>\n",
              "    </tr>\n",
              "    <tr>\n",
              "      <th>2023-05-16 03:00:00</th>\n",
              "      <td>1.088139</td>\n",
              "      <td>1.088388</td>\n",
              "      <td>1.087903</td>\n",
              "      <td>1.088210</td>\n",
              "      <td>1.087784</td>\n",
              "      <td>0.000011</td>\n",
              "      <td>1</td>\n",
              "    </tr>\n",
              "    <tr>\n",
              "      <th>2023-05-16 03:15:00</th>\n",
              "      <td>1.088128</td>\n",
              "      <td>1.088376</td>\n",
              "      <td>1.087891</td>\n",
              "      <td>1.088234</td>\n",
              "      <td>1.087903</td>\n",
              "      <td>0.000022</td>\n",
              "      <td>1</td>\n",
              "    </tr>\n",
              "    <tr>\n",
              "      <th>2023-05-16 03:30:00</th>\n",
              "      <td>1.088139</td>\n",
              "      <td>1.088412</td>\n",
              "      <td>1.087903</td>\n",
              "      <td>1.088281</td>\n",
              "      <td>1.088495</td>\n",
              "      <td>0.000044</td>\n",
              "      <td>1</td>\n",
              "    </tr>\n",
              "  </tbody>\n",
              "</table>\n",
              "</div>\n",
              "      <button class=\"colab-df-convert\" onclick=\"convertToInteractive('df-9cb598b6-3996-463f-97fe-7dd3dd8b1d3e')\"\n",
              "              title=\"Convert this dataframe to an interactive table.\"\n",
              "              style=\"display:none;\">\n",
              "\n",
              "  <svg xmlns=\"http://www.w3.org/2000/svg\" height=\"24px\"viewBox=\"0 0 24 24\"\n",
              "       width=\"24px\">\n",
              "    <path d=\"M0 0h24v24H0V0z\" fill=\"none\"/>\n",
              "    <path d=\"M18.56 5.44l.94 2.06.94-2.06 2.06-.94-2.06-.94-.94-2.06-.94 2.06-2.06.94zm-11 1L8.5 8.5l.94-2.06 2.06-.94-2.06-.94L8.5 2.5l-.94 2.06-2.06.94zm10 10l.94 2.06.94-2.06 2.06-.94-2.06-.94-.94-2.06-.94 2.06-2.06.94z\"/><path d=\"M17.41 7.96l-1.37-1.37c-.4-.4-.92-.59-1.43-.59-.52 0-1.04.2-1.43.59L10.3 9.45l-7.72 7.72c-.78.78-.78 2.05 0 2.83L4 21.41c.39.39.9.59 1.41.59.51 0 1.02-.2 1.41-.59l7.78-7.78 2.81-2.81c.8-.78.8-2.07 0-2.86zM5.41 20L4 18.59l7.72-7.72 1.47 1.35L5.41 20z\"/>\n",
              "  </svg>\n",
              "      </button>\n",
              "\n",
              "\n",
              "\n",
              "    <div id=\"df-45b29f65-0f25-4026-97c7-661fb0c68946\">\n",
              "      <button class=\"colab-df-quickchart\" onclick=\"quickchart('df-45b29f65-0f25-4026-97c7-661fb0c68946')\"\n",
              "              title=\"Suggest charts.\"\n",
              "              style=\"display:none;\">\n",
              "\n",
              "<svg xmlns=\"http://www.w3.org/2000/svg\" height=\"24px\"viewBox=\"0 0 24 24\"\n",
              "     width=\"24px\">\n",
              "    <g>\n",
              "        <path d=\"M19 3H5c-1.1 0-2 .9-2 2v14c0 1.1.9 2 2 2h14c1.1 0 2-.9 2-2V5c0-1.1-.9-2-2-2zM9 17H7v-7h2v7zm4 0h-2V7h2v10zm4 0h-2v-4h2v4z\"/>\n",
              "    </g>\n",
              "</svg>\n",
              "      </button>\n",
              "    </div>\n",
              "\n",
              "<style>\n",
              "  .colab-df-quickchart {\n",
              "    background-color: #E8F0FE;\n",
              "    border: none;\n",
              "    border-radius: 50%;\n",
              "    cursor: pointer;\n",
              "    display: none;\n",
              "    fill: #1967D2;\n",
              "    height: 32px;\n",
              "    padding: 0 0 0 0;\n",
              "    width: 32px;\n",
              "  }\n",
              "\n",
              "  .colab-df-quickchart:hover {\n",
              "    background-color: #E2EBFA;\n",
              "    box-shadow: 0px 1px 2px rgba(60, 64, 67, 0.3), 0px 1px 3px 1px rgba(60, 64, 67, 0.15);\n",
              "    fill: #174EA6;\n",
              "  }\n",
              "\n",
              "  [theme=dark] .colab-df-quickchart {\n",
              "    background-color: #3B4455;\n",
              "    fill: #D2E3FC;\n",
              "  }\n",
              "\n",
              "  [theme=dark] .colab-df-quickchart:hover {\n",
              "    background-color: #434B5C;\n",
              "    box-shadow: 0px 1px 3px 1px rgba(0, 0, 0, 0.15);\n",
              "    filter: drop-shadow(0px 1px 2px rgba(0, 0, 0, 0.3));\n",
              "    fill: #FFFFFF;\n",
              "  }\n",
              "</style>\n",
              "\n",
              "    <script>\n",
              "      async function quickchart(key) {\n",
              "        const containerElement = document.querySelector('#' + key);\n",
              "        const charts = await google.colab.kernel.invokeFunction(\n",
              "            'suggestCharts', [key], {});\n",
              "      }\n",
              "    </script>\n",
              "\n",
              "      <script>\n",
              "\n",
              "function displayQuickchartButton(domScope) {\n",
              "  let quickchartButtonEl =\n",
              "    domScope.querySelector('#df-45b29f65-0f25-4026-97c7-661fb0c68946 button.colab-df-quickchart');\n",
              "  quickchartButtonEl.style.display =\n",
              "    google.colab.kernel.accessAllowed ? 'block' : 'none';\n",
              "}\n",
              "\n",
              "        displayQuickchartButton(document);\n",
              "      </script>\n",
              "      <style>\n",
              "    .colab-df-container {\n",
              "      display:flex;\n",
              "      flex-wrap:wrap;\n",
              "      gap: 12px;\n",
              "    }\n",
              "\n",
              "    .colab-df-convert {\n",
              "      background-color: #E8F0FE;\n",
              "      border: none;\n",
              "      border-radius: 50%;\n",
              "      cursor: pointer;\n",
              "      display: none;\n",
              "      fill: #1967D2;\n",
              "      height: 32px;\n",
              "      padding: 0 0 0 0;\n",
              "      width: 32px;\n",
              "    }\n",
              "\n",
              "    .colab-df-convert:hover {\n",
              "      background-color: #E2EBFA;\n",
              "      box-shadow: 0px 1px 2px rgba(60, 64, 67, 0.3), 0px 1px 3px 1px rgba(60, 64, 67, 0.15);\n",
              "      fill: #174EA6;\n",
              "    }\n",
              "\n",
              "    [theme=dark] .colab-df-convert {\n",
              "      background-color: #3B4455;\n",
              "      fill: #D2E3FC;\n",
              "    }\n",
              "\n",
              "    [theme=dark] .colab-df-convert:hover {\n",
              "      background-color: #434B5C;\n",
              "      box-shadow: 0px 1px 3px 1px rgba(0, 0, 0, 0.15);\n",
              "      filter: drop-shadow(0px 1px 2px rgba(0, 0, 0, 0.3));\n",
              "      fill: #FFFFFF;\n",
              "    }\n",
              "  </style>\n",
              "\n",
              "      <script>\n",
              "        const buttonEl =\n",
              "          document.querySelector('#df-9cb598b6-3996-463f-97fe-7dd3dd8b1d3e button.colab-df-convert');\n",
              "        buttonEl.style.display =\n",
              "          google.colab.kernel.accessAllowed ? 'block' : 'none';\n",
              "\n",
              "        async function convertToInteractive(key) {\n",
              "          const element = document.querySelector('#df-9cb598b6-3996-463f-97fe-7dd3dd8b1d3e');\n",
              "          const dataTable =\n",
              "            await google.colab.kernel.invokeFunction('convertToInteractive',\n",
              "                                                     [key], {});\n",
              "          if (!dataTable) return;\n",
              "\n",
              "          const docLinkHtml = 'Like what you see? Visit the ' +\n",
              "            '<a target=\"_blank\" href=https://colab.research.google.com/notebooks/data_table.ipynb>data table notebook</a>'\n",
              "            + ' to learn more about interactive tables.';\n",
              "          element.innerHTML = '';\n",
              "          dataTable['output_type'] = 'display_data';\n",
              "          await google.colab.output.renderOutput(dataTable, element);\n",
              "          const docLink = document.createElement('div');\n",
              "          docLink.innerHTML = docLinkHtml;\n",
              "          element.appendChild(docLink);\n",
              "        }\n",
              "      </script>\n",
              "    </div>\n",
              "  </div>\n"
            ]
          },
          "metadata": {},
          "execution_count": 21
        },
        {
          "output_type": "display_data",
          "data": {
            "text/plain": [
              "<Figure size 800x550 with 5 Axes>"
            ],
            "image/png": "[encoded data removed]"
          },
          "metadata": {}
        }
      ],
      "source": [
        "df = get_yfinance_hist(symbol = symbol, period = period, interval= interval )\n",
        "\n",
        "# Apply moving average with a window of 10 days to all columns\n",
        "df[['Open', 'High', 'Low', 'Close', 'returns']] = df[['Open', 'High', 'Low', 'Close', 'returns']].rolling(10).mean()\n",
        "\n",
        "# Drop all rows with NaN values\n",
        "df.dropna(how='any', axis=0, inplace=True)\n",
        "\n",
        "df.head()"
      ]
    },
    {
      "cell_type": "markdown",
      "metadata": {
        "id": "aOS7lIcx1jKA"
      },
      "source": [
        "## Moving Average - Plot daily IBM closing prices"
      ]
    },
    {
      "cell_type": "code",
      "execution_count": 22,
      "metadata": {
        "colab": {
          "base_uri": "https://localhost:8080/",
          "height": 489
        },
        "id": "b0c4M59AtIRG",
        "outputId": "91de5757-a597-42d3-acab-2b4ca55a182f"
      },
      "outputs": [
        {
          "output_type": "display_data",
          "data": {
            "text/plain": [
              "<Figure size 800x550 with 5 Axes>"
            ],
            "image/png": "[encoded data removed]"
          },
          "metadata": {}
        }
      ],
      "source": [
        "plot_cols = ['Close', 'target', 'Open', 'High', 'Low']\n",
        "plot_features = df[plot_cols]\n",
        "plot_features.index = df.index\n",
        "_ = plot_features.plot(subplots=True)"
      ]
    },
    {
      "cell_type": "markdown",
      "metadata": {
        "id": "6VixXztByO9T"
      },
      "source": [
        "## Moving Average - Calculate normalized percentage change for all columns"
      ]
    },
    {
      "cell_type": "code",
      "execution_count": 23,
      "metadata": {
        "id": "dmPQJ2QKtIUM"
      },
      "outputs": [],
      "source": [
        "'''Calculate percentage change'''\n",
        "\n",
        "df['Open'] = df['Open'].pct_change() # Create arithmetic returns column\n",
        "df['High'] = df['High'].pct_change() # Create arithmetic returns column\n",
        "df['Low'] = df['Low'].pct_change() # Create arithmetic returns column\n",
        "df['Close'] = df['Close'].pct_change() # Create arithmetic returns column\n",
        "\n",
        "df.dropna(how='any', axis=0, inplace=True) # Drop all rows with NaN values\n",
        "\n",
        "###############################################################################\n",
        "'''Normalize price columns'''\n",
        "\n",
        "min_return = min(df[['Open', 'High', 'Low', 'Close']].min(axis=0))\n",
        "max_return = max(df[['Open', 'High', 'Low', 'Close']].max(axis=0))\n",
        "\n",
        "# Min-max normalize price columns (0-1 range)\n",
        "df['Open'] = (df['Open'] - min_return) / (max_return - min_return)\n",
        "df['High'] = (df['High'] - min_return) / (max_return - min_return)\n",
        "df['Low'] = (df['Low'] - min_return) / (max_return - min_return)\n",
        "df['Close'] = (df['Close'] - min_return) / (max_return - min_return)\n",
        "\n"
      ]
    },
    {
      "cell_type": "markdown",
      "source": [
        "## Split the df dataframe into test, train and validation dataset"
      ],
      "metadata": {
        "id": "KBVhoCfQJi1r"
      }
    },
    {
      "cell_type": "code",
      "source": [
        "train_df, val_df, test_df = np.split(df.sample(frac=1, random_state=42),\n",
        "                       [int(.6*len(df)), int(.8*len(df))])\n",
        "\n",
        "X_cols = ['Open', 'High', 'Low', 'Close', 'Adj Close', 'returns']\n",
        "y_cols = 'target'\n",
        "\n",
        "df_X_train = train_df[X_cols]\n",
        "df_y_train = train_df[y_cols]\n",
        "\n",
        "df_X_val = val_df[X_cols]\n",
        "df_y_val = val_df[y_cols]\n",
        "\n",
        "df_X_test = test_df[X_cols]\n",
        "df_y_test = test_df[y_cols]"
      ],
      "metadata": {
        "id": "e9eVZrRFJjXD"
      },
      "execution_count": 24,
      "outputs": []
    },
    {
      "cell_type": "markdown",
      "metadata": {
        "id": "vV1QyMpv2BSQ"
      },
      "source": [
        "## Moving Average - Create chunks of training, validation and test data"
      ]
    },
    {
      "cell_type": "code",
      "execution_count": 25,
      "metadata": {
        "colab": {
          "base_uri": "https://localhost:8080/"
        },
        "id": "2sEapIOaxgi-",
        "outputId": "90bb73fa-ca1f-436f-806b-08fff239f847"
      },
      "outputs": [
        {
          "output_type": "stream",
          "name": "stdout",
          "text": [
            "(3259, 128, 27) (3259,)\n",
            "(1001, 128, 27) (1001,)\n"
          ]
        }
      ],
      "source": [
        "# Training data\n",
        "X_train, y_train = [], []\n",
        "for i in range(seq_len, len(train_data)):\n",
        "  X_train.append(train_data[i-seq_len:i]) # Chunks of training data with a length of 128 df-rows\n",
        "  y_train.append(train_data[:, 3][i]) #Value of 4th column (Close Price) of df-row 128+1\n",
        "X_train, y_train = np.array(X_train), np.array(y_train)\n",
        "\n",
        "###############################################################################\n",
        "\n",
        "# Validation data\n",
        "X_val, y_val = [], []\n",
        "for i in range(seq_len, len(val_data)):\n",
        "    X_val.append(val_data[i-seq_len:i])\n",
        "    y_val.append(val_data[:, 3][i])\n",
        "X_val, y_val = np.array(X_val), np.array(y_val)\n",
        "\n",
        "###############################################################################\n",
        "\n",
        "# Test data\n",
        "X_test, y_test = [], []\n",
        "for i in range(seq_len, len(test_data)):\n",
        "    X_test.append(test_data[i-seq_len:i])\n",
        "    y_test.append(test_data[:, 3][i])\n",
        "X_test, y_test = np.array(X_test), np.array(y_test)\n",
        "\n",
        "print(X_train.shape, y_train.shape)\n",
        "print(X_val.shape, y_val.shape)"
      ]
    },
    {
      "cell_type": "markdown",
      "metadata": {
        "id": "16r3TfBcy3AB"
      },
      "source": [
        "# **Moving Average - Testing different model architectures**"
      ]
    },
    {
      "cell_type": "markdown",
      "metadata": {
        "id": "0UOB-X9TBm99"
      },
      "source": [
        "### Moving Average - Bi-LSTM model"
      ]
    },
    {
      "cell_type": "code",
      "execution_count": 26,
      "metadata": {
        "colab": {
          "base_uri": "https://localhost:8080/",
          "height": 1000
        },
        "id": "-YiT9SRexghi",
        "outputId": "63195bce-43fd-4324-c6ca-02b247f68fd2"
      },
      "outputs": [
        {
          "output_type": "stream",
          "name": "stdout",
          "text": [
            "Model: \"model_1\"\n",
            "__________________________________________________________________________________________________\n",
            " Layer (type)                   Output Shape         Param #     Connected to                     \n",
            "==================================================================================================\n",
            " input_2 (InputLayer)           [(None, 128, 7)]     0           []                               \n",
            "                                                                                                  \n",
            " bidirectional_3 (Bidirectional  (None, 128, 256)    139264      ['input_2[0][0]']                \n",
            " )                                                                                                \n",
            "                                                                                                  \n",
            " bidirectional_4 (Bidirectional  (None, 128, 256)    394240      ['bidirectional_3[0][0]']        \n",
            " )                                                                                                \n",
            "                                                                                                  \n",
            " bidirectional_5 (Bidirectional  (None, 128, 128)    164352      ['bidirectional_4[0][0]']        \n",
            " )                                                                                                \n",
            "                                                                                                  \n",
            " global_average_pooling1d_1 (Gl  (None, 128)         0           ['bidirectional_5[0][0]']        \n",
            " obalAveragePooling1D)                                                                            \n",
            "                                                                                                  \n",
            " global_max_pooling1d_1 (Global  (None, 128)         0           ['bidirectional_5[0][0]']        \n",
            " MaxPooling1D)                                                                                    \n",
            "                                                                                                  \n",
            " concatenate_1 (Concatenate)    (None, 256)          0           ['global_average_pooling1d_1[0][0\n",
            "                                                                 ]',                              \n",
            "                                                                  'global_max_pooling1d_1[0][0]'] \n",
            "                                                                                                  \n",
            " dense_2 (Dense)                (None, 64)           16448       ['concatenate_1[0][0]']          \n",
            "                                                                                                  \n",
            " dense_3 (Dense)                (None, 1)            65          ['dense_2[0][0]']                \n",
            "                                                                                                  \n",
            "==================================================================================================\n",
            "Total params: 714,369\n",
            "Trainable params: 714,369\n",
            "Non-trainable params: 0\n",
            "__________________________________________________________________________________________________\n",
            "Epoch 1/100\n"
          ]
        },
        {
          "output_type": "error",
          "ename": "ValueError",
          "evalue": "ignored",
          "traceback": [
            "\u001b[0;31m---------------------------------------------------------------------------\u001b[0m",
            "\u001b[0;31mValueError\u001b[0m                                Traceback (most recent call last)",
            "\u001b[0;32m<ipython-input-26-e1a9fe62af82>\u001b[0m in \u001b[0;36m<cell line: 19>\u001b[0;34m()\u001b[0m\n\u001b[1;32m     17\u001b[0m \u001b[0;34m\u001b[0m\u001b[0m\n\u001b[1;32m     18\u001b[0m \u001b[0mmodel\u001b[0m \u001b[0;34m=\u001b[0m \u001b[0mcreate_model\u001b[0m\u001b[0;34m(\u001b[0m\u001b[0;34m)\u001b[0m\u001b[0;34m\u001b[0m\u001b[0;34m\u001b[0m\u001b[0m\n\u001b[0;32m---> 19\u001b[0;31m \u001b[0mrun_model\u001b[0m\u001b[0;34m(\u001b[0m\u001b[0mmodel\u001b[0m\u001b[0;34m)\u001b[0m\u001b[0;34m\u001b[0m\u001b[0;34m\u001b[0m\u001b[0m\n\u001b[0m",
            "\u001b[0;32m<ipython-input-16-04f033d66e51>\u001b[0m in \u001b[0;36mrun_model\u001b[0;34m(model)\u001b[0m\n\u001b[1;32m      3\u001b[0m   \u001b[0mcallback\u001b[0m \u001b[0;34m=\u001b[0m \u001b[0mtf\u001b[0m\u001b[0;34m.\u001b[0m\u001b[0mkeras\u001b[0m\u001b[0;34m.\u001b[0m\u001b[0mcallbacks\u001b[0m\u001b[0;34m.\u001b[0m\u001b[0mEarlyStopping\u001b[0m\u001b[0;34m(\u001b[0m\u001b[0mmonitor\u001b[0m\u001b[0;34m=\u001b[0m\u001b[0;34m'val_loss'\u001b[0m\u001b[0;34m,\u001b[0m \u001b[0mpatience\u001b[0m\u001b[0;34m=\u001b[0m\u001b[0;36m2\u001b[0m\u001b[0;34m)\u001b[0m\u001b[0;34m\u001b[0m\u001b[0;34m\u001b[0m\u001b[0m\n\u001b[1;32m      4\u001b[0m \u001b[0;34m\u001b[0m\u001b[0m\n\u001b[0;32m----> 5\u001b[0;31m   model.fit(X_train, y_train,\n\u001b[0m\u001b[1;32m      6\u001b[0m                 \u001b[0mbatch_size\u001b[0m\u001b[0;34m=\u001b[0m\u001b[0;36m2048\u001b[0m\u001b[0;34m,\u001b[0m\u001b[0;34m\u001b[0m\u001b[0;34m\u001b[0m\u001b[0m\n\u001b[1;32m      7\u001b[0m                 \u001b[0mverbose\u001b[0m\u001b[0;34m=\u001b[0m\u001b[0;36m2\u001b[0m\u001b[0;34m,\u001b[0m\u001b[0;34m\u001b[0m\u001b[0;34m\u001b[0m\u001b[0m\n",
            "\u001b[0;32m/usr/local/lib/python3.10/dist-packages/keras/utils/traceback_utils.py\u001b[0m in \u001b[0;36merror_handler\u001b[0;34m(*args, **kwargs)\u001b[0m\n\u001b[1;32m     68\u001b[0m             \u001b[0;31m# To get the full stack trace, call:\u001b[0m\u001b[0;34m\u001b[0m\u001b[0;34m\u001b[0m\u001b[0m\n\u001b[1;32m     69\u001b[0m             \u001b[0;31m# `tf.debugging.disable_traceback_filtering()`\u001b[0m\u001b[0;34m\u001b[0m\u001b[0;34m\u001b[0m\u001b[0m\n\u001b[0;32m---> 70\u001b[0;31m             \u001b[0;32mraise\u001b[0m \u001b[0me\u001b[0m\u001b[0;34m.\u001b[0m\u001b[0mwith_traceback\u001b[0m\u001b[0;34m(\u001b[0m\u001b[0mfiltered_tb\u001b[0m\u001b[0;34m)\u001b[0m \u001b[0;32mfrom\u001b[0m \u001b[0;32mNone\u001b[0m\u001b[0;34m\u001b[0m\u001b[0;34m\u001b[0m\u001b[0m\n\u001b[0m\u001b[1;32m     71\u001b[0m         \u001b[0;32mfinally\u001b[0m\u001b[0;34m:\u001b[0m\u001b[0;34m\u001b[0m\u001b[0;34m\u001b[0m\u001b[0m\n\u001b[1;32m     72\u001b[0m             \u001b[0;32mdel\u001b[0m \u001b[0mfiltered_tb\u001b[0m\u001b[0;34m\u001b[0m\u001b[0;34m\u001b[0m\u001b[0m\n",
            "\u001b[0;32m/usr/local/lib/python3.10/dist-packages/keras/engine/training.py\u001b[0m in \u001b[0;36mtf__train_function\u001b[0;34m(iterator)\u001b[0m\n\u001b[1;32m     13\u001b[0m                 \u001b[0;32mtry\u001b[0m\u001b[0;34m:\u001b[0m\u001b[0;34m\u001b[0m\u001b[0;34m\u001b[0m\u001b[0m\n\u001b[1;32m     14\u001b[0m                     \u001b[0mdo_return\u001b[0m \u001b[0;34m=\u001b[0m \u001b[0;32mTrue\u001b[0m\u001b[0;34m\u001b[0m\u001b[0;34m\u001b[0m\u001b[0m\n\u001b[0;32m---> 15\u001b[0;31m                     \u001b[0mretval_\u001b[0m \u001b[0;34m=\u001b[0m \u001b[0mag__\u001b[0m\u001b[0;34m.\u001b[0m\u001b[0mconverted_call\u001b[0m\u001b[0;34m(\u001b[0m\u001b[0mag__\u001b[0m\u001b[0;34m.\u001b[0m\u001b[0mld\u001b[0m\u001b[0;34m(\u001b[0m\u001b[0mstep_function\u001b[0m\u001b[0;34m)\u001b[0m\u001b[0;34m,\u001b[0m \u001b[0;34m(\u001b[0m\u001b[0mag__\u001b[0m\u001b[0;34m.\u001b[0m\u001b[0mld\u001b[0m\u001b[0;34m(\u001b[0m\u001b[0mself\u001b[0m\u001b[0;34m)\u001b[0m\u001b[0;34m,\u001b[0m \u001b[0mag__\u001b[0m\u001b[0;34m.\u001b[0m\u001b[0mld\u001b[0m\u001b[0;34m(\u001b[0m\u001b[0miterator\u001b[0m\u001b[0;34m)\u001b[0m\u001b[0;34m)\u001b[0m\u001b[0;34m,\u001b[0m \u001b[0;32mNone\u001b[0m\u001b[0;34m,\u001b[0m \u001b[0mfscope\u001b[0m\u001b[0;34m)\u001b[0m\u001b[0;34m\u001b[0m\u001b[0;34m\u001b[0m\u001b[0m\n\u001b[0m\u001b[1;32m     16\u001b[0m                 \u001b[0;32mexcept\u001b[0m\u001b[0;34m:\u001b[0m\u001b[0;34m\u001b[0m\u001b[0;34m\u001b[0m\u001b[0m\n\u001b[1;32m     17\u001b[0m                     \u001b[0mdo_return\u001b[0m \u001b[0;34m=\u001b[0m \u001b[0;32mFalse\u001b[0m\u001b[0;34m\u001b[0m\u001b[0;34m\u001b[0m\u001b[0m\n",
            "\u001b[0;31mValueError\u001b[0m: in user code:\n\n    File \"/usr/local/lib/python3.10/dist-packages/keras/engine/training.py\", line 1284, in train_function  *\n        return step_function(self, iterator)\n    File \"/usr/local/lib/python3.10/dist-packages/keras/engine/training.py\", line 1268, in step_function  **\n        outputs = model.distribute_strategy.run(run_step, args=(data,))\n    File \"/usr/local/lib/python3.10/dist-packages/keras/engine/training.py\", line 1249, in run_step  **\n        outputs = model.train_step(data)\n    File \"/usr/local/lib/python3.10/dist-packages/keras/engine/training.py\", line 1050, in train_step\n        y_pred = self(x, training=True)\n    File \"/usr/local/lib/python3.10/dist-packages/keras/utils/traceback_utils.py\", line 70, in error_handler\n        raise e.with_traceback(filtered_tb) from None\n    File \"/usr/local/lib/python3.10/dist-packages/keras/engine/input_spec.py\", line 298, in assert_input_compatibility\n        raise ValueError(\n\n    ValueError: Input 0 of layer \"model_1\" is incompatible with the layer: expected shape=(None, 128, 7), found shape=(None, 128, 27)\n"
          ]
        }
      ],
      "source": [
        "def create_model():\n",
        "  in_seq = Input(shape = (seq_len, 7))\n",
        "\n",
        "  x = Bidirectional(LSTM(128, return_sequences=True))(in_seq)\n",
        "  x = Bidirectional(LSTM(128, return_sequences=True))(x)\n",
        "  x = Bidirectional(LSTM(64, return_sequences=True))(x)\n",
        "\n",
        "  avg_pool = GlobalAveragePooling1D()(x)\n",
        "  max_pool = GlobalMaxPooling1D()(x)\n",
        "  conc = concatenate([avg_pool, max_pool])\n",
        "  conc = Dense(64, activation=\"relu\")(conc)\n",
        "  out = Dense(1, activation=\"sigmoid\")(conc)\n",
        "\n",
        "  model = Model(inputs=in_seq, outputs=out)\n",
        "  model.compile(loss=\"mse\", optimizer=\"adam\", metrics=['mae', 'mape', 'accuracy'])\n",
        "  return model\n",
        "\n",
        "model = create_model()\n",
        "run_model(model)"
      ]
    },
    {
      "cell_type": "markdown",
      "metadata": {
        "id": "7FmbRHIcBxRZ"
      },
      "source": [
        "### Moving Average - CNN + Bi-LSTM model"
      ]
    },
    {
      "cell_type": "code",
      "execution_count": null,
      "metadata": {
        "id": "cAqTVJyjxgeI"
      },
      "outputs": [],
      "source": [
        "def create_model():\n",
        "  in_seq = Input(shape=(seq_len, 7))\n",
        "\n",
        "  x = Inception_A(in_seq, 32)\n",
        "  x = Inception_A(x, 32)\n",
        "  x = Inception_B(x, 32)\n",
        "  x = Inception_B(x, 32)\n",
        "  x = Inception_C(x, 32)\n",
        "  x = Inception_C(x, 32)\n",
        "\n",
        "  x = Bidirectional(LSTM(128, return_sequences=True))(x)\n",
        "  x = Bidirectional(LSTM(128, return_sequences=True))(x)\n",
        "  x = Bidirectional(LSTM(64, return_sequences=True))(x)\n",
        "\n",
        "  avg_pool = GlobalAveragePooling1D()(x)\n",
        "  max_pool = GlobalMaxPooling1D()(x)\n",
        "  conc = concatenate([avg_pool, max_pool])\n",
        "  conc = Dense(64, activation=\"relu\")(conc)\n",
        "  out = Dense(1, activation=\"sigmoid\")(conc)\n",
        "\n",
        "  model = Model(inputs=in_seq, outputs=out)\n",
        "  model.compile(loss=\"mse\", optimizer=\"adam\", metrics=['mae', 'mape', 'accuracy'])\n",
        "  return model\n",
        "\n",
        "model = create_model()\n",
        "run_model(model)"
      ]
    },
    {
      "cell_type": "markdown",
      "metadata": {
        "id": "1WORNol3gVjI"
      },
      "source": [
        "## **Conculsion 2**\n",
        "\n",
        "As expected applying a moving average to the price data smoothed the return distribution and thus lead to an improved model performance.\n",
        "\n",
        "However, when applying a moving average effect to a time series your dataset represent the real market less accurately. Subsequently, your dataset is biased towards less outliers.\n",
        "\n",
        "When investing in the stock market it is curcial that outliers are not excluded or smoothed out since outliers majorly contribute to your trading performance.\n",
        "\n",
        "Thus, any data transformations that can't be easily reverted once the predictions have been made, should be avoided.\n",
        "\n",
        "Nevertheless, seeing that a slight smoothing of the time series improved the error rates substantially for the Bi-LSTM model is a good thing to consider for future work.\n",
        "\n",
        "In conculsion, I'll be looking for other prediction indicators which will be adding to the model's performance.\n",
        "\n",
        "*Next up are financial news...*\n",
        "\n",
        "\n",
        "##### **Moving Average Bi-LSTM**\n",
        "> Validation Data --> Loss: `0.0005`, MAE: `0.0170`, MAPE: `3.0885`\n",
        "\n",
        "> Test Data --> Loss: `0.0009`, MAE: `0.0201`, MAPE: `4.0887`\n",
        "\n",
        "##### **Bi-LSTM**\n",
        ">Validation Data --> Loss: `0.0009`, MAE: `0.0211`, MAPE: `3.5828`\n",
        "\n",
        ">Test Data --> Loss: `0.0014`, MAE: `0.0245`, MAPE: `4.2656`\n",
        "\n",
        "---\n",
        "---\n",
        "\n",
        "##### **Moving Average CNN+Bi-LSTM**\n",
        ">Validation Data --> Loss: `0.0008`, MAE: `0.0213`, MAPE: `3.8731`\n",
        "\n",
        ">Test Data --> Loss: `0.0018`, MAE: `0.0292`, MAPE: `6.2077`\n",
        "\n",
        "##### **CNN+Bi-LSTM**\n",
        ">Validation Data --> Loss: `0.0010`, MAE: `0.0229`, MAPE: `3.8454`\n",
        "\n",
        ">Test Data --> Loss: `0.0015`, MAE: `0.0264`, MAPE: `4.5289`"
      ]
    },
    {
      "cell_type": "code",
      "execution_count": null,
      "metadata": {
        "id": "8xMWJ2U5xgaf"
      },
      "outputs": [],
      "source": []
    }
  ],
  "metadata": {
    "accelerator": "GPU",
    "colab": {
      "collapsed_sections": [
        "wGuq3lElCTTI",
        "o33mK855CwmG",
        "bmEV2UNMsFZm",
        "6VixXztByO9T",
        "vV1QyMpv2BSQ"
      ],
      "name": "IBM_PriceFeatures.ipynb",
      "provenance": []
    },
    "kernelspec": {
      "display_name": "Python 3",
      "name": "python3"
    },
    "language_info": {
      "codemirror_mode": {
        "name": "ipython",
        "version": 3
      },
      "file_extension": ".py",
      "mimetype": "text/x-python",
      "name": "python",
      "nbconvert_exporter": "python",
      "pygments_lexer": "ipython3",
      "version": "3.8.16"
    }
  },
  "nbformat": 4,
  "nbformat_minor": 0
}