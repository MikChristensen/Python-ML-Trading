{
  "cells": [
    {
      "cell_type": "code",
      "execution_count": 14,
      "metadata": {
        "colab": {
          "base_uri": "https://localhost:8080/"
        },
        "id": "k3SwCERnjlL1",
        "outputId": "c1b78fff-fd1a-4a9d-9daf-4b3ce5657f6a"
      },
      "outputs": [
        {
          "output_type": "stream",
          "name": "stdout",
          "text": [
            "Tensorflow version: 2.12.0\n"
          ]
        }
      ],
      "source": [
        "# Packages\n",
        "\n",
        "import numpy as np\n",
        "import pandas as pd\n",
        "import tensorflow as tf\n",
        "import yfinance as yf\n",
        "from tensorflow.keras.models import *\n",
        "from tensorflow.keras.layers import *\n",
        "print('Tensorflow version: {}'.format(tf.__version__))\n",
        "\n",
        "import matplotlib.pyplot as plt\n",
        "plt.style.use('seaborn')\n",
        "\n",
        "import warnings\n",
        "warnings.filterwarnings('ignore')"
      ]
    },
    {
      "cell_type": "markdown",
      "source": [
        "# Parameters"
      ],
      "metadata": {
        "id": "ySisYC4im20o"
      }
    },
    {
      "cell_type": "markdown",
      "metadata": {
        "id": "P9qstqiUDKaF"
      },
      "source": [
        "## Hyperparameters"
      ]
    },
    {
      "cell_type": "code",
      "execution_count": 15,
      "metadata": {
        "id": "rsuRqJrfDI0A"
      },
      "outputs": [],
      "source": [
        "seq_len = 128"
      ]
    },
    {
      "cell_type": "markdown",
      "source": [
        "## Model parameters\n"
      ],
      "metadata": {
        "id": "qQadVNzCmt63"
      }
    },
    {
      "cell_type": "code",
      "source": [
        "# Data download\n",
        "symbol = \"EURUSD=X\"\n",
        "period ='1mo'\n",
        "interval ='15m'\n",
        "\n",
        "# Tensorflow model\n",
        "epochs = 100"
      ],
      "metadata": {
        "id": "87gSftBWm0-L"
      },
      "execution_count": 16,
      "outputs": []
    },
    {
      "cell_type": "markdown",
      "source": [
        "# Data handling"
      ],
      "metadata": {
        "id": "qP8MUX-5m_t7"
      }
    },
    {
      "cell_type": "markdown",
      "metadata": {
        "id": "FuZ6aP5SrOpe"
      },
      "source": [
        "## Load data from YFinance"
      ]
    },
    {
      "cell_type": "code",
      "source": [
        "# Define function for downloading finance data from yfinance\n",
        "\n",
        "def get_yfinance_hist(symbol = \"EURUSD=X\", period ='1mo', interval ='15m' ):\n",
        "    df_raw = yf.download(symbol,period= period ,interval=interval)\n",
        "    df_raw[\"returns\"] = np.log(df_raw.Close.div(df_raw.Close.shift(1)))\n",
        "    df_raw.dropna(how=\"any\",inplace=True)\n",
        "    df_raw[\"target\"] = np.where(df_raw[\"returns\"].shift(-1) > 0, 1, 0)\n",
        "    df_raw = df_raw.drop('Volume', axis=1)\n",
        "    return df_raw\n",
        "\n",
        "\n",
        "df = get_yfinance_hist(symbol = symbol, period = period, interval= interval )\n",
        "\n",
        "df.head()"
      ],
      "metadata": {
        "colab": {
          "base_uri": "https://localhost:8080/",
          "height": 255
        },
        "id": "_UQXy9dnnkHl",
        "outputId": "b5f66a20-2c79-4372-b781-eda51e3230c8"
      },
      "execution_count": 17,
      "outputs": [
        {
          "output_type": "stream",
          "name": "stdout",
          "text": [
            "\r[*********************100%***********************]  1 of 1 completed\n"
          ]
        },
        {
          "output_type": "execute_result",
          "data": {
            "text/plain": [
              "                         Open      High       Low     Close  Adj Close  \\\n",
              "Datetime                                                                 \n",
              "2023-07-05 00:15:00  1.088376  1.088495  1.088376  1.088376   1.088376   \n",
              "2023-07-05 00:30:00  1.088376  1.088613  1.088376  1.088495   1.088495   \n",
              "2023-07-05 00:45:00  1.088613  1.088613  1.088495  1.088613   1.088613   \n",
              "2023-07-05 01:00:00  1.088732  1.088850  1.088613  1.088732   1.088732   \n",
              "2023-07-05 01:15:00  1.088732  1.088969  1.088732  1.088969   1.088969   \n",
              "\n",
              "                      returns  target  \n",
              "Datetime                               \n",
              "2023-07-05 00:15:00  0.000000       1  \n",
              "2023-07-05 00:30:00  0.000109       1  \n",
              "2023-07-05 00:45:00  0.000109       1  \n",
              "2023-07-05 01:00:00  0.000109       1  \n",
              "2023-07-05 01:15:00  0.000218       1  "
            ],
            "text/html": [
              "\n",
              "\n",
              "  <div id=\"df-22c7cbcc-fd05-4a1e-9fa6-0beeee14e340\">\n",
              "    <div class=\"colab-df-container\">\n",
              "      <div>\n",
              "<style scoped>\n",
              "    .dataframe tbody tr th:only-of-type {\n",
              "        vertical-align: middle;\n",
              "    }\n",
              "\n",
              "    .dataframe tbody tr th {\n",
              "        vertical-align: top;\n",
              "    }\n",
              "\n",
              "    .dataframe thead th {\n",
              "        text-align: right;\n",
              "    }\n",
              "</style>\n",
              "<table border=\"1\" class=\"dataframe\">\n",
              "  <thead>\n",
              "    <tr style=\"text-align: right;\">\n",
              "      <th></th>\n",
              "      <th>Open</th>\n",
              "      <th>High</th>\n",
              "      <th>Low</th>\n",
              "      <th>Close</th>\n",
              "      <th>Adj Close</th>\n",
              "      <th>returns</th>\n",
              "      <th>target</th>\n",
              "    </tr>\n",
              "    <tr>\n",
              "      <th>Datetime</th>\n",
              "      <th></th>\n",
              "      <th></th>\n",
              "      <th></th>\n",
              "      <th></th>\n",
              "      <th></th>\n",
              "      <th></th>\n",
              "      <th></th>\n",
              "    </tr>\n",
              "  </thead>\n",
              "  <tbody>\n",
              "    <tr>\n",
              "      <th>2023-07-05 00:15:00</th>\n",
              "      <td>1.088376</td>\n",
              "      <td>1.088495</td>\n",
              "      <td>1.088376</td>\n",
              "      <td>1.088376</td>\n",
              "      <td>1.088376</td>\n",
              "      <td>0.000000</td>\n",
              "      <td>1</td>\n",
              "    </tr>\n",
              "    <tr>\n",
              "      <th>2023-07-05 00:30:00</th>\n",
              "      <td>1.088376</td>\n",
              "      <td>1.088613</td>\n",
              "      <td>1.088376</td>\n",
              "      <td>1.088495</td>\n",
              "      <td>1.088495</td>\n",
              "      <td>0.000109</td>\n",
              "      <td>1</td>\n",
              "    </tr>\n",
              "    <tr>\n",
              "      <th>2023-07-05 00:45:00</th>\n",
              "      <td>1.088613</td>\n",
              "      <td>1.088613</td>\n",
              "      <td>1.088495</td>\n",
              "      <td>1.088613</td>\n",
              "      <td>1.088613</td>\n",
              "      <td>0.000109</td>\n",
              "      <td>1</td>\n",
              "    </tr>\n",
              "    <tr>\n",
              "      <th>2023-07-05 01:00:00</th>\n",
              "      <td>1.088732</td>\n",
              "      <td>1.088850</td>\n",
              "      <td>1.088613</td>\n",
              "      <td>1.088732</td>\n",
              "      <td>1.088732</td>\n",
              "      <td>0.000109</td>\n",
              "      <td>1</td>\n",
              "    </tr>\n",
              "    <tr>\n",
              "      <th>2023-07-05 01:15:00</th>\n",
              "      <td>1.088732</td>\n",
              "      <td>1.088969</td>\n",
              "      <td>1.088732</td>\n",
              "      <td>1.088969</td>\n",
              "      <td>1.088969</td>\n",
              "      <td>0.000218</td>\n",
              "      <td>1</td>\n",
              "    </tr>\n",
              "  </tbody>\n",
              "</table>\n",
              "</div>\n",
              "      <button class=\"colab-df-convert\" onclick=\"convertToInteractive('df-22c7cbcc-fd05-4a1e-9fa6-0beeee14e340')\"\n",
              "              title=\"Convert this dataframe to an interactive table.\"\n",
              "              style=\"display:none;\">\n",
              "\n",
              "  <svg xmlns=\"http://www.w3.org/2000/svg\" height=\"24px\"viewBox=\"0 0 24 24\"\n",
              "       width=\"24px\">\n",
              "    <path d=\"M0 0h24v24H0V0z\" fill=\"none\"/>\n",
              "    <path d=\"M18.56 5.44l.94 2.06.94-2.06 2.06-.94-2.06-.94-.94-2.06-.94 2.06-2.06.94zm-11 1L8.5 8.5l.94-2.06 2.06-.94-2.06-.94L8.5 2.5l-.94 2.06-2.06.94zm10 10l.94 2.06.94-2.06 2.06-.94-2.06-.94-.94-2.06-.94 2.06-2.06.94z\"/><path d=\"M17.41 7.96l-1.37-1.37c-.4-.4-.92-.59-1.43-.59-.52 0-1.04.2-1.43.59L10.3 9.45l-7.72 7.72c-.78.78-.78 2.05 0 2.83L4 21.41c.39.39.9.59 1.41.59.51 0 1.02-.2 1.41-.59l7.78-7.78 2.81-2.81c.8-.78.8-2.07 0-2.86zM5.41 20L4 18.59l7.72-7.72 1.47 1.35L5.41 20z\"/>\n",
              "  </svg>\n",
              "      </button>\n",
              "\n",
              "\n",
              "\n",
              "    <div id=\"df-6c9ecb28-111c-44f8-9eb2-ff242213c4fe\">\n",
              "      <button class=\"colab-df-quickchart\" onclick=\"quickchart('df-6c9ecb28-111c-44f8-9eb2-ff242213c4fe')\"\n",
              "              title=\"Suggest charts.\"\n",
              "              style=\"display:none;\">\n",
              "\n",
              "<svg xmlns=\"http://www.w3.org/2000/svg\" height=\"24px\"viewBox=\"0 0 24 24\"\n",
              "     width=\"24px\">\n",
              "    <g>\n",
              "        <path d=\"M19 3H5c-1.1 0-2 .9-2 2v14c0 1.1.9 2 2 2h14c1.1 0 2-.9 2-2V5c0-1.1-.9-2-2-2zM9 17H7v-7h2v7zm4 0h-2V7h2v10zm4 0h-2v-4h2v4z\"/>\n",
              "    </g>\n",
              "</svg>\n",
              "      </button>\n",
              "    </div>\n",
              "\n",
              "<style>\n",
              "  .colab-df-quickchart {\n",
              "    background-color: #E8F0FE;\n",
              "    border: none;\n",
              "    border-radius: 50%;\n",
              "    cursor: pointer;\n",
              "    display: none;\n",
              "    fill: #1967D2;\n",
              "    height: 32px;\n",
              "    padding: 0 0 0 0;\n",
              "    width: 32px;\n",
              "  }\n",
              "\n",
              "  .colab-df-quickchart:hover {\n",
              "    background-color: #E2EBFA;\n",
              "    box-shadow: 0px 1px 2px rgba(60, 64, 67, 0.3), 0px 1px 3px 1px rgba(60, 64, 67, 0.15);\n",
              "    fill: #174EA6;\n",
              "  }\n",
              "\n",
              "  [theme=dark] .colab-df-quickchart {\n",
              "    background-color: #3B4455;\n",
              "    fill: #D2E3FC;\n",
              "  }\n",
              "\n",
              "  [theme=dark] .colab-df-quickchart:hover {\n",
              "    background-color: #434B5C;\n",
              "    box-shadow: 0px 1px 3px 1px rgba(0, 0, 0, 0.15);\n",
              "    filter: drop-shadow(0px 1px 2px rgba(0, 0, 0, 0.3));\n",
              "    fill: #FFFFFF;\n",
              "  }\n",
              "</style>\n",
              "\n",
              "    <script>\n",
              "      async function quickchart(key) {\n",
              "        const containerElement = document.querySelector('#' + key);\n",
              "        const charts = await google.colab.kernel.invokeFunction(\n",
              "            'suggestCharts', [key], {});\n",
              "      }\n",
              "    </script>\n",
              "\n",
              "      <script>\n",
              "\n",
              "function displayQuickchartButton(domScope) {\n",
              "  let quickchartButtonEl =\n",
              "    domScope.querySelector('#df-6c9ecb28-111c-44f8-9eb2-ff242213c4fe button.colab-df-quickchart');\n",
              "  quickchartButtonEl.style.display =\n",
              "    google.colab.kernel.accessAllowed ? 'block' : 'none';\n",
              "}\n",
              "\n",
              "        displayQuickchartButton(document);\n",
              "      </script>\n",
              "      <style>\n",
              "    .colab-df-container {\n",
              "      display:flex;\n",
              "      flex-wrap:wrap;\n",
              "      gap: 12px;\n",
              "    }\n",
              "\n",
              "    .colab-df-convert {\n",
              "      background-color: #E8F0FE;\n",
              "      border: none;\n",
              "      border-radius: 50%;\n",
              "      cursor: pointer;\n",
              "      display: none;\n",
              "      fill: #1967D2;\n",
              "      height: 32px;\n",
              "      padding: 0 0 0 0;\n",
              "      width: 32px;\n",
              "    }\n",
              "\n",
              "    .colab-df-convert:hover {\n",
              "      background-color: #E2EBFA;\n",
              "      box-shadow: 0px 1px 2px rgba(60, 64, 67, 0.3), 0px 1px 3px 1px rgba(60, 64, 67, 0.15);\n",
              "      fill: #174EA6;\n",
              "    }\n",
              "\n",
              "    [theme=dark] .colab-df-convert {\n",
              "      background-color: #3B4455;\n",
              "      fill: #D2E3FC;\n",
              "    }\n",
              "\n",
              "    [theme=dark] .colab-df-convert:hover {\n",
              "      background-color: #434B5C;\n",
              "      box-shadow: 0px 1px 3px 1px rgba(0, 0, 0, 0.15);\n",
              "      filter: drop-shadow(0px 1px 2px rgba(0, 0, 0, 0.3));\n",
              "      fill: #FFFFFF;\n",
              "    }\n",
              "  </style>\n",
              "\n",
              "      <script>\n",
              "        const buttonEl =\n",
              "          document.querySelector('#df-22c7cbcc-fd05-4a1e-9fa6-0beeee14e340 button.colab-df-convert');\n",
              "        buttonEl.style.display =\n",
              "          google.colab.kernel.accessAllowed ? 'block' : 'none';\n",
              "\n",
              "        async function convertToInteractive(key) {\n",
              "          const element = document.querySelector('#df-22c7cbcc-fd05-4a1e-9fa6-0beeee14e340');\n",
              "          const dataTable =\n",
              "            await google.colab.kernel.invokeFunction('convertToInteractive',\n",
              "                                                     [key], {});\n",
              "          if (!dataTable) return;\n",
              "\n",
              "          const docLinkHtml = 'Like what you see? Visit the ' +\n",
              "            '<a target=\"_blank\" href=https://colab.research.google.com/notebooks/data_table.ipynb>data table notebook</a>'\n",
              "            + ' to learn more about interactive tables.';\n",
              "          element.innerHTML = '';\n",
              "          dataTable['output_type'] = 'display_data';\n",
              "          await google.colab.output.renderOutput(dataTable, element);\n",
              "          const docLink = document.createElement('div');\n",
              "          docLink.innerHTML = docLinkHtml;\n",
              "          element.appendChild(docLink);\n",
              "        }\n",
              "      </script>\n",
              "    </div>\n",
              "  </div>\n"
            ]
          },
          "metadata": {},
          "execution_count": 17
        }
      ]
    },
    {
      "cell_type": "markdown",
      "metadata": {
        "id": "1u5GscE0rTYm"
      },
      "source": [
        "## Plot daily assets closing prices"
      ]
    },
    {
      "cell_type": "code",
      "source": [
        "plot_cols = ['Close', 'target', 'Open', 'High', 'Low']\n",
        "plot_features = df[plot_cols]\n",
        "plot_features.index = df.index\n",
        "_ = plot_features.plot(subplots=True)"
      ],
      "metadata": {
        "colab": {
          "base_uri": "https://localhost:8080/",
          "height": 488
        },
        "id": "rfbfyPhCr-G0",
        "outputId": "4247a5da-91d8-441c-c85f-f6e4e202a537"
      },
      "execution_count": 18,
      "outputs": [
        {
          "output_type": "display_data",
          "data": {
            "text/plain": [
              "<Figure size 800x550 with 5 Axes>"
            ],
            "image/png": "[encoded data removed]"
          },
          "metadata": {}
        }
      ]
    },
    {
      "cell_type": "markdown",
      "metadata": {
        "id": "atHAT3QvtxvY"
      },
      "source": [
        "## Calculate normalized percentage change for all columns"
      ]
    },
    {
      "cell_type": "code",
      "execution_count": 19,
      "metadata": {
        "id": "RRQBi2S2o71f"
      },
      "outputs": [],
      "source": [
        "'''Calculate percentage change'''\n",
        "\n",
        "df['Open'] = df['Open'].pct_change() # Create arithmetic returns column\n",
        "df['High'] = df['High'].pct_change() # Create arithmetic returns column\n",
        "df['Low'] = df['Low'].pct_change() # Create arithmetic returns column\n",
        "df['Close'] = df['Close'].pct_change() # Create arithmetic returns column\n",
        "\n",
        "df.dropna(how='any', axis=0, inplace=True) # Drop all rows with NaN values\n",
        "\n",
        "###############################################################################\n",
        "'''Normalize price columns'''\n",
        "\n",
        "min_return = min(df[['Open', 'High', 'Low', 'Close']].min(axis=0))\n",
        "max_return = max(df[['Open', 'High', 'Low', 'Close']].max(axis=0))\n",
        "\n",
        "# Min-max normalize price columns (0-1 range)\n",
        "df['Open'] = (df['Open'] - min_return) / (max_return - min_return)\n",
        "df['High'] = (df['High'] - min_return) / (max_return - min_return)\n",
        "df['Low'] = (df['Low'] - min_return) / (max_return - min_return)\n",
        "df['Close'] = (df['Close'] - min_return) / (max_return - min_return)\n",
        "\n",
        "###############################################################################\n"
      ]
    },
    {
      "cell_type": "markdown",
      "source": [
        "## Split the df dataframe into test, train and validation dataset"
      ],
      "metadata": {
        "id": "6Q4B42G3wO4E"
      }
    },
    {
      "cell_type": "code",
      "source": [
        "train_df, val_df, test_df = np.split(df.sample(frac=1, random_state=42),\n",
        "                       [int(.6*len(df)), int(.8*len(df))])\n",
        "\n",
        "X_cols = ['Open', 'High', 'Low', 'Close', 'Adj Close', 'returns']\n",
        "y_cols = 'target'\n",
        "\n",
        "df_X_train = train_df[X_cols]\n",
        "df_y_train = train_df[y_cols]\n",
        "\n",
        "df_X_val = val_df[X_cols]\n",
        "df_y_val = val_df[y_cols]\n",
        "\n",
        "df_X_test = test_df[X_cols]\n",
        "df_y_test = test_df[y_cols]"
      ],
      "metadata": {
        "id": "6cNH_ZHauHLq"
      },
      "execution_count": 20,
      "outputs": []
    },
    {
      "cell_type": "markdown",
      "source": [
        "## Print the shapes of the datasets"
      ],
      "metadata": {
        "id": "zh_GWhS9v_An"
      }
    },
    {
      "cell_type": "code",
      "source": [
        "\n",
        "# Convert pandas columns into arrays\n",
        "train_data = train_df.values\n",
        "val_data = val_df.values\n",
        "test_data = test_df.values\n",
        "print('Training data shape: {}'.format(train_data.shape))\n",
        "print('Validation data shape: {}'.format(val_data.shape))\n",
        "print('Test data shape: {}'.format(test_data.shape))\n"
      ],
      "metadata": {
        "colab": {
          "base_uri": "https://localhost:8080/"
        },
        "id": "v_slEBd5uPQE",
        "outputId": "0ed903e4-e003-41fc-c290-33ee91a726ca"
      },
      "execution_count": 21,
      "outputs": [
        {
          "output_type": "stream",
          "name": "stdout",
          "text": [
            "Training data shape: (1305, 7)\n",
            "Validation data shape: (435, 7)\n",
            "Test data shape: (436, 7)\n"
          ]
        }
      ]
    },
    {
      "cell_type": "markdown",
      "metadata": {
        "id": "qNVvDDqoCGvn"
      },
      "source": [
        "## Plot daily changes of close prices and volume"
      ]
    },
    {
      "cell_type": "code",
      "execution_count": 22,
      "metadata": {
        "colab": {
          "base_uri": "https://localhost:8080/",
          "height": 487
        },
        "id": "2rXTKyZ2o7yh",
        "outputId": "aee6038d-ed35-40bd-c239-a7509d6a5b23"
      },
      "outputs": [
        {
          "output_type": "execute_result",
          "data": {
            "text/plain": [
              "Text(0, 0.5, 'Normalized Closing Returns')"
            ]
          },
          "metadata": {},
          "execution_count": 22
        },
        {
          "output_type": "display_data",
          "data": {
            "text/plain": [
              "<Figure size 1500x1000 with 1 Axes>"
            ],
            "image/png": "[encoded data removed]"
          },
          "metadata": {}
        }
      ],
      "source": [
        "fig = plt.figure(figsize=(15,10))\n",
        "st = fig.suptitle(\"Data Separation\", fontsize=20)\n",
        "st.set_y(0.92)\n",
        "\n",
        "###############################################################################\n",
        "\n",
        "ax1 = fig.add_subplot(211)\n",
        "ax1.plot(np.arange(train_data.shape[0]), train_df['Close'], label='Training data')\n",
        "\n",
        "ax1.plot(np.arange(train_data.shape[0],\n",
        "                   train_data.shape[0]+val_data.shape[0]), val_df['Close'], label='Validation data')\n",
        "\n",
        "ax1.plot(np.arange(train_data.shape[0]+val_data.shape[0],\n",
        "                   train_data.shape[0]+val_data.shape[0]+test_data.shape[0]), test_df['Close'], label='Test data')\n",
        "ax1.set_xlabel('Date')\n",
        "ax1.set_ylabel('Normalized Closing Returns')\n"
      ]
    },
    {
      "cell_type": "markdown",
      "metadata": {
        "id": "wGuq3lElCTTI"
      },
      "source": [
        "## Create chunks of training, validation and test data"
      ]
    },
    {
      "cell_type": "code",
      "execution_count": 23,
      "metadata": {
        "colab": {
          "base_uri": "https://localhost:8080/"
        },
        "id": "JNp3SeCv8IIf",
        "outputId": "b2b77573-35ab-4e62-8567-cb7b739a05e6"
      },
      "outputs": [
        {
          "output_type": "stream",
          "name": "stdout",
          "text": [
            "(1177, 128, 6) (1177,)\n",
            "(307, 128, 6) (307,)\n"
          ]
        }
      ],
      "source": [
        "# Training data\n",
        "X_train, y_train = [], []\n",
        "for i in range(seq_len, len(train_data)):\n",
        "  X_train.append(df_X_train[i-seq_len:i]) # Chunks of training data with a length of 128 df-rows\n",
        "  y_train.append(df_y_train[i]) #Value of 4th column (Close Price) of df-row 128+1\n",
        "X_train, y_train = np.array(X_train), np.array(y_train)\n",
        "\n",
        "###############################################################################\n",
        "\n",
        "# Validation data\n",
        "X_val, y_val = [], []\n",
        "for i in range(seq_len, len(val_data)):\n",
        "    X_val.append(df_X_val[i-seq_len:i])\n",
        "    y_val.append(df_y_val[i])\n",
        "X_val, y_val = np.array(X_val), np.array(y_val)\n",
        "\n",
        "###############################################################################\n",
        "\n",
        "# Test data\n",
        "X_test, y_test = [], []\n",
        "for i in range(seq_len, len(test_data)):\n",
        "    X_test.append(df_X_test[i-seq_len:i])\n",
        "    y_test.append(df_y_test[i])\n",
        "X_test, y_test = np.array(X_test), np.array(y_test)\n",
        "\n",
        "print(X_train.shape, y_train.shape)\n",
        "print(X_val.shape, y_val.shape)"
      ]
    },
    {
      "cell_type": "markdown",
      "metadata": {
        "id": "o33mK855CwmG"
      },
      "source": [
        "## 1D Convolution layers for a CNN+LSTM model\n"
      ]
    },
    {
      "cell_type": "code",
      "execution_count": 24,
      "metadata": {
        "id": "ZuZHtgdw8IGc"
      },
      "outputs": [],
      "source": [
        "def Inception_A(layer_in, c7):\n",
        "  branch1x1_1 = Conv1D(c7, kernel_size=1, padding=\"same\", use_bias=False)(layer_in)\n",
        "  branch1x1 = BatchNormalization()(branch1x1_1)\n",
        "  branch1x1 = ReLU()(branch1x1)\n",
        "\n",
        "  branch5x5_1 = Conv1D(c7, kernel_size=1, padding='same', use_bias=False)(layer_in)\n",
        "  branch5x5 = BatchNormalization()(branch5x5_1)\n",
        "  branch5x5 = ReLU()(branch5x5)\n",
        "  branch5x5 = Conv1D(c7, kernel_size=5, padding='same', use_bias=False)(branch5x5)\n",
        "  branch5x5 = BatchNormalization()(branch5x5)\n",
        "  branch5x5 = ReLU()(branch5x5)\n",
        "\n",
        "  branch3x3_1 = Conv1D(c7, kernel_size=1, padding='same', use_bias=False)(layer_in)\n",
        "  branch3x3 = BatchNormalization()(branch3x3_1)\n",
        "  branch3x3 = ReLU()(branch3x3)\n",
        "  branch3x3 = Conv1D(c7, kernel_size=3, padding='same', use_bias=False)(branch3x3)\n",
        "  branch3x3 = BatchNormalization()(branch3x3)\n",
        "  branch3x3 = ReLU()(branch3x3)\n",
        "  branch3x3 = Conv1D(c7, kernel_size=3, padding='same', use_bias=False)(branch3x3)\n",
        "  branch3x3 = BatchNormalization()(branch3x3)\n",
        "  branch3x3 = ReLU()(branch3x3)\n",
        "\n",
        "  branch_pool = AveragePooling1D(pool_size=(3), strides=1, padding='same')(layer_in)\n",
        "  branch_pool = Conv1D(c7, kernel_size=1, padding='same', use_bias=False)(branch_pool)\n",
        "  branch_pool = BatchNormalization()(branch_pool)\n",
        "  branch_pool = ReLU()(branch_pool)\n",
        "  outputs = Concatenate(axis=-1)([branch1x1, branch5x5, branch3x3, branch_pool])\n",
        "  return outputs\n",
        "\n",
        "\n",
        "def Inception_B(layer_in, c7):\n",
        "  branch3x3 = Conv1D(c7, kernel_size=3, padding=\"same\", strides=2, use_bias=False)(layer_in)\n",
        "  branch3x3 = BatchNormalization()(branch3x3)\n",
        "  branch3x3 = ReLU()(branch3x3)\n",
        "\n",
        "  branch3x3dbl = Conv1D(c7, kernel_size=1, padding=\"same\", use_bias=False)(layer_in)\n",
        "  branch3x3dbl = BatchNormalization()(branch3x3dbl)\n",
        "  branch3x3dbl = ReLU()(branch3x3dbl)\n",
        "  branch3x3dbl = Conv1D(c7, kernel_size=3, padding=\"same\", use_bias=False)(branch3x3dbl)\n",
        "  branch3x3dbl = BatchNormalization()(branch3x3dbl)\n",
        "  branch3x3dbl = ReLU()(branch3x3dbl)\n",
        "  branch3x3dbl = Conv1D(c7, kernel_size=3, padding=\"same\", strides=2, use_bias=False)(branch3x3dbl)\n",
        "  branch3x3dbl = BatchNormalization()(branch3x3dbl)\n",
        "  branch3x3dbl = ReLU()(branch3x3dbl)\n",
        "\n",
        "  branch_pool = MaxPooling1D(pool_size=3, strides=2, padding=\"same\")(layer_in)\n",
        "\n",
        "  outputs = Concatenate(axis=-1)([branch3x3, branch3x3dbl, branch_pool])\n",
        "  return outputs\n",
        "\n",
        "\n",
        "def Inception_C(layer_in, c7):\n",
        "  branch1x1_1 = Conv1D(c7, kernel_size=1, padding=\"same\", use_bias=False)(layer_in)\n",
        "  branch1x1 = BatchNormalization()(branch1x1_1)\n",
        "  branch1x1 = ReLU()(branch1x1)\n",
        "\n",
        "  branch7x7_1 = Conv1D(c7, kernel_size=1, padding=\"same\", use_bias=False)(layer_in)\n",
        "  branch7x7 = BatchNormalization()(branch7x7_1)\n",
        "  branch7x7 = ReLU()(branch7x7)\n",
        "  branch7x7 = Conv1D(c7, kernel_size=(7), padding=\"same\", use_bias=False)(branch7x7)\n",
        "  branch7x7 = BatchNormalization()(branch7x7)\n",
        "  branch7x7 = ReLU()(branch7x7)\n",
        "  branch7x7 = Conv1D(c7, kernel_size=(1), padding=\"same\", use_bias=False)(branch7x7)\n",
        "  branch7x7 = BatchNormalization()(branch7x7)\n",
        "  branch7x7 = ReLU()(branch7x7)\n",
        "\n",
        "  branch7x7dbl_1 = Conv1D(c7, kernel_size=1, padding=\"same\", use_bias=False)(layer_in)\n",
        "  branch7x7dbl = BatchNormalization()(branch7x7dbl_1)\n",
        "  branch7x7dbl = ReLU()(branch7x7dbl)\n",
        "  branch7x7dbl = Conv1D(c7, kernel_size=(7), padding=\"same\", use_bias=False)(branch7x7dbl)\n",
        "  branch7x7dbl = BatchNormalization()(branch7x7dbl)\n",
        "  branch7x7dbl = ReLU()(branch7x7dbl)\n",
        "  branch7x7dbl = Conv1D(c7, kernel_size=(1), padding=\"same\", use_bias=False)(branch7x7dbl)\n",
        "  branch7x7dbl = BatchNormalization()(branch7x7dbl)\n",
        "  branch7x7dbl = ReLU()(branch7x7dbl)\n",
        "  branch7x7dbl = Conv1D(c7, kernel_size=(7), padding=\"same\", use_bias=False)(branch7x7dbl)\n",
        "  branch7x7dbl = BatchNormalization()(branch7x7dbl)\n",
        "  branch7x7dbl = ReLU()(branch7x7dbl)\n",
        "  branch7x7dbl = Conv1D(c7, kernel_size=(1), padding=\"same\", use_bias=False)(branch7x7dbl)\n",
        "  branch7x7dbl = BatchNormalization()(branch7x7dbl)\n",
        "  branch7x7dbl = ReLU()(branch7x7dbl)\n",
        "\n",
        "  branch_pool = AveragePooling1D(pool_size=3, strides=1, padding='same')(layer_in)\n",
        "  branch_pool = Conv1D(c7, kernel_size=1, padding='same', use_bias=False)(branch_pool)\n",
        "  branch_pool = BatchNormalization()(branch_pool)\n",
        "  branch_pool = ReLU()(branch_pool)\n",
        "\n",
        "  outputs = Concatenate(axis=-1)([branch1x1, branch7x7, branch7x7dbl, branch_pool])\n",
        "  return outputs"
      ]
    },
    {
      "cell_type": "markdown",
      "metadata": {
        "id": "NN-ROnUVD0SS"
      },
      "source": [
        "# **Testing different model architectures**\n",
        "## Create function for testing models"
      ]
    },
    {
      "cell_type": "code",
      "source": [
        "def run_model(model):\n",
        "  model.summary()\n",
        "  callback = tf.keras.callbacks.EarlyStopping(monitor='val_loss', patience=2)\n",
        "\n",
        "  model.fit(X_train, y_train,\n",
        "                batch_size=2048,\n",
        "                verbose=2,\n",
        "                callbacks=[callback],\n",
        "                epochs=epochs,\n",
        "                #shuffle=True,\n",
        "                validation_data=(X_val, y_val),)\n",
        "\n",
        "  ###############################################################################\n",
        "  '''Calculate predictions and metrics'''\n",
        "\n",
        "  #Calculate predication for training, validation and test data\n",
        "  train_pred = model.predict(X_train)\n",
        "  val_pred = model.predict(X_val)\n",
        "  test_pred = model.predict(X_test)\n",
        "\n",
        "  #Print evaluation metrics for all datasets\n",
        "  train_eval = model.evaluate(X_train, y_train, verbose=0)\n",
        "  val_eval = model.evaluate(X_val, y_val, verbose=0)\n",
        "  test_eval = model.evaluate(X_test, y_test, verbose=0)\n",
        "  print(' ')\n",
        "  print('Evaluation metrics')\n",
        "  print('Training Data - Loss: {:.4f}, MAE: {:.4f}, MAPE: {:.4f}, ACC: {:.4f}'.format(train_eval[0], train_eval[1], train_eval[2], train_eval[3]))\n",
        "  print('Validation Data - Loss: {:.4f}, MAE: {:.4f}, MAPE: {:.4f}, ACC: {:.4f}'.format(val_eval[0], val_eval[1], val_eval[2] , val_eval[3]))\n",
        "  print('Test Data - Loss: {:.4f}, MAE: {:.4f}, MAPE: {:.4f}, ACC: {:.4f}'.format(test_eval[0], test_eval[1], test_eval[2], test_eval[3]))\n",
        "\n",
        "  ###############################################################################\n",
        "  '''Display results'''\n",
        "\n",
        "  fig = plt.figure(figsize=(15,15))\n",
        "  st = fig.suptitle(\"Bi-LSTM Model\", fontsize=22)\n",
        "  st.set_y(1.02)\n",
        "\n",
        "  #Plot training data results\n",
        "  ax11 = fig.add_subplot(311)\n",
        "  ax11.plot(train_data[:, 0], label='Asset Closing price')\n",
        "  ax11.plot(train_pred, color='yellow', linewidth=3, label='Predicted asset Closing Returns')\n",
        "  ax11.set_title(\"Training Data\", fontsize=18)\n",
        "  ax11.set_xlabel('Date')\n",
        "  ax11.set_ylabel('IBM Closing Returns')\n",
        "\n",
        "  #Plot validation data results\n",
        "  ax21 = fig.add_subplot(312)\n",
        "  ax21.plot(val_data[:, 0], label='Asset Closing price')\n",
        "  ax21.plot(val_pred, color='yellow', linewidth=3, label='Predicted Asset Closing Returns')\n",
        "  ax21.set_title(\"Validation Data\", fontsize=18)\n",
        "  ax21.set_xlabel('Date')\n",
        "  ax21.set_ylabel('IBM Closing Returns')\n",
        "\n",
        "  #Plot test data results\n",
        "  ax31 = fig.add_subplot(313)\n",
        "  ax31.plot(test_data[:, 0], label='Asset Closing price')\n",
        "  ax31.plot(test_pred, color='yellow', linewidth=3, label='Predicted Asset Closing Returns')\n",
        "  ax31.set_title(\"Test Data\", fontsize=18)\n",
        "  ax31.set_xlabel('Date')\n",
        "  ax31.set_ylabel('Asset Closing Returns')\n",
        "\n",
        "  plt.tight_layout()\n",
        "  plt.legend(loc='best')"
      ],
      "metadata": {
        "id": "lHP0ku-9Gmw-"
      },
      "execution_count": 25,
      "outputs": []
    },
    {
      "cell_type": "markdown",
      "metadata": {
        "id": "pzuzAFkKERC-"
      },
      "source": [
        "### Bi-LSTM model"
      ]
    },
    {
      "cell_type": "code",
      "execution_count": null,
      "metadata": {
        "colab": {
          "base_uri": "https://localhost:8080/"
        },
        "id": "ohLqA_fT1wsE",
        "outputId": "65a4a271-b11b-4e7c-d2db-c924218042f5"
      },
      "outputs": [
        {
          "output_type": "stream",
          "name": "stdout",
          "text": [
            "Model: \"model_2\"\n",
            "__________________________________________________________________________________________________\n",
            " Layer (type)                   Output Shape         Param #     Connected to                     \n",
            "==================================================================================================\n",
            " input_3 (InputLayer)           [(None, 128, 6)]     0           []                               \n",
            "                                                                                                  \n",
            " bidirectional_6 (Bidirectional  (None, 128, 256)    138240      ['input_3[0][0]']                \n",
            " )                                                                                                \n",
            "                                                                                                  \n",
            " bidirectional_7 (Bidirectional  (None, 128, 256)    394240      ['bidirectional_6[0][0]']        \n",
            " )                                                                                                \n",
            "                                                                                                  \n",
            " bidirectional_8 (Bidirectional  (None, 128, 128)    164352      ['bidirectional_7[0][0]']        \n",
            " )                                                                                                \n",
            "                                                                                                  \n",
            " global_average_pooling1d_2 (Gl  (None, 128)         0           ['bidirectional_8[0][0]']        \n",
            " obalAveragePooling1D)                                                                            \n",
            "                                                                                                  \n",
            " global_max_pooling1d_2 (Global  (None, 128)         0           ['bidirectional_8[0][0]']        \n",
            " MaxPooling1D)                                                                                    \n",
            "                                                                                                  \n",
            " concatenate_2 (Concatenate)    (None, 256)          0           ['global_average_pooling1d_2[0][0\n",
            "                                                                 ]',                              \n",
            "                                                                  'global_max_pooling1d_2[0][0]'] \n",
            "                                                                                                  \n",
            " dense_4 (Dense)                (None, 64)           16448       ['concatenate_2[0][0]']          \n",
            "                                                                                                  \n",
            " dense_5 (Dense)                (None, 1)            65          ['dense_4[0][0]']                \n",
            "                                                                                                  \n",
            "==================================================================================================\n",
            "Total params: 713,345\n",
            "Trainable params: 713,345\n",
            "Non-trainable params: 0\n",
            "__________________________________________________________________________________________________\n",
            "Epoch 1/100\n"
          ]
        }
      ],
      "source": [
        "def create_model():\n",
        "  in_seq = Input(shape = (seq_len, len(X_cols)))\n",
        "\n",
        "  x = Bidirectional(LSTM(128, return_sequences=True))(in_seq)\n",
        "  x = Bidirectional(LSTM(128, return_sequences=True))(x)\n",
        "  x = Bidirectional(LSTM(64, return_sequences=True))(x)\n",
        "\n",
        "  avg_pool = GlobalAveragePooling1D()(x)\n",
        "  max_pool = GlobalMaxPooling1D()(x)\n",
        "  conc = concatenate([avg_pool, max_pool])\n",
        "  conc = Dense(64, activation=\"relu\")(conc)\n",
        "  out = Dense(1, activation=\"linear\")(conc)\n",
        "\n",
        "  model = Model(inputs=in_seq, outputs=out)\n",
        "  model.compile(loss=\"mse\", optimizer=\"adam\", metrics=['mae', 'mape', 'accuracy'])\n",
        "  return model\n",
        "\n",
        "model = create_model()\n",
        "run_model(model)"
      ]
    },
    {
      "cell_type": "markdown",
      "metadata": {
        "id": "ZeYRlfYwI6fu"
      },
      "source": [
        "### CNN + Bi-LSTM model"
      ]
    },
    {
      "cell_type": "code",
      "execution_count": null,
      "metadata": {
        "id": "Oqx3hmdiDztH"
      },
      "outputs": [],
      "source": [
        "def create_model():\n",
        "  in_seq = Input(shape=(seq_len, len(X_cols)))\n",
        "\n",
        "  x = Inception_A(in_seq, 32)\n",
        "  x = Inception_A(x, 32)\n",
        "  x = Inception_B(x, 32)\n",
        "  x = Inception_B(x, 32)\n",
        "  x = Inception_C(x, 32)\n",
        "  x = Inception_C(x, 32)\n",
        "\n",
        "  x = Bidirectional(LSTM(128, return_sequences=True))(x)\n",
        "  x = Bidirectional(LSTM(128, return_sequences=True))(x)\n",
        "  x = Bidirectional(LSTM(64, return_sequences=True))(x)\n",
        "\n",
        "  avg_pool = GlobalAveragePooling1D()(x)\n",
        "  max_pool = GlobalMaxPooling1D()(x)\n",
        "  conc = concatenate([avg_pool, max_pool])\n",
        "  conc = Dense(64, activation=\"relu\")(conc)\n",
        "  out = Dense(1, activation=\"sigmoid\")(conc)\n",
        "\n",
        "  model = Model(inputs=in_seq, outputs=out)\n",
        "  model.compile(loss=\"mse\", optimizer=\"adam\", metrics=['mae', 'mape', 'accuracy'])\n",
        "  return model\n",
        "\n",
        "model = create_model()\n",
        "run_model(model)"
      ]
    },
    {
      "cell_type": "markdown",
      "metadata": {
        "id": "XyaZwdAakaOk"
      },
      "source": [
        "## **Conculsion 1**\n",
        "When interpreting at the evaluation metrics it seems that the networks are predicting the next day closing price returns very well. The Bi-LSTM and CNN+Bi-LSTM networks have a **mean average percentage error** **(MAPE)** of  `3.58` and `3.84` for the validation set and `4.26` and `4.53` for the test set.\n",
        "Making it also obvious that the Bi-LSTM network is better than the CNN+Bi-LSTM network, which honestly surprised me.\n",
        "\n",
        "However, when taking a glance at the graphs of the validation and test set it becomes clear that the networks have merely found the center point of the return distributions. Over the entire course of the time series the networks do not divert greatly from the center.\n",
        "\n",
        "It seems that the right and left tail of the stock return distribution are not derivable from price data alone.\n",
        "\n",
        "I do have the following **hypotheses** that provide more room for investigation and might lead to better results.\n",
        "\n",
        "#### **Hypotheses**\n",
        "\n",
        "1. The stock returns seem very rugged, which could make the networks interpret the distribution tails as semi-random. --> smooth returns with **moving average**\n",
        "\n",
        "2. We do need more price data to derive temporal dependencies of the time series and get a better understanding of the distribution tails. --> Obtain **more price data** of different stocks, etfs, etc.\n",
        "\n",
        "3. In order to predict the stock return distribution tails more accurately include additional features e.g. **financial news, company's balance sheet and P&L**\n",
        "\n",
        "The first hypothesis we'll also implement in this notebook.\n",
        "\n",
        "The second and third hypothesis will be addressed at a later stage.\n",
        "\n",
        "\n"
      ]
    },
    {
      "cell_type": "markdown",
      "metadata": {
        "id": "gWEIR6pMrhsK"
      },
      "source": [
        "# **Moving Average Analysis**"
      ]
    },
    {
      "cell_type": "markdown",
      "metadata": {
        "id": "bmEV2UNMsFZm"
      },
      "source": [
        "## Loading financial data again to apply a moving average effect"
      ]
    },
    {
      "cell_type": "code",
      "execution_count": null,
      "metadata": {
        "id": "sv5KBUCUDzqR"
      },
      "outputs": [],
      "source": [
        "df = get_yfinance_hist(symbol = symbol, period = period, interval= interval )\n",
        "\n",
        "# Apply moving average with a window of 10 days to all columns\n",
        "df[['Open', 'High', 'Low', 'Close', 'returns']] = df[['Open', 'High', 'Low', 'Close', 'returns']].rolling(10).mean()\n",
        "\n",
        "# Drop all rows with NaN values\n",
        "df.dropna(how='any', axis=0, inplace=True)\n",
        "\n",
        "df.head()"
      ]
    },
    {
      "cell_type": "markdown",
      "metadata": {
        "id": "aOS7lIcx1jKA"
      },
      "source": [
        "## Moving Average - Plot daily IBM closing prices"
      ]
    },
    {
      "cell_type": "code",
      "execution_count": null,
      "metadata": {
        "id": "b0c4M59AtIRG"
      },
      "outputs": [],
      "source": [
        "plt.figure(figsize=(15, 5))\n",
        "plt.plot(df['Close'])\n",
        "plt.xticks(range(0, df.shape[0], 1464), df['Date'].loc[::1464], rotation=0)\n",
        "plt.ylabel('Price', fontsize=18)\n",
        "plt.title(\"Close Price - Moving Average\", fontsize=20)\n",
        "plt.legend(['Close Price'], fontsize='x-large', loc='best')\n",
        "plt.show()"
      ]
    },
    {
      "cell_type": "markdown",
      "metadata": {
        "id": "MkH88mSV1paa"
      },
      "source": [
        "## Moving Average - Plot daily IBM volumes"
      ]
    },
    {
      "cell_type": "code",
      "execution_count": null,
      "metadata": {
        "id": "WdLx6qlRtIXd"
      },
      "outputs": [],
      "source": [
        "plt.figure(figsize=(15, 5))\n",
        "plt.plot(df['Volume'])\n",
        "plt.xticks(range(0, df.shape[0], 1464), df['Date'].loc[::1464], rotation=0)\n",
        "plt.ylabel('Volume', fontsize=18)\n",
        "plt.title(\"Volume - Moving Average\", fontsize=20)\n",
        "plt.legend(['Volume'], fontsize='x-large', loc='best')\n",
        "plt.show()"
      ]
    },
    {
      "cell_type": "markdown",
      "metadata": {
        "id": "6VixXztByO9T"
      },
      "source": [
        "## Moving Average - Calculate normalized percentage change for all columns"
      ]
    },
    {
      "cell_type": "code",
      "execution_count": null,
      "metadata": {
        "id": "dmPQJ2QKtIUM"
      },
      "outputs": [],
      "source": [
        "'''Calculate percentage change'''\n",
        "\n",
        "df['Open'] = df['Open'].pct_change() # Create arithmetic returns column\n",
        "df['High'] = df['High'].pct_change() # Create arithmetic returns column\n",
        "df['Low'] = df['Low'].pct_change() # Create arithmetic returns column\n",
        "df['Close'] = df['Close'].pct_change() # Create arithmetic returns column\n",
        "df['Volume'] = df['Volume'].pct_change()\n",
        "\n",
        "df.dropna(how='any', axis=0, inplace=True) # Drop all rows with NaN values\n",
        "\n",
        "###############################################################################\n",
        "'''Normalize price columns'''\n",
        "\n",
        "min_return = min(df[['Open', 'High', 'Low', 'Close']].min(axis=0))\n",
        "max_return = max(df[['Open', 'High', 'Low', 'Close']].max(axis=0))\n",
        "\n",
        "# Min-max normalize price columns (0-1 range)\n",
        "df['Open'] = (df['Open'] - min_return) / (max_return - min_return)\n",
        "df['High'] = (df['High'] - min_return) / (max_return - min_return)\n",
        "df['Low'] = (df['Low'] - min_return) / (max_return - min_return)\n",
        "df['Close'] = (df['Close'] - min_return) / (max_return - min_return)\n",
        "\n",
        "###############################################################################\n",
        "'''Normalize volume column'''\n",
        "\n",
        "min_volume = df['Volume'].min(axis=0)\n",
        "max_volume = df['Volume'].max(axis=0)\n",
        "\n",
        "# Min-max normalize volume columns (0-1 range)\n",
        "df['Volume'] = (df['Volume'] - min_volume) / (max_volume - min_volume)\n",
        "\n",
        "###############################################################################\n",
        "'''Create training, validation and test split'''\n",
        "\n",
        "times = sorted(df.index.values)\n",
        "last_10pct = sorted(df.index.values)[-int(0.1*len(times))] # Last 10% of series\n",
        "last_20pct = sorted(df.index.values)[-int(0.2*len(times))] # Last 20% of series\n",
        "\n",
        "df_train = df[(df.index < last_20pct)]  # Training data are 80% of total data\n",
        "df_val = df[(df.index >= last_20pct) & (df.index < last_10pct)]\n",
        "df_test = df[(df.index >= last_10pct)]\n",
        "\n",
        "# Remove date column\n",
        "df_train.drop(columns=['Date'], inplace=True)\n",
        "df_val.drop(columns=['Date'], inplace=True)\n",
        "df_test.drop(columns=['Date'], inplace=True)\n",
        "\n",
        "# Convert pandas columns into arrays\n",
        "train_data = df_train.values\n",
        "val_data = df_val.values\n",
        "test_data = df_test.values\n",
        "print('Training data shape: {}'.format(train_data.shape))\n",
        "print('Validation data shape: {}'.format(val_data.shape))\n",
        "print('Test data shape: {}'.format(test_data.shape))\n",
        "\n",
        "df_train.head()"
      ]
    },
    {
      "cell_type": "markdown",
      "metadata": {
        "id": "Dd8wF_fL11UL"
      },
      "source": [
        "## Moving Average - Plot daily changes of close prices and volume"
      ]
    },
    {
      "cell_type": "code",
      "execution_count": null,
      "metadata": {
        "id": "YlsCOfOjxgWj"
      },
      "outputs": [],
      "source": [
        "fig = plt.figure(figsize=(15,10))\n",
        "st = fig.suptitle(\"Data Separation\", fontsize=20)\n",
        "st.set_y(0.92)\n",
        "\n",
        "###############################################################################\n",
        "\n",
        "ax1 = fig.add_subplot(211)\n",
        "ax1.plot(np.arange(train_data.shape[0]), df_train['Close'], label='Training data')\n",
        "\n",
        "ax1.plot(np.arange(train_data.shape[0],\n",
        "                   train_data.shape[0]+val_data.shape[0]), df_val['Close'], label='Validation data')\n",
        "\n",
        "ax1.plot(np.arange(train_data.shape[0]+val_data.shape[0],\n",
        "                   train_data.shape[0]+val_data.shape[0]+test_data.shape[0]), df_test['Close'], label='Test data')\n",
        "ax1.set_xlabel('Date')\n",
        "ax1.set_ylabel('Normalized Closing Returns')\n",
        "\n",
        "###############################################################################\n",
        "\n",
        "ax2 = fig.add_subplot(212)\n",
        "ax2.plot(np.arange(train_data.shape[0]), df_train['Volume'], label='Training data')\n",
        "\n",
        "ax2.plot(np.arange(train_data.shape[0],\n",
        "                   train_data.shape[0]+val_data.shape[0]), df_val['Volume'], label='Validation data')\n",
        "\n",
        "ax2.plot(np.arange(train_data.shape[0]+val_data.shape[0],\n",
        "                   train_data.shape[0]+val_data.shape[0]+test_data.shape[0]), df_test['Volume'], label='Test data')\n",
        "ax2.set_xlabel('Date')\n",
        "ax2.set_ylabel('Normalized Volume Changes')\n",
        "\n",
        "plt.legend(loc='best')"
      ]
    },
    {
      "cell_type": "markdown",
      "metadata": {
        "id": "vV1QyMpv2BSQ"
      },
      "source": [
        "## Moving Average - Create chunks of training, validation and test data"
      ]
    },
    {
      "cell_type": "code",
      "execution_count": null,
      "metadata": {
        "id": "2sEapIOaxgi-"
      },
      "outputs": [],
      "source": [
        "# Training data\n",
        "X_train, y_train = [], []\n",
        "for i in range(seq_len, len(train_data)):\n",
        "  X_train.append(train_data[i-seq_len:i]) # Chunks of training data with a length of 128 df-rows\n",
        "  y_train.append(train_data[:, 3][i]) #Value of 4th column (Close Price) of df-row 128+1\n",
        "X_train, y_train = np.array(X_train), np.array(y_train)\n",
        "\n",
        "###############################################################################\n",
        "\n",
        "# Validation data\n",
        "X_val, y_val = [], []\n",
        "for i in range(seq_len, len(val_data)):\n",
        "    X_val.append(val_data[i-seq_len:i])\n",
        "    y_val.append(val_data[:, 3][i])\n",
        "X_val, y_val = np.array(X_val), np.array(y_val)\n",
        "\n",
        "###############################################################################\n",
        "\n",
        "# Test data\n",
        "X_test, y_test = [], []\n",
        "for i in range(seq_len, len(test_data)):\n",
        "    X_test.append(test_data[i-seq_len:i])\n",
        "    y_test.append(test_data[:, 3][i])\n",
        "X_test, y_test = np.array(X_test), np.array(y_test)\n",
        "\n",
        "print(X_train.shape, y_train.shape)\n",
        "print(X_val.shape, y_val.shape)"
      ]
    },
    {
      "cell_type": "markdown",
      "metadata": {
        "id": "16r3TfBcy3AB"
      },
      "source": [
        "# **Moving Average - Testing different model architectures**"
      ]
    },
    {
      "cell_type": "markdown",
      "metadata": {
        "id": "0UOB-X9TBm99"
      },
      "source": [
        "### Moving Average - Bi-LSTM model"
      ]
    },
    {
      "cell_type": "code",
      "execution_count": null,
      "metadata": {
        "id": "-YiT9SRexghi"
      },
      "outputs": [],
      "source": [
        "def create_model():\n",
        "  in_seq = Input(shape = (seq_len, 5))\n",
        "\n",
        "  x = Bidirectional(LSTM(128, return_sequences=True))(in_seq)\n",
        "  x = Bidirectional(LSTM(128, return_sequences=True))(x)\n",
        "  x = Bidirectional(LSTM(64, return_sequences=True))(x)\n",
        "\n",
        "  avg_pool = GlobalAveragePooling1D()(x)\n",
        "  max_pool = GlobalMaxPooling1D()(x)\n",
        "  conc = concatenate([avg_pool, max_pool])\n",
        "  conc = Dense(64, activation=\"relu\")(conc)\n",
        "  out = Dense(1, activation=\"sigmoid\")(conc)\n",
        "\n",
        "  model = Model(inputs=in_seq, outputs=out)\n",
        "  model.compile(loss=\"mse\", optimizer=\"adam\", metrics=['mae', 'mape'])\n",
        "  return model\n",
        "\n",
        "model = create_model()\n",
        "run_model(model)"
      ]
    },
    {
      "cell_type": "markdown",
      "metadata": {
        "id": "7FmbRHIcBxRZ"
      },
      "source": [
        "### Moving Average - CNN + Bi-LSTM model"
      ]
    },
    {
      "cell_type": "code",
      "execution_count": null,
      "metadata": {
        "id": "cAqTVJyjxgeI"
      },
      "outputs": [],
      "source": [
        "def create_model():\n",
        "  in_seq = Input(shape=(seq_len, 5))\n",
        "\n",
        "  x = Inception_A(in_seq, 32)\n",
        "  x = Inception_A(x, 32)\n",
        "  x = Inception_B(x, 32)\n",
        "  x = Inception_B(x, 32)\n",
        "  x = Inception_C(x, 32)\n",
        "  x = Inception_C(x, 32)\n",
        "\n",
        "  x = Bidirectional(LSTM(128, return_sequences=True))(x)\n",
        "  x = Bidirectional(LSTM(128, return_sequences=True))(x)\n",
        "  x = Bidirectional(LSTM(64, return_sequences=True))(x)\n",
        "\n",
        "  avg_pool = GlobalAveragePooling1D()(x)\n",
        "  max_pool = GlobalMaxPooling1D()(x)\n",
        "  conc = concatenate([avg_pool, max_pool])\n",
        "  conc = Dense(64, activation=\"relu\")(conc)\n",
        "  out = Dense(1, activation=\"sigmoid\")(conc)\n",
        "\n",
        "  model = Model(inputs=in_seq, outputs=out)\n",
        "  model.compile(loss=\"mse\", optimizer=\"adam\", metrics=['mae', 'mape'])\n",
        "  return model\n",
        "\n",
        "model = create_model()\n",
        "run_model(model)"
      ]
    },
    {
      "cell_type": "markdown",
      "metadata": {
        "id": "1WORNol3gVjI"
      },
      "source": [
        "## **Conculsion 2**\n",
        "\n",
        "As expected applying a moving average to the price data smoothed the return distribution and thus lead to an improved model performance.\n",
        "\n",
        "However, when applying a moving average effect to a time series your dataset represent the real market less accurately. Subsequently, your dataset is biased towards less outliers.\n",
        "\n",
        "When investing in the stock market it is curcial that outliers are not excluded or smoothed out since outliers majorly contribute to your trading performance.\n",
        "\n",
        "Thus, any data transformations that can't be easily reverted once the predictions have been made, should be avoided.\n",
        "\n",
        "Nevertheless, seeing that a slight smoothing of the time series improved the error rates substantially for the Bi-LSTM model is a good thing to consider for future work.\n",
        "\n",
        "In conculsion, I'll be looking for other prediction indicators which will be adding to the model's performance.\n",
        "\n",
        "*Next up are financial news...*\n",
        "\n",
        "\n",
        "##### **Moving Average Bi-LSTM**\n",
        "> Validation Data --> Loss: `0.0005`, MAE: `0.0170`, MAPE: `3.0885`\n",
        "\n",
        "> Test Data --> Loss: `0.0009`, MAE: `0.0201`, MAPE: `4.0887`\n",
        "\n",
        "##### **Bi-LSTM**\n",
        ">Validation Data --> Loss: `0.0009`, MAE: `0.0211`, MAPE: `3.5828`\n",
        "\n",
        ">Test Data --> Loss: `0.0014`, MAE: `0.0245`, MAPE: `4.2656`\n",
        "\n",
        "---\n",
        "---\n",
        "\n",
        "##### **Moving Average CNN+Bi-LSTM**\n",
        ">Validation Data --> Loss: `0.0008`, MAE: `0.0213`, MAPE: `3.8731`\n",
        "\n",
        ">Test Data --> Loss: `0.0018`, MAE: `0.0292`, MAPE: `6.2077`\n",
        "\n",
        "##### **CNN+Bi-LSTM**\n",
        ">Validation Data --> Loss: `0.0010`, MAE: `0.0229`, MAPE: `3.8454`\n",
        "\n",
        ">Test Data --> Loss: `0.0015`, MAE: `0.0264`, MAPE: `4.5289`"
      ]
    },
    {
      "cell_type": "code",
      "execution_count": null,
      "metadata": {
        "id": "8xMWJ2U5xgaf"
      },
      "outputs": [],
      "source": []
    }
  ],
  "metadata": {
    "accelerator": "GPU",
    "colab": {
      "collapsed_sections": [
        "wGuq3lElCTTI",
        "o33mK855CwmG",
        "bmEV2UNMsFZm",
        "6VixXztByO9T",
        "vV1QyMpv2BSQ"
      ],
      "name": "IBM_PriceFeatures.ipynb",
      "provenance": []
    },
    "kernelspec": {
      "display_name": "Python 3",
      "name": "python3"
    },
    "language_info": {
      "codemirror_mode": {
        "name": "ipython",
        "version": 3
      },
      "file_extension": ".py",
      "mimetype": "text/x-python",
      "name": "python",
      "nbconvert_exporter": "python",
      "pygments_lexer": "ipython3",
      "version": "3.8.16"
    }
  },
  "nbformat": 4,
  "nbformat_minor": 0
}