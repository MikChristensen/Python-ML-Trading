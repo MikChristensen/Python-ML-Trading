{
 "cells": [
  {
   "attachments": {},
   "cell_type": "markdown",
   "metadata": {},
   "source": [
    "# Case Study A-Z: A Machine Learning powered Strategy (DNN)"
   ]
  },
  {
   "attachments": {},
   "cell_type": "markdown",
   "metadata": {},
   "source": [
    "_Disclaimer: <br>\n",
    "The following illustrative example is for general information and educational purposes only. <br>\n",
    "It is neither investment advice nor a recommendation to trade, invest or take whatsoever actions.<br>\n",
    "The below code should only be used in combination with an Oanda/FXCM Practice/Demo Account and NOT with a Live Trading Account._"
   ]
  },
  {
   "attachments": {},
   "cell_type": "markdown",
   "metadata": {},
   "source": [
    "## Getting and Preparing the Data"
   ]
  },
  {
   "cell_type": "code",
   "execution_count": null,
   "metadata": {},
   "outputs": [
    {
     "name": "stderr",
     "output_type": "stream",
     "text": [
      "/home/mik/anaconda3/envs/tensor/lib/python3.8/site-packages/v20-3.0.25.0-py3.8.egg/v20/request.py:30: SyntaxWarning: \"is\" with a literal. Did you mean \"==\"?\n",
      "/home/mik/anaconda3/envs/tensor/lib/python3.8/site-packages/v20-3.0.25.0-py3.8.egg/v20/request.py:30: SyntaxWarning: \"is\" with a literal. Did you mean \"==\"?\n",
      "2023-06-01 22:02:55.220580: I tensorflow/tsl/cuda/cudart_stub.cc:28] Could not find cuda drivers on your machine, GPU will not be used.\n",
      "2023-06-01 22:02:55.297787: I tensorflow/tsl/cuda/cudart_stub.cc:28] Could not find cuda drivers on your machine, GPU will not be used.\n",
      "2023-06-01 22:02:55.298889: I tensorflow/core/platform/cpu_feature_guard.cc:182] This TensorFlow binary is optimized to use available CPU instructions in performance-critical operations.\n",
      "To enable the following instructions: AVX2 FMA, in other operations, rebuild TensorFlow with the appropriate compiler flags.\n",
      "2023-06-01 22:02:56.684200: W tensorflow/compiler/tf2tensorrt/utils/py_utils.cc:38] TF-TRT Warning: Could not find TensorRT\n",
      "/tmp/ipykernel_1753119/2030014727.py:11: MatplotlibDeprecationWarning: The seaborn styles shipped by Matplotlib are deprecated since 3.6, as they no longer correspond to the styles shipped by seaborn. However, they will remain available as 'seaborn-v0_8-<style>'. Alternatively, directly use the seaborn API instead.\n",
      "  plt.style.use(\"seaborn\")\n"
     ]
    }
   ],
   "source": [
    "import pandas as pd\n",
    "import numpy as np\n",
    "import matplotlib.pyplot as plt\n",
    "from datetime import datetime\n",
    "from talib import abstract\n",
    "import tpqoa\n",
    "import fxcmpy\n",
    "import time\n",
    "import keras\n",
    "import pickle\n",
    "plt.style.use(\"seaborn\")\n",
    "pd.set_option('display.float_format', lambda x: '%.5f' % x)"
   ]
  },
  {
   "cell_type": "code",
   "execution_count": null,
   "metadata": {},
   "outputs": [],
   "source": [
    "data = pd.read_csv(\"DNN_data.csv\", parse_dates = [\"time\"], index_col = \"time\")"
   ]
  },
  {
   "cell_type": "code",
   "execution_count": null,
   "metadata": {},
   "outputs": [
    {
     "data": {
      "text/html": [
       "<div>\n",
       "<style scoped>\n",
       "    .dataframe tbody tr th:only-of-type {\n",
       "        vertical-align: middle;\n",
       "    }\n",
       "\n",
       "    .dataframe tbody tr th {\n",
       "        vertical-align: top;\n",
       "    }\n",
       "\n",
       "    .dataframe thead th {\n",
       "        text-align: right;\n",
       "    }\n",
       "</style>\n",
       "<table border=\"1\" class=\"dataframe\">\n",
       "  <thead>\n",
       "    <tr style=\"text-align: right;\">\n",
       "      <th></th>\n",
       "      <th>EUR_USD</th>\n",
       "    </tr>\n",
       "    <tr>\n",
       "      <th>time</th>\n",
       "      <th></th>\n",
       "    </tr>\n",
       "  </thead>\n",
       "  <tbody>\n",
       "    <tr>\n",
       "      <th>2017-01-02 23:20:00</th>\n",
       "      <td>1.04574</td>\n",
       "    </tr>\n",
       "    <tr>\n",
       "      <th>2017-01-02 23:40:00</th>\n",
       "      <td>1.04608</td>\n",
       "    </tr>\n",
       "    <tr>\n",
       "      <th>2017-01-03 00:00:00</th>\n",
       "      <td>1.04575</td>\n",
       "    </tr>\n",
       "    <tr>\n",
       "      <th>2017-01-03 00:20:00</th>\n",
       "      <td>1.04672</td>\n",
       "    </tr>\n",
       "    <tr>\n",
       "      <th>2017-01-03 00:40:00</th>\n",
       "      <td>1.04696</td>\n",
       "    </tr>\n",
       "    <tr>\n",
       "      <th>...</th>\n",
       "      <td>...</td>\n",
       "    </tr>\n",
       "    <tr>\n",
       "      <th>2019-12-30 23:00:00</th>\n",
       "      <td>1.12012</td>\n",
       "    </tr>\n",
       "    <tr>\n",
       "      <th>2019-12-30 23:20:00</th>\n",
       "      <td>1.12030</td>\n",
       "    </tr>\n",
       "    <tr>\n",
       "      <th>2019-12-30 23:40:00</th>\n",
       "      <td>1.12018</td>\n",
       "    </tr>\n",
       "    <tr>\n",
       "      <th>2019-12-31 00:00:00</th>\n",
       "      <td>1.12013</td>\n",
       "    </tr>\n",
       "    <tr>\n",
       "      <th>2019-12-31 00:20:00</th>\n",
       "      <td>1.12030</td>\n",
       "    </tr>\n",
       "  </tbody>\n",
       "</table>\n",
       "<p>55785 rows × 1 columns</p>\n",
       "</div>"
      ],
      "text/plain": [
       "                     EUR_USD\n",
       "time                        \n",
       "2017-01-02 23:20:00  1.04574\n",
       "2017-01-02 23:40:00  1.04608\n",
       "2017-01-03 00:00:00  1.04575\n",
       "2017-01-03 00:20:00  1.04672\n",
       "2017-01-03 00:40:00  1.04696\n",
       "...                      ...\n",
       "2019-12-30 23:00:00  1.12012\n",
       "2019-12-30 23:20:00  1.12030\n",
       "2019-12-30 23:40:00  1.12018\n",
       "2019-12-31 00:00:00  1.12013\n",
       "2019-12-31 00:20:00  1.12030\n",
       "\n",
       "[55785 rows x 1 columns]"
      ]
     },
     "execution_count": 3,
     "metadata": {},
     "output_type": "execute_result"
    }
   ],
   "source": [
    "data "
   ]
  },
  {
   "cell_type": "code",
   "execution_count": null,
   "metadata": {},
   "outputs": [
    {
     "name": "stdout",
     "output_type": "stream",
     "text": [
      "<class 'pandas.core.frame.DataFrame'>\n",
      "DatetimeIndex: 55785 entries, 2017-01-02 23:20:00 to 2019-12-31 00:20:00\n",
      "Data columns (total 1 columns):\n",
      " #   Column   Non-Null Count  Dtype  \n",
      "---  ------   --------------  -----  \n",
      " 0   EUR_USD  55785 non-null  float64\n",
      "dtypes: float64(1)\n",
      "memory usage: 871.6 KB\n"
     ]
    }
   ],
   "source": [
    "data.info()"
   ]
  },
  {
   "cell_type": "code",
   "execution_count": null,
   "metadata": {},
   "outputs": [
    {
     "data": {
      "text/plain": [
       "'EUR_USD'"
      ]
     },
     "execution_count": 5,
     "metadata": {},
     "output_type": "execute_result"
    }
   ],
   "source": [
    "symbol = data.columns[0]\n",
    "symbol"
   ]
  },
  {
   "cell_type": "code",
   "execution_count": null,
   "metadata": {},
   "outputs": [
    {
     "data": {
      "image/png": "[encoded data removed]",
      "text/plain": [
       "<Figure size 1200x800 with 1 Axes>"
      ]
     },
     "metadata": {},
     "output_type": "display_data"
    }
   ],
   "source": [
    "data.plot(figsize = (12, 8))\n",
    "plt.show()"
   ]
  },
  {
   "cell_type": "code",
   "execution_count": null,
   "metadata": {},
   "outputs": [],
   "source": [
    "data[\"returns\"] = np.log(data[symbol] / data[symbol].shift())"
   ]
  },
  {
   "cell_type": "code",
   "execution_count": null,
   "metadata": {},
   "outputs": [
    {
     "data": {
      "text/html": [
       "<div>\n",
       "<style scoped>\n",
       "    .dataframe tbody tr th:only-of-type {\n",
       "        vertical-align: middle;\n",
       "    }\n",
       "\n",
       "    .dataframe tbody tr th {\n",
       "        vertical-align: top;\n",
       "    }\n",
       "\n",
       "    .dataframe thead th {\n",
       "        text-align: right;\n",
       "    }\n",
       "</style>\n",
       "<table border=\"1\" class=\"dataframe\">\n",
       "  <thead>\n",
       "    <tr style=\"text-align: right;\">\n",
       "      <th></th>\n",
       "      <th>EUR_USD</th>\n",
       "      <th>returns</th>\n",
       "    </tr>\n",
       "    <tr>\n",
       "      <th>time</th>\n",
       "      <th></th>\n",
       "      <th></th>\n",
       "    </tr>\n",
       "  </thead>\n",
       "  <tbody>\n",
       "    <tr>\n",
       "      <th>2017-01-02 23:20:00</th>\n",
       "      <td>1.04574</td>\n",
       "      <td>NaN</td>\n",
       "    </tr>\n",
       "    <tr>\n",
       "      <th>2017-01-02 23:40:00</th>\n",
       "      <td>1.04608</td>\n",
       "      <td>0.00033</td>\n",
       "    </tr>\n",
       "    <tr>\n",
       "      <th>2017-01-03 00:00:00</th>\n",
       "      <td>1.04575</td>\n",
       "      <td>-0.00032</td>\n",
       "    </tr>\n",
       "    <tr>\n",
       "      <th>2017-01-03 00:20:00</th>\n",
       "      <td>1.04672</td>\n",
       "      <td>0.00093</td>\n",
       "    </tr>\n",
       "    <tr>\n",
       "      <th>2017-01-03 00:40:00</th>\n",
       "      <td>1.04696</td>\n",
       "      <td>0.00023</td>\n",
       "    </tr>\n",
       "    <tr>\n",
       "      <th>...</th>\n",
       "      <td>...</td>\n",
       "      <td>...</td>\n",
       "    </tr>\n",
       "    <tr>\n",
       "      <th>2019-12-30 23:00:00</th>\n",
       "      <td>1.12012</td>\n",
       "      <td>0.00008</td>\n",
       "    </tr>\n",
       "    <tr>\n",
       "      <th>2019-12-30 23:20:00</th>\n",
       "      <td>1.12030</td>\n",
       "      <td>0.00016</td>\n",
       "    </tr>\n",
       "    <tr>\n",
       "      <th>2019-12-30 23:40:00</th>\n",
       "      <td>1.12018</td>\n",
       "      <td>-0.00011</td>\n",
       "    </tr>\n",
       "    <tr>\n",
       "      <th>2019-12-31 00:00:00</th>\n",
       "      <td>1.12013</td>\n",
       "      <td>-0.00004</td>\n",
       "    </tr>\n",
       "    <tr>\n",
       "      <th>2019-12-31 00:20:00</th>\n",
       "      <td>1.12030</td>\n",
       "      <td>0.00015</td>\n",
       "    </tr>\n",
       "  </tbody>\n",
       "</table>\n",
       "<p>55785 rows × 2 columns</p>\n",
       "</div>"
      ],
      "text/plain": [
       "                     EUR_USD  returns\n",
       "time                                 \n",
       "2017-01-02 23:20:00  1.04574      NaN\n",
       "2017-01-02 23:40:00  1.04608  0.00033\n",
       "2017-01-03 00:00:00  1.04575 -0.00032\n",
       "2017-01-03 00:20:00  1.04672  0.00093\n",
       "2017-01-03 00:40:00  1.04696  0.00023\n",
       "...                      ...      ...\n",
       "2019-12-30 23:00:00  1.12012  0.00008\n",
       "2019-12-30 23:20:00  1.12030  0.00016\n",
       "2019-12-30 23:40:00  1.12018 -0.00011\n",
       "2019-12-31 00:00:00  1.12013 -0.00004\n",
       "2019-12-31 00:20:00  1.12030  0.00015\n",
       "\n",
       "[55785 rows x 2 columns]"
      ]
     },
     "execution_count": 8,
     "metadata": {},
     "output_type": "execute_result"
    }
   ],
   "source": [
    "data"
   ]
  },
  {
   "cell_type": "code",
   "execution_count": null,
   "metadata": {},
   "outputs": [],
   "source": []
  },
  {
   "attachments": {},
   "cell_type": "markdown",
   "metadata": {},
   "source": [
    "## Adding Label/Features"
   ]
  },
  {
   "cell_type": "code",
   "execution_count": null,
   "metadata": {},
   "outputs": [],
   "source": [
    "window = 50"
   ]
  },
  {
   "cell_type": "code",
   "execution_count": null,
   "metadata": {},
   "outputs": [],
   "source": [
    "df = data.copy()\n",
    "df[\"dir\"] = np.where(df[\"returns\"] > 0, 1, 0)\n",
    "'''\n",
    "df[\"sma\"] = df[symbol].rolling(window).mean() - df[symbol].rolling(150).mean()\n",
    "df[\"boll\"] = (df[symbol] - df[symbol].rolling(window).mean()) / df[symbol].rolling(window).std()\n",
    "df[\"min\"] = df[symbol].rolling(window).min() / df[symbol] - 1\n",
    "df[\"max\"] = df[symbol].rolling(window).max() / df[symbol] - 1\n",
    "df[\"mom\"] = df[\"returns\"].rolling(3).mean()\n",
    "df[\"vol\"] = df[\"returns\"].rolling(window).std()\n",
    "'''\n",
    "df.dropna(inplace = True)"
   ]
  },
  {
   "cell_type": "code",
   "execution_count": null,
   "metadata": {},
   "outputs": [
    {
     "data": {
      "text/html": [
       "<div>\n",
       "<style scoped>\n",
       "    .dataframe tbody tr th:only-of-type {\n",
       "        vertical-align: middle;\n",
       "    }\n",
       "\n",
       "    .dataframe tbody tr th {\n",
       "        vertical-align: top;\n",
       "    }\n",
       "\n",
       "    .dataframe thead th {\n",
       "        text-align: right;\n",
       "    }\n",
       "</style>\n",
       "<table border=\"1\" class=\"dataframe\">\n",
       "  <thead>\n",
       "    <tr style=\"text-align: right;\">\n",
       "      <th></th>\n",
       "      <th>EUR_USD</th>\n",
       "      <th>returns</th>\n",
       "      <th>dir</th>\n",
       "    </tr>\n",
       "    <tr>\n",
       "      <th>time</th>\n",
       "      <th></th>\n",
       "      <th></th>\n",
       "      <th></th>\n",
       "    </tr>\n",
       "  </thead>\n",
       "  <tbody>\n",
       "    <tr>\n",
       "      <th>2017-01-02 23:40:00</th>\n",
       "      <td>1.04608</td>\n",
       "      <td>0.00033</td>\n",
       "      <td>1</td>\n",
       "    </tr>\n",
       "    <tr>\n",
       "      <th>2017-01-03 00:00:00</th>\n",
       "      <td>1.04575</td>\n",
       "      <td>-0.00032</td>\n",
       "      <td>0</td>\n",
       "    </tr>\n",
       "    <tr>\n",
       "      <th>2017-01-03 00:20:00</th>\n",
       "      <td>1.04672</td>\n",
       "      <td>0.00093</td>\n",
       "      <td>1</td>\n",
       "    </tr>\n",
       "    <tr>\n",
       "      <th>2017-01-03 00:40:00</th>\n",
       "      <td>1.04696</td>\n",
       "      <td>0.00023</td>\n",
       "      <td>1</td>\n",
       "    </tr>\n",
       "    <tr>\n",
       "      <th>2017-01-03 01:00:00</th>\n",
       "      <td>1.04662</td>\n",
       "      <td>-0.00032</td>\n",
       "      <td>0</td>\n",
       "    </tr>\n",
       "    <tr>\n",
       "      <th>...</th>\n",
       "      <td>...</td>\n",
       "      <td>...</td>\n",
       "      <td>...</td>\n",
       "    </tr>\n",
       "    <tr>\n",
       "      <th>2019-12-30 23:00:00</th>\n",
       "      <td>1.12012</td>\n",
       "      <td>0.00008</td>\n",
       "      <td>1</td>\n",
       "    </tr>\n",
       "    <tr>\n",
       "      <th>2019-12-30 23:20:00</th>\n",
       "      <td>1.12030</td>\n",
       "      <td>0.00016</td>\n",
       "      <td>1</td>\n",
       "    </tr>\n",
       "    <tr>\n",
       "      <th>2019-12-30 23:40:00</th>\n",
       "      <td>1.12018</td>\n",
       "      <td>-0.00011</td>\n",
       "      <td>0</td>\n",
       "    </tr>\n",
       "    <tr>\n",
       "      <th>2019-12-31 00:00:00</th>\n",
       "      <td>1.12013</td>\n",
       "      <td>-0.00004</td>\n",
       "      <td>0</td>\n",
       "    </tr>\n",
       "    <tr>\n",
       "      <th>2019-12-31 00:20:00</th>\n",
       "      <td>1.12030</td>\n",
       "      <td>0.00015</td>\n",
       "      <td>1</td>\n",
       "    </tr>\n",
       "  </tbody>\n",
       "</table>\n",
       "<p>55784 rows × 3 columns</p>\n",
       "</div>"
      ],
      "text/plain": [
       "                     EUR_USD  returns  dir\n",
       "time                                      \n",
       "2017-01-02 23:40:00  1.04608  0.00033    1\n",
       "2017-01-03 00:00:00  1.04575 -0.00032    0\n",
       "2017-01-03 00:20:00  1.04672  0.00093    1\n",
       "2017-01-03 00:40:00  1.04696  0.00023    1\n",
       "2017-01-03 01:00:00  1.04662 -0.00032    0\n",
       "...                      ...      ...  ...\n",
       "2019-12-30 23:00:00  1.12012  0.00008    1\n",
       "2019-12-30 23:20:00  1.12030  0.00016    1\n",
       "2019-12-30 23:40:00  1.12018 -0.00011    0\n",
       "2019-12-31 00:00:00  1.12013 -0.00004    0\n",
       "2019-12-31 00:20:00  1.12030  0.00015    1\n",
       "\n",
       "[55784 rows x 3 columns]"
      ]
     },
     "execution_count": 11,
     "metadata": {},
     "output_type": "execute_result"
    }
   ],
   "source": [
    "df"
   ]
  },
  {
   "cell_type": "code",
   "execution_count": null,
   "metadata": {},
   "outputs": [],
   "source": []
  },
  {
   "attachments": {},
   "cell_type": "markdown",
   "metadata": {},
   "source": [
    "## Adding Feature lags"
   ]
  },
  {
   "cell_type": "code",
   "execution_count": null,
   "metadata": {},
   "outputs": [],
   "source": [
    "lags = 5"
   ]
  },
  {
   "cell_type": "code",
   "execution_count": null,
   "metadata": {},
   "outputs": [],
   "source": [
    "cols = []\n",
    "features = [\"dir\", \"sma\", \"boll\", \"min\", \"max\", \"mom\", \"vol\"]"
   ]
  },
  {
   "cell_type": "code",
   "execution_count": null,
   "metadata": {},
   "outputs": [],
   "source": [
    "'''\n",
    "for f in features:\n",
    "        for lag in range(1, lags + 1):\n",
    "            col = \"{}_lag_{}\".format(f, lag)\n",
    "            df[col] = df[f].shift(lag)\n",
    "            cols.append(col)\n",
    "\n",
    "'''            \n",
    "df['Ask_Dir'] = np.where(df['returns'].shift(-1) > df.returns, 1, 0)\n",
    "cols.append('Ask_Dir')\n",
    "\n",
    "df['SMA'] = abstract.SMA(df['returns'], timeperiod=12)\n",
    "cols.append('SMA')\n",
    "df['SMA_Dir'] = np.where(df['SMA'].shift(-1) > df.SMA, 1, 0)\n",
    "cols.append('SMA_Dir')\n",
    "\n",
    "df['RSI'] = abstract.RSI(df['returns'], timeperiod=12)\n",
    "cols.append('RSI')\n",
    "df['RSI_Dir'] = np.where(df['RSI'].shift(-1) > df.RSI, 1, 0)\n",
    "cols.append('RSI_Dir')\n",
    "\n",
    "df['fastk'], df['fastd'] = abstract.STOCHRSI(df[\"returns\"], timeperiod=14, fastk_period=5, fastd_period=3, fastd_matype=0)\n",
    "cols.append('fastk')\n",
    "cols.append('fastd')\n",
    "df['fastk_Dir'] = np.where(df['fastk'].shift(-1) > df.fastk, 1, 0)\n",
    "cols.append('fastk_Dir')\n",
    "df['fastd_Dir'] = np.where(df['fastd'].shift(-1) > df.fastd, 1, 0)    \n",
    "cols.append('fastd_Dir')            \n",
    "\n",
    "#cols = ['returns', 'sma', 'boll', 'min', 'max', 'mom', 'vol', 'dir_lag_1', 'dir_lag_2', 'dir_lag_3', 'dir_lag_4', 'dir_lag_5', 'sma_lag_1', 'sma_lag_2', 'sma_lag_3', 'sma_lag_4', 'sma_lag_5', 'boll_lag_1', 'boll_lag_2', 'boll_lag_3', 'boll_lag_4', 'boll_lag_5', 'min_lag_1', 'min_lag_2', 'min_lag_3', 'min_lag_4', 'min_lag_5', 'max_lag_1', 'max_lag_2', 'max_lag_3', 'max_lag_4', 'max_lag_5', 'mom_lag_1', 'mom_lag_2', 'mom_lag_3', 'mom_lag_4', 'mom_lag_5', 'vol_lag_1', 'vol_lag_2', 'vol_lag_3', 'vol_lag_4', 'vol_lag_5', 'Ask_Dir', 'SMA', 'SMA_Dir', 'RSI', 'RSI_Dir', 'fastk', 'fastd', 'fastk_Dir', 'fastd_Dir']      \n",
    "\n",
    "df.dropna(inplace = True)"
   ]
  },
  {
   "cell_type": "code",
   "execution_count": null,
   "metadata": {},
   "outputs": [
    {
     "data": {
      "text/html": [
       "<div>\n",
       "<style scoped>\n",
       "    .dataframe tbody tr th:only-of-type {\n",
       "        vertical-align: middle;\n",
       "    }\n",
       "\n",
       "    .dataframe tbody tr th {\n",
       "        vertical-align: top;\n",
       "    }\n",
       "\n",
       "    .dataframe thead th {\n",
       "        text-align: right;\n",
       "    }\n",
       "</style>\n",
       "<table border=\"1\" class=\"dataframe\">\n",
       "  <thead>\n",
       "    <tr style=\"text-align: right;\">\n",
       "      <th></th>\n",
       "      <th>EUR_USD</th>\n",
       "      <th>returns</th>\n",
       "      <th>dir</th>\n",
       "      <th>Ask_Dir</th>\n",
       "      <th>SMA</th>\n",
       "      <th>SMA_Dir</th>\n",
       "      <th>RSI</th>\n",
       "      <th>RSI_Dir</th>\n",
       "      <th>fastk</th>\n",
       "      <th>fastd</th>\n",
       "      <th>fastk_Dir</th>\n",
       "      <th>fastd_Dir</th>\n",
       "    </tr>\n",
       "    <tr>\n",
       "      <th>time</th>\n",
       "      <th></th>\n",
       "      <th></th>\n",
       "      <th></th>\n",
       "      <th></th>\n",
       "      <th></th>\n",
       "      <th></th>\n",
       "      <th></th>\n",
       "      <th></th>\n",
       "      <th></th>\n",
       "      <th></th>\n",
       "      <th></th>\n",
       "      <th></th>\n",
       "    </tr>\n",
       "  </thead>\n",
       "  <tbody>\n",
       "    <tr>\n",
       "      <th>2017-01-03 06:20:00</th>\n",
       "      <td>1.04842</td>\n",
       "      <td>0.00017</td>\n",
       "      <td>1</td>\n",
       "      <td>1</td>\n",
       "      <td>0.00007</td>\n",
       "      <td>1</td>\n",
       "      <td>49.97889</td>\n",
       "      <td>1</td>\n",
       "      <td>100.00000</td>\n",
       "      <td>66.84393</td>\n",
       "      <td>0</td>\n",
       "      <td>1</td>\n",
       "    </tr>\n",
       "    <tr>\n",
       "      <th>2017-01-03 06:40:00</th>\n",
       "      <td>1.04862</td>\n",
       "      <td>0.00019</td>\n",
       "      <td>1</td>\n",
       "      <td>0</td>\n",
       "      <td>0.00008</td>\n",
       "      <td>1</td>\n",
       "      <td>50.16167</td>\n",
       "      <td>0</td>\n",
       "      <td>100.00000</td>\n",
       "      <td>77.26101</td>\n",
       "      <td>0</td>\n",
       "      <td>1</td>\n",
       "    </tr>\n",
       "    <tr>\n",
       "      <th>2017-01-03 07:00:00</th>\n",
       "      <td>1.04882</td>\n",
       "      <td>0.00019</td>\n",
       "      <td>1</td>\n",
       "      <td>0</td>\n",
       "      <td>0.00013</td>\n",
       "      <td>0</td>\n",
       "      <td>50.16129</td>\n",
       "      <td>0</td>\n",
       "      <td>99.99012</td>\n",
       "      <td>99.99671</td>\n",
       "      <td>0</td>\n",
       "      <td>0</td>\n",
       "    </tr>\n",
       "    <tr>\n",
       "      <th>2017-01-03 07:20:00</th>\n",
       "      <td>1.04592</td>\n",
       "      <td>-0.00277</td>\n",
       "      <td>0</td>\n",
       "      <td>1</td>\n",
       "      <td>-0.00015</td>\n",
       "      <td>0</td>\n",
       "      <td>29.93227</td>\n",
       "      <td>1</td>\n",
       "      <td>0.00000</td>\n",
       "      <td>66.66337</td>\n",
       "      <td>1</td>\n",
       "      <td>0</td>\n",
       "    </tr>\n",
       "    <tr>\n",
       "      <th>2017-01-03 07:40:00</th>\n",
       "      <td>1.04564</td>\n",
       "      <td>-0.00027</td>\n",
       "      <td>0</td>\n",
       "      <td>1</td>\n",
       "      <td>-0.00019</td>\n",
       "      <td>0</td>\n",
       "      <td>48.92248</td>\n",
       "      <td>1</td>\n",
       "      <td>93.15367</td>\n",
       "      <td>64.38126</td>\n",
       "      <td>1</td>\n",
       "      <td>1</td>\n",
       "    </tr>\n",
       "    <tr>\n",
       "      <th>...</th>\n",
       "      <td>...</td>\n",
       "      <td>...</td>\n",
       "      <td>...</td>\n",
       "      <td>...</td>\n",
       "      <td>...</td>\n",
       "      <td>...</td>\n",
       "      <td>...</td>\n",
       "      <td>...</td>\n",
       "      <td>...</td>\n",
       "      <td>...</td>\n",
       "      <td>...</td>\n",
       "      <td>...</td>\n",
       "    </tr>\n",
       "    <tr>\n",
       "      <th>2019-12-30 23:00:00</th>\n",
       "      <td>1.12012</td>\n",
       "      <td>0.00008</td>\n",
       "      <td>1</td>\n",
       "      <td>1</td>\n",
       "      <td>-0.00001</td>\n",
       "      <td>1</td>\n",
       "      <td>50.90174</td>\n",
       "      <td>1</td>\n",
       "      <td>53.44446</td>\n",
       "      <td>51.14815</td>\n",
       "      <td>1</td>\n",
       "      <td>0</td>\n",
       "    </tr>\n",
       "    <tr>\n",
       "      <th>2019-12-30 23:20:00</th>\n",
       "      <td>1.12030</td>\n",
       "      <td>0.00016</td>\n",
       "      <td>1</td>\n",
       "      <td>0</td>\n",
       "      <td>-0.00001</td>\n",
       "      <td>1</td>\n",
       "      <td>51.68920</td>\n",
       "      <td>0</td>\n",
       "      <td>63.82901</td>\n",
       "      <td>39.09116</td>\n",
       "      <td>0</td>\n",
       "      <td>1</td>\n",
       "    </tr>\n",
       "    <tr>\n",
       "      <th>2019-12-30 23:40:00</th>\n",
       "      <td>1.12018</td>\n",
       "      <td>-0.00011</td>\n",
       "      <td>0</td>\n",
       "      <td>1</td>\n",
       "      <td>0.00001</td>\n",
       "      <td>0</td>\n",
       "      <td>48.84045</td>\n",
       "      <td>1</td>\n",
       "      <td>26.72987</td>\n",
       "      <td>48.00111</td>\n",
       "      <td>1</td>\n",
       "      <td>1</td>\n",
       "    </tr>\n",
       "    <tr>\n",
       "      <th>2019-12-31 00:00:00</th>\n",
       "      <td>1.12013</td>\n",
       "      <td>-0.00004</td>\n",
       "      <td>0</td>\n",
       "      <td>1</td>\n",
       "      <td>-0.00001</td>\n",
       "      <td>1</td>\n",
       "      <td>49.54818</td>\n",
       "      <td>1</td>\n",
       "      <td>56.19436</td>\n",
       "      <td>48.91775</td>\n",
       "      <td>1</td>\n",
       "      <td>1</td>\n",
       "    </tr>\n",
       "    <tr>\n",
       "      <th>2019-12-31 00:20:00</th>\n",
       "      <td>1.12030</td>\n",
       "      <td>0.00015</td>\n",
       "      <td>1</td>\n",
       "      <td>0</td>\n",
       "      <td>0.00003</td>\n",
       "      <td>0</td>\n",
       "      <td>51.83294</td>\n",
       "      <td>0</td>\n",
       "      <td>100.00000</td>\n",
       "      <td>60.97474</td>\n",
       "      <td>0</td>\n",
       "      <td>0</td>\n",
       "    </tr>\n",
       "  </tbody>\n",
       "</table>\n",
       "<p>55764 rows × 12 columns</p>\n",
       "</div>"
      ],
      "text/plain": [
       "                     EUR_USD  returns  dir  Ask_Dir      SMA  SMA_Dir  \\\n",
       "time                                                                    \n",
       "2017-01-03 06:20:00  1.04842  0.00017    1        1  0.00007        1   \n",
       "2017-01-03 06:40:00  1.04862  0.00019    1        0  0.00008        1   \n",
       "2017-01-03 07:00:00  1.04882  0.00019    1        0  0.00013        0   \n",
       "2017-01-03 07:20:00  1.04592 -0.00277    0        1 -0.00015        0   \n",
       "2017-01-03 07:40:00  1.04564 -0.00027    0        1 -0.00019        0   \n",
       "...                      ...      ...  ...      ...      ...      ...   \n",
       "2019-12-30 23:00:00  1.12012  0.00008    1        1 -0.00001        1   \n",
       "2019-12-30 23:20:00  1.12030  0.00016    1        0 -0.00001        1   \n",
       "2019-12-30 23:40:00  1.12018 -0.00011    0        1  0.00001        0   \n",
       "2019-12-31 00:00:00  1.12013 -0.00004    0        1 -0.00001        1   \n",
       "2019-12-31 00:20:00  1.12030  0.00015    1        0  0.00003        0   \n",
       "\n",
       "                         RSI  RSI_Dir     fastk    fastd  fastk_Dir  fastd_Dir  \n",
       "time                                                                            \n",
       "2017-01-03 06:20:00 49.97889        1 100.00000 66.84393          0          1  \n",
       "2017-01-03 06:40:00 50.16167        0 100.00000 77.26101          0          1  \n",
       "2017-01-03 07:00:00 50.16129        0  99.99012 99.99671          0          0  \n",
       "2017-01-03 07:20:00 29.93227        1   0.00000 66.66337          1          0  \n",
       "2017-01-03 07:40:00 48.92248        1  93.15367 64.38126          1          1  \n",
       "...                      ...      ...       ...      ...        ...        ...  \n",
       "2019-12-30 23:00:00 50.90174        1  53.44446 51.14815          1          0  \n",
       "2019-12-30 23:20:00 51.68920        0  63.82901 39.09116          0          1  \n",
       "2019-12-30 23:40:00 48.84045        1  26.72987 48.00111          1          1  \n",
       "2019-12-31 00:00:00 49.54818        1  56.19436 48.91775          1          1  \n",
       "2019-12-31 00:20:00 51.83294        0 100.00000 60.97474          0          0  \n",
       "\n",
       "[55764 rows x 12 columns]"
      ]
     },
     "execution_count": 15,
     "metadata": {},
     "output_type": "execute_result"
    }
   ],
   "source": [
    "df"
   ]
  },
  {
   "cell_type": "code",
   "execution_count": null,
   "metadata": {},
   "outputs": [
    {
     "name": "stdout",
     "output_type": "stream",
     "text": [
      "<class 'pandas.core.frame.DataFrame'>\n",
      "DatetimeIndex: 55764 entries, 2017-01-03 06:20:00 to 2019-12-31 00:20:00\n",
      "Data columns (total 12 columns):\n",
      " #   Column     Non-Null Count  Dtype  \n",
      "---  ------     --------------  -----  \n",
      " 0   EUR_USD    55764 non-null  float64\n",
      " 1   returns    55764 non-null  float64\n",
      " 2   dir        55764 non-null  int64  \n",
      " 3   Ask_Dir    55764 non-null  int64  \n",
      " 4   SMA        55764 non-null  float64\n",
      " 5   SMA_Dir    55764 non-null  int64  \n",
      " 6   RSI        55764 non-null  float64\n",
      " 7   RSI_Dir    55764 non-null  int64  \n",
      " 8   fastk      55764 non-null  float64\n",
      " 9   fastd      55764 non-null  float64\n",
      " 10  fastk_Dir  55764 non-null  int64  \n",
      " 11  fastd_Dir  55764 non-null  int64  \n",
      "dtypes: float64(6), int64(6)\n",
      "memory usage: 5.5 MB\n"
     ]
    }
   ],
   "source": [
    "df.info()"
   ]
  },
  {
   "cell_type": "code",
   "execution_count": null,
   "metadata": {},
   "outputs": [],
   "source": [
    "cols = df.loc[:, ~df.columns.isin(['dir', 'EUR_USD'])].columns"
   ]
  },
  {
   "attachments": {},
   "cell_type": "markdown",
   "metadata": {},
   "source": [
    "## Splitting into Train and Test Set"
   ]
  },
  {
   "cell_type": "code",
   "execution_count": null,
   "metadata": {},
   "outputs": [
    {
     "data": {
      "text/plain": [
       "55764"
      ]
     },
     "execution_count": 18,
     "metadata": {},
     "output_type": "execute_result"
    }
   ],
   "source": [
    "len(df)"
   ]
  },
  {
   "cell_type": "code",
   "execution_count": null,
   "metadata": {},
   "outputs": [
    {
     "data": {
      "text/plain": [
       "36804"
      ]
     },
     "execution_count": 19,
     "metadata": {},
     "output_type": "execute_result"
    }
   ],
   "source": [
    "split = int(len(df)*0.66)\n",
    "split"
   ]
  },
  {
   "cell_type": "code",
   "execution_count": null,
   "metadata": {},
   "outputs": [
    {
     "data": {
      "text/html": [
       "<div>\n",
       "<style scoped>\n",
       "    .dataframe tbody tr th:only-of-type {\n",
       "        vertical-align: middle;\n",
       "    }\n",
       "\n",
       "    .dataframe tbody tr th {\n",
       "        vertical-align: top;\n",
       "    }\n",
       "\n",
       "    .dataframe thead th {\n",
       "        text-align: right;\n",
       "    }\n",
       "</style>\n",
       "<table border=\"1\" class=\"dataframe\">\n",
       "  <thead>\n",
       "    <tr style=\"text-align: right;\">\n",
       "      <th></th>\n",
       "      <th>EUR_USD</th>\n",
       "      <th>returns</th>\n",
       "      <th>dir</th>\n",
       "      <th>Ask_Dir</th>\n",
       "      <th>SMA</th>\n",
       "      <th>SMA_Dir</th>\n",
       "      <th>RSI</th>\n",
       "      <th>RSI_Dir</th>\n",
       "      <th>fastk</th>\n",
       "      <th>fastd</th>\n",
       "      <th>fastk_Dir</th>\n",
       "      <th>fastd_Dir</th>\n",
       "    </tr>\n",
       "    <tr>\n",
       "      <th>time</th>\n",
       "      <th></th>\n",
       "      <th></th>\n",
       "      <th></th>\n",
       "      <th></th>\n",
       "      <th></th>\n",
       "      <th></th>\n",
       "      <th></th>\n",
       "      <th></th>\n",
       "      <th></th>\n",
       "      <th></th>\n",
       "      <th></th>\n",
       "      <th></th>\n",
       "    </tr>\n",
       "  </thead>\n",
       "  <tbody>\n",
       "    <tr>\n",
       "      <th>2017-01-03 06:20:00</th>\n",
       "      <td>1.04842</td>\n",
       "      <td>0.00017</td>\n",
       "      <td>1</td>\n",
       "      <td>1</td>\n",
       "      <td>0.00007</td>\n",
       "      <td>1</td>\n",
       "      <td>49.97889</td>\n",
       "      <td>1</td>\n",
       "      <td>100.00000</td>\n",
       "      <td>66.84393</td>\n",
       "      <td>0</td>\n",
       "      <td>1</td>\n",
       "    </tr>\n",
       "    <tr>\n",
       "      <th>2017-01-03 06:40:00</th>\n",
       "      <td>1.04862</td>\n",
       "      <td>0.00019</td>\n",
       "      <td>1</td>\n",
       "      <td>0</td>\n",
       "      <td>0.00008</td>\n",
       "      <td>1</td>\n",
       "      <td>50.16167</td>\n",
       "      <td>0</td>\n",
       "      <td>100.00000</td>\n",
       "      <td>77.26101</td>\n",
       "      <td>0</td>\n",
       "      <td>1</td>\n",
       "    </tr>\n",
       "    <tr>\n",
       "      <th>2017-01-03 07:00:00</th>\n",
       "      <td>1.04882</td>\n",
       "      <td>0.00019</td>\n",
       "      <td>1</td>\n",
       "      <td>0</td>\n",
       "      <td>0.00013</td>\n",
       "      <td>0</td>\n",
       "      <td>50.16129</td>\n",
       "      <td>0</td>\n",
       "      <td>99.99012</td>\n",
       "      <td>99.99671</td>\n",
       "      <td>0</td>\n",
       "      <td>0</td>\n",
       "    </tr>\n",
       "    <tr>\n",
       "      <th>2017-01-03 07:20:00</th>\n",
       "      <td>1.04592</td>\n",
       "      <td>-0.00277</td>\n",
       "      <td>0</td>\n",
       "      <td>1</td>\n",
       "      <td>-0.00015</td>\n",
       "      <td>0</td>\n",
       "      <td>29.93227</td>\n",
       "      <td>1</td>\n",
       "      <td>0.00000</td>\n",
       "      <td>66.66337</td>\n",
       "      <td>1</td>\n",
       "      <td>0</td>\n",
       "    </tr>\n",
       "    <tr>\n",
       "      <th>2017-01-03 07:40:00</th>\n",
       "      <td>1.04564</td>\n",
       "      <td>-0.00027</td>\n",
       "      <td>0</td>\n",
       "      <td>1</td>\n",
       "      <td>-0.00019</td>\n",
       "      <td>0</td>\n",
       "      <td>48.92248</td>\n",
       "      <td>1</td>\n",
       "      <td>93.15367</td>\n",
       "      <td>64.38126</td>\n",
       "      <td>1</td>\n",
       "      <td>1</td>\n",
       "    </tr>\n",
       "    <tr>\n",
       "      <th>...</th>\n",
       "      <td>...</td>\n",
       "      <td>...</td>\n",
       "      <td>...</td>\n",
       "      <td>...</td>\n",
       "      <td>...</td>\n",
       "      <td>...</td>\n",
       "      <td>...</td>\n",
       "      <td>...</td>\n",
       "      <td>...</td>\n",
       "      <td>...</td>\n",
       "      <td>...</td>\n",
       "      <td>...</td>\n",
       "    </tr>\n",
       "    <tr>\n",
       "      <th>2018-12-21 08:40:00</th>\n",
       "      <td>1.14606</td>\n",
       "      <td>-0.00108</td>\n",
       "      <td>0</td>\n",
       "      <td>0</td>\n",
       "      <td>0.00011</td>\n",
       "      <td>0</td>\n",
       "      <td>37.67709</td>\n",
       "      <td>0</td>\n",
       "      <td>0.00000</td>\n",
       "      <td>16.01629</td>\n",
       "      <td>0</td>\n",
       "      <td>0</td>\n",
       "    </tr>\n",
       "    <tr>\n",
       "      <th>2018-12-21 09:00:00</th>\n",
       "      <td>1.14442</td>\n",
       "      <td>-0.00143</td>\n",
       "      <td>0</td>\n",
       "      <td>1</td>\n",
       "      <td>-0.00000</td>\n",
       "      <td>0</td>\n",
       "      <td>34.97422</td>\n",
       "      <td>1</td>\n",
       "      <td>0.00000</td>\n",
       "      <td>12.23676</td>\n",
       "      <td>1</td>\n",
       "      <td>0</td>\n",
       "    </tr>\n",
       "    <tr>\n",
       "      <th>2018-12-21 09:20:00</th>\n",
       "      <td>1.14300</td>\n",
       "      <td>-0.00124</td>\n",
       "      <td>0</td>\n",
       "      <td>1</td>\n",
       "      <td>-0.00012</td>\n",
       "      <td>0</td>\n",
       "      <td>37.62548</td>\n",
       "      <td>1</td>\n",
       "      <td>13.89590</td>\n",
       "      <td>4.63197</td>\n",
       "      <td>1</td>\n",
       "      <td>1</td>\n",
       "    </tr>\n",
       "    <tr>\n",
       "      <th>2018-12-21 09:40:00</th>\n",
       "      <td>1.14282</td>\n",
       "      <td>-0.00016</td>\n",
       "      <td>0</td>\n",
       "      <td>1</td>\n",
       "      <td>-0.00012</td>\n",
       "      <td>0</td>\n",
       "      <td>50.22765</td>\n",
       "      <td>1</td>\n",
       "      <td>81.72469</td>\n",
       "      <td>31.87353</td>\n",
       "      <td>1</td>\n",
       "      <td>1</td>\n",
       "    </tr>\n",
       "    <tr>\n",
       "      <th>2018-12-21 10:00:00</th>\n",
       "      <td>1.14282</td>\n",
       "      <td>0.00000</td>\n",
       "      <td>0</td>\n",
       "      <td>0</td>\n",
       "      <td>-0.00013</td>\n",
       "      <td>0</td>\n",
       "      <td>51.77193</td>\n",
       "      <td>0</td>\n",
       "      <td>100.00000</td>\n",
       "      <td>65.20686</td>\n",
       "      <td>0</td>\n",
       "      <td>1</td>\n",
       "    </tr>\n",
       "  </tbody>\n",
       "</table>\n",
       "<p>36804 rows × 12 columns</p>\n",
       "</div>"
      ],
      "text/plain": [
       "                     EUR_USD  returns  dir  Ask_Dir      SMA  SMA_Dir  \\\n",
       "time                                                                    \n",
       "2017-01-03 06:20:00  1.04842  0.00017    1        1  0.00007        1   \n",
       "2017-01-03 06:40:00  1.04862  0.00019    1        0  0.00008        1   \n",
       "2017-01-03 07:00:00  1.04882  0.00019    1        0  0.00013        0   \n",
       "2017-01-03 07:20:00  1.04592 -0.00277    0        1 -0.00015        0   \n",
       "2017-01-03 07:40:00  1.04564 -0.00027    0        1 -0.00019        0   \n",
       "...                      ...      ...  ...      ...      ...      ...   \n",
       "2018-12-21 08:40:00  1.14606 -0.00108    0        0  0.00011        0   \n",
       "2018-12-21 09:00:00  1.14442 -0.00143    0        1 -0.00000        0   \n",
       "2018-12-21 09:20:00  1.14300 -0.00124    0        1 -0.00012        0   \n",
       "2018-12-21 09:40:00  1.14282 -0.00016    0        1 -0.00012        0   \n",
       "2018-12-21 10:00:00  1.14282  0.00000    0        0 -0.00013        0   \n",
       "\n",
       "                         RSI  RSI_Dir     fastk    fastd  fastk_Dir  fastd_Dir  \n",
       "time                                                                            \n",
       "2017-01-03 06:20:00 49.97889        1 100.00000 66.84393          0          1  \n",
       "2017-01-03 06:40:00 50.16167        0 100.00000 77.26101          0          1  \n",
       "2017-01-03 07:00:00 50.16129        0  99.99012 99.99671          0          0  \n",
       "2017-01-03 07:20:00 29.93227        1   0.00000 66.66337          1          0  \n",
       "2017-01-03 07:40:00 48.92248        1  93.15367 64.38126          1          1  \n",
       "...                      ...      ...       ...      ...        ...        ...  \n",
       "2018-12-21 08:40:00 37.67709        0   0.00000 16.01629          0          0  \n",
       "2018-12-21 09:00:00 34.97422        1   0.00000 12.23676          1          0  \n",
       "2018-12-21 09:20:00 37.62548        1  13.89590  4.63197          1          1  \n",
       "2018-12-21 09:40:00 50.22765        1  81.72469 31.87353          1          1  \n",
       "2018-12-21 10:00:00 51.77193        0 100.00000 65.20686          0          1  \n",
       "\n",
       "[36804 rows x 12 columns]"
      ]
     },
     "execution_count": 20,
     "metadata": {},
     "output_type": "execute_result"
    }
   ],
   "source": [
    "train = df.iloc[:split].copy()\n",
    "train"
   ]
  },
  {
   "cell_type": "code",
   "execution_count": null,
   "metadata": {},
   "outputs": [
    {
     "data": {
      "text/html": [
       "<div>\n",
       "<style scoped>\n",
       "    .dataframe tbody tr th:only-of-type {\n",
       "        vertical-align: middle;\n",
       "    }\n",
       "\n",
       "    .dataframe tbody tr th {\n",
       "        vertical-align: top;\n",
       "    }\n",
       "\n",
       "    .dataframe thead th {\n",
       "        text-align: right;\n",
       "    }\n",
       "</style>\n",
       "<table border=\"1\" class=\"dataframe\">\n",
       "  <thead>\n",
       "    <tr style=\"text-align: right;\">\n",
       "      <th></th>\n",
       "      <th>EUR_USD</th>\n",
       "      <th>returns</th>\n",
       "      <th>dir</th>\n",
       "      <th>Ask_Dir</th>\n",
       "      <th>SMA</th>\n",
       "      <th>SMA_Dir</th>\n",
       "      <th>RSI</th>\n",
       "      <th>RSI_Dir</th>\n",
       "      <th>fastk</th>\n",
       "      <th>fastd</th>\n",
       "      <th>fastk_Dir</th>\n",
       "      <th>fastd_Dir</th>\n",
       "    </tr>\n",
       "    <tr>\n",
       "      <th>time</th>\n",
       "      <th></th>\n",
       "      <th></th>\n",
       "      <th></th>\n",
       "      <th></th>\n",
       "      <th></th>\n",
       "      <th></th>\n",
       "      <th></th>\n",
       "      <th></th>\n",
       "      <th></th>\n",
       "      <th></th>\n",
       "      <th></th>\n",
       "      <th></th>\n",
       "    </tr>\n",
       "  </thead>\n",
       "  <tbody>\n",
       "    <tr>\n",
       "      <th>2018-12-21 10:20:00</th>\n",
       "      <td>1.14146</td>\n",
       "      <td>-0.00119</td>\n",
       "      <td>0</td>\n",
       "      <td>1</td>\n",
       "      <td>-0.00028</td>\n",
       "      <td>1</td>\n",
       "      <td>41.22269</td>\n",
       "      <td>1</td>\n",
       "      <td>35.25442</td>\n",
       "      <td>72.32637</td>\n",
       "      <td>1</td>\n",
       "      <td>1</td>\n",
       "    </tr>\n",
       "    <tr>\n",
       "      <th>2018-12-21 10:40:00</th>\n",
       "      <td>1.14212</td>\n",
       "      <td>0.00058</td>\n",
       "      <td>1</td>\n",
       "      <td>0</td>\n",
       "      <td>-0.00023</td>\n",
       "      <td>0</td>\n",
       "      <td>55.81304</td>\n",
       "      <td>0</td>\n",
       "      <td>100.00000</td>\n",
       "      <td>78.41814</td>\n",
       "      <td>0</td>\n",
       "      <td>0</td>\n",
       "    </tr>\n",
       "    <tr>\n",
       "      <th>2018-12-21 11:00:00</th>\n",
       "      <td>1.14202</td>\n",
       "      <td>-0.00009</td>\n",
       "      <td>0</td>\n",
       "      <td>1</td>\n",
       "      <td>-0.00026</td>\n",
       "      <td>1</td>\n",
       "      <td>50.65155</td>\n",
       "      <td>1</td>\n",
       "      <td>64.65976</td>\n",
       "      <td>66.63806</td>\n",
       "      <td>1</td>\n",
       "      <td>1</td>\n",
       "    </tr>\n",
       "    <tr>\n",
       "      <th>2018-12-21 11:20:00</th>\n",
       "      <td>1.14252</td>\n",
       "      <td>0.00044</td>\n",
       "      <td>1</td>\n",
       "      <td>0</td>\n",
       "      <td>-0.00025</td>\n",
       "      <td>0</td>\n",
       "      <td>54.29081</td>\n",
       "      <td>0</td>\n",
       "      <td>89.94638</td>\n",
       "      <td>84.86871</td>\n",
       "      <td>0</td>\n",
       "      <td>0</td>\n",
       "    </tr>\n",
       "    <tr>\n",
       "      <th>2018-12-21 11:40:00</th>\n",
       "      <td>1.14230</td>\n",
       "      <td>-0.00019</td>\n",
       "      <td>0</td>\n",
       "      <td>1</td>\n",
       "      <td>-0.00032</td>\n",
       "      <td>0</td>\n",
       "      <td>49.51128</td>\n",
       "      <td>1</td>\n",
       "      <td>57.29703</td>\n",
       "      <td>70.63439</td>\n",
       "      <td>0</td>\n",
       "      <td>0</td>\n",
       "    </tr>\n",
       "    <tr>\n",
       "      <th>...</th>\n",
       "      <td>...</td>\n",
       "      <td>...</td>\n",
       "      <td>...</td>\n",
       "      <td>...</td>\n",
       "      <td>...</td>\n",
       "      <td>...</td>\n",
       "      <td>...</td>\n",
       "      <td>...</td>\n",
       "      <td>...</td>\n",
       "      <td>...</td>\n",
       "      <td>...</td>\n",
       "      <td>...</td>\n",
       "    </tr>\n",
       "    <tr>\n",
       "      <th>2019-12-30 23:00:00</th>\n",
       "      <td>1.12012</td>\n",
       "      <td>0.00008</td>\n",
       "      <td>1</td>\n",
       "      <td>1</td>\n",
       "      <td>-0.00001</td>\n",
       "      <td>1</td>\n",
       "      <td>50.90174</td>\n",
       "      <td>1</td>\n",
       "      <td>53.44446</td>\n",
       "      <td>51.14815</td>\n",
       "      <td>1</td>\n",
       "      <td>0</td>\n",
       "    </tr>\n",
       "    <tr>\n",
       "      <th>2019-12-30 23:20:00</th>\n",
       "      <td>1.12030</td>\n",
       "      <td>0.00016</td>\n",
       "      <td>1</td>\n",
       "      <td>0</td>\n",
       "      <td>-0.00001</td>\n",
       "      <td>1</td>\n",
       "      <td>51.68920</td>\n",
       "      <td>0</td>\n",
       "      <td>63.82901</td>\n",
       "      <td>39.09116</td>\n",
       "      <td>0</td>\n",
       "      <td>1</td>\n",
       "    </tr>\n",
       "    <tr>\n",
       "      <th>2019-12-30 23:40:00</th>\n",
       "      <td>1.12018</td>\n",
       "      <td>-0.00011</td>\n",
       "      <td>0</td>\n",
       "      <td>1</td>\n",
       "      <td>0.00001</td>\n",
       "      <td>0</td>\n",
       "      <td>48.84045</td>\n",
       "      <td>1</td>\n",
       "      <td>26.72987</td>\n",
       "      <td>48.00111</td>\n",
       "      <td>1</td>\n",
       "      <td>1</td>\n",
       "    </tr>\n",
       "    <tr>\n",
       "      <th>2019-12-31 00:00:00</th>\n",
       "      <td>1.12013</td>\n",
       "      <td>-0.00004</td>\n",
       "      <td>0</td>\n",
       "      <td>1</td>\n",
       "      <td>-0.00001</td>\n",
       "      <td>1</td>\n",
       "      <td>49.54818</td>\n",
       "      <td>1</td>\n",
       "      <td>56.19436</td>\n",
       "      <td>48.91775</td>\n",
       "      <td>1</td>\n",
       "      <td>1</td>\n",
       "    </tr>\n",
       "    <tr>\n",
       "      <th>2019-12-31 00:20:00</th>\n",
       "      <td>1.12030</td>\n",
       "      <td>0.00015</td>\n",
       "      <td>1</td>\n",
       "      <td>0</td>\n",
       "      <td>0.00003</td>\n",
       "      <td>0</td>\n",
       "      <td>51.83294</td>\n",
       "      <td>0</td>\n",
       "      <td>100.00000</td>\n",
       "      <td>60.97474</td>\n",
       "      <td>0</td>\n",
       "      <td>0</td>\n",
       "    </tr>\n",
       "  </tbody>\n",
       "</table>\n",
       "<p>18960 rows × 12 columns</p>\n",
       "</div>"
      ],
      "text/plain": [
       "                     EUR_USD  returns  dir  Ask_Dir      SMA  SMA_Dir  \\\n",
       "time                                                                    \n",
       "2018-12-21 10:20:00  1.14146 -0.00119    0        1 -0.00028        1   \n",
       "2018-12-21 10:40:00  1.14212  0.00058    1        0 -0.00023        0   \n",
       "2018-12-21 11:00:00  1.14202 -0.00009    0        1 -0.00026        1   \n",
       "2018-12-21 11:20:00  1.14252  0.00044    1        0 -0.00025        0   \n",
       "2018-12-21 11:40:00  1.14230 -0.00019    0        1 -0.00032        0   \n",
       "...                      ...      ...  ...      ...      ...      ...   \n",
       "2019-12-30 23:00:00  1.12012  0.00008    1        1 -0.00001        1   \n",
       "2019-12-30 23:20:00  1.12030  0.00016    1        0 -0.00001        1   \n",
       "2019-12-30 23:40:00  1.12018 -0.00011    0        1  0.00001        0   \n",
       "2019-12-31 00:00:00  1.12013 -0.00004    0        1 -0.00001        1   \n",
       "2019-12-31 00:20:00  1.12030  0.00015    1        0  0.00003        0   \n",
       "\n",
       "                         RSI  RSI_Dir     fastk    fastd  fastk_Dir  fastd_Dir  \n",
       "time                                                                            \n",
       "2018-12-21 10:20:00 41.22269        1  35.25442 72.32637          1          1  \n",
       "2018-12-21 10:40:00 55.81304        0 100.00000 78.41814          0          0  \n",
       "2018-12-21 11:00:00 50.65155        1  64.65976 66.63806          1          1  \n",
       "2018-12-21 11:20:00 54.29081        0  89.94638 84.86871          0          0  \n",
       "2018-12-21 11:40:00 49.51128        1  57.29703 70.63439          0          0  \n",
       "...                      ...      ...       ...      ...        ...        ...  \n",
       "2019-12-30 23:00:00 50.90174        1  53.44446 51.14815          1          0  \n",
       "2019-12-30 23:20:00 51.68920        0  63.82901 39.09116          0          1  \n",
       "2019-12-30 23:40:00 48.84045        1  26.72987 48.00111          1          1  \n",
       "2019-12-31 00:00:00 49.54818        1  56.19436 48.91775          1          1  \n",
       "2019-12-31 00:20:00 51.83294        0 100.00000 60.97474          0          0  \n",
       "\n",
       "[18960 rows x 12 columns]"
      ]
     },
     "execution_count": 21,
     "metadata": {},
     "output_type": "execute_result"
    }
   ],
   "source": [
    "test = df.iloc[split:].copy()\n",
    "test"
   ]
  },
  {
   "cell_type": "code",
   "execution_count": null,
   "metadata": {},
   "outputs": [],
   "source": []
  },
  {
   "attachments": {},
   "cell_type": "markdown",
   "metadata": {},
   "source": [
    "## Feature Scaling (Standardization)"
   ]
  },
  {
   "cell_type": "code",
   "execution_count": null,
   "metadata": {},
   "outputs": [
    {
     "data": {
      "text/html": [
       "<div>\n",
       "<style scoped>\n",
       "    .dataframe tbody tr th:only-of-type {\n",
       "        vertical-align: middle;\n",
       "    }\n",
       "\n",
       "    .dataframe tbody tr th {\n",
       "        vertical-align: top;\n",
       "    }\n",
       "\n",
       "    .dataframe thead th {\n",
       "        text-align: right;\n",
       "    }\n",
       "</style>\n",
       "<table border=\"1\" class=\"dataframe\">\n",
       "  <thead>\n",
       "    <tr style=\"text-align: right;\">\n",
       "      <th></th>\n",
       "      <th>returns</th>\n",
       "      <th>Ask_Dir</th>\n",
       "      <th>SMA</th>\n",
       "      <th>SMA_Dir</th>\n",
       "      <th>RSI</th>\n",
       "      <th>RSI_Dir</th>\n",
       "      <th>fastk</th>\n",
       "      <th>fastd</th>\n",
       "      <th>fastk_Dir</th>\n",
       "      <th>fastd_Dir</th>\n",
       "    </tr>\n",
       "    <tr>\n",
       "      <th>time</th>\n",
       "      <th></th>\n",
       "      <th></th>\n",
       "      <th></th>\n",
       "      <th></th>\n",
       "      <th></th>\n",
       "      <th></th>\n",
       "      <th></th>\n",
       "      <th></th>\n",
       "      <th></th>\n",
       "      <th></th>\n",
       "    </tr>\n",
       "  </thead>\n",
       "  <tbody>\n",
       "    <tr>\n",
       "      <th>2017-01-03 06:20:00</th>\n",
       "      <td>0.00017</td>\n",
       "      <td>1</td>\n",
       "      <td>0.00007</td>\n",
       "      <td>1</td>\n",
       "      <td>49.97889</td>\n",
       "      <td>1</td>\n",
       "      <td>100.00000</td>\n",
       "      <td>66.84393</td>\n",
       "      <td>0</td>\n",
       "      <td>1</td>\n",
       "    </tr>\n",
       "    <tr>\n",
       "      <th>2017-01-03 06:40:00</th>\n",
       "      <td>0.00019</td>\n",
       "      <td>0</td>\n",
       "      <td>0.00008</td>\n",
       "      <td>1</td>\n",
       "      <td>50.16167</td>\n",
       "      <td>0</td>\n",
       "      <td>100.00000</td>\n",
       "      <td>77.26101</td>\n",
       "      <td>0</td>\n",
       "      <td>1</td>\n",
       "    </tr>\n",
       "    <tr>\n",
       "      <th>2017-01-03 07:00:00</th>\n",
       "      <td>0.00019</td>\n",
       "      <td>0</td>\n",
       "      <td>0.00013</td>\n",
       "      <td>0</td>\n",
       "      <td>50.16129</td>\n",
       "      <td>0</td>\n",
       "      <td>99.99012</td>\n",
       "      <td>99.99671</td>\n",
       "      <td>0</td>\n",
       "      <td>0</td>\n",
       "    </tr>\n",
       "    <tr>\n",
       "      <th>2017-01-03 07:20:00</th>\n",
       "      <td>-0.00277</td>\n",
       "      <td>1</td>\n",
       "      <td>-0.00015</td>\n",
       "      <td>0</td>\n",
       "      <td>29.93227</td>\n",
       "      <td>1</td>\n",
       "      <td>0.00000</td>\n",
       "      <td>66.66337</td>\n",
       "      <td>1</td>\n",
       "      <td>0</td>\n",
       "    </tr>\n",
       "    <tr>\n",
       "      <th>2017-01-03 07:40:00</th>\n",
       "      <td>-0.00027</td>\n",
       "      <td>1</td>\n",
       "      <td>-0.00019</td>\n",
       "      <td>0</td>\n",
       "      <td>48.92248</td>\n",
       "      <td>1</td>\n",
       "      <td>93.15367</td>\n",
       "      <td>64.38126</td>\n",
       "      <td>1</td>\n",
       "      <td>1</td>\n",
       "    </tr>\n",
       "    <tr>\n",
       "      <th>...</th>\n",
       "      <td>...</td>\n",
       "      <td>...</td>\n",
       "      <td>...</td>\n",
       "      <td>...</td>\n",
       "      <td>...</td>\n",
       "      <td>...</td>\n",
       "      <td>...</td>\n",
       "      <td>...</td>\n",
       "      <td>...</td>\n",
       "      <td>...</td>\n",
       "    </tr>\n",
       "    <tr>\n",
       "      <th>2018-12-21 08:40:00</th>\n",
       "      <td>-0.00108</td>\n",
       "      <td>0</td>\n",
       "      <td>0.00011</td>\n",
       "      <td>0</td>\n",
       "      <td>37.67709</td>\n",
       "      <td>0</td>\n",
       "      <td>0.00000</td>\n",
       "      <td>16.01629</td>\n",
       "      <td>0</td>\n",
       "      <td>0</td>\n",
       "    </tr>\n",
       "    <tr>\n",
       "      <th>2018-12-21 09:00:00</th>\n",
       "      <td>-0.00143</td>\n",
       "      <td>1</td>\n",
       "      <td>-0.00000</td>\n",
       "      <td>0</td>\n",
       "      <td>34.97422</td>\n",
       "      <td>1</td>\n",
       "      <td>0.00000</td>\n",
       "      <td>12.23676</td>\n",
       "      <td>1</td>\n",
       "      <td>0</td>\n",
       "    </tr>\n",
       "    <tr>\n",
       "      <th>2018-12-21 09:20:00</th>\n",
       "      <td>-0.00124</td>\n",
       "      <td>1</td>\n",
       "      <td>-0.00012</td>\n",
       "      <td>0</td>\n",
       "      <td>37.62548</td>\n",
       "      <td>1</td>\n",
       "      <td>13.89590</td>\n",
       "      <td>4.63197</td>\n",
       "      <td>1</td>\n",
       "      <td>1</td>\n",
       "    </tr>\n",
       "    <tr>\n",
       "      <th>2018-12-21 09:40:00</th>\n",
       "      <td>-0.00016</td>\n",
       "      <td>1</td>\n",
       "      <td>-0.00012</td>\n",
       "      <td>0</td>\n",
       "      <td>50.22765</td>\n",
       "      <td>1</td>\n",
       "      <td>81.72469</td>\n",
       "      <td>31.87353</td>\n",
       "      <td>1</td>\n",
       "      <td>1</td>\n",
       "    </tr>\n",
       "    <tr>\n",
       "      <th>2018-12-21 10:00:00</th>\n",
       "      <td>0.00000</td>\n",
       "      <td>0</td>\n",
       "      <td>-0.00013</td>\n",
       "      <td>0</td>\n",
       "      <td>51.77193</td>\n",
       "      <td>0</td>\n",
       "      <td>100.00000</td>\n",
       "      <td>65.20686</td>\n",
       "      <td>0</td>\n",
       "      <td>1</td>\n",
       "    </tr>\n",
       "  </tbody>\n",
       "</table>\n",
       "<p>36804 rows × 10 columns</p>\n",
       "</div>"
      ],
      "text/plain": [
       "                     returns  Ask_Dir      SMA  SMA_Dir      RSI  RSI_Dir  \\\n",
       "time                                                                        \n",
       "2017-01-03 06:20:00  0.00017        1  0.00007        1 49.97889        1   \n",
       "2017-01-03 06:40:00  0.00019        0  0.00008        1 50.16167        0   \n",
       "2017-01-03 07:00:00  0.00019        0  0.00013        0 50.16129        0   \n",
       "2017-01-03 07:20:00 -0.00277        1 -0.00015        0 29.93227        1   \n",
       "2017-01-03 07:40:00 -0.00027        1 -0.00019        0 48.92248        1   \n",
       "...                      ...      ...      ...      ...      ...      ...   \n",
       "2018-12-21 08:40:00 -0.00108        0  0.00011        0 37.67709        0   \n",
       "2018-12-21 09:00:00 -0.00143        1 -0.00000        0 34.97422        1   \n",
       "2018-12-21 09:20:00 -0.00124        1 -0.00012        0 37.62548        1   \n",
       "2018-12-21 09:40:00 -0.00016        1 -0.00012        0 50.22765        1   \n",
       "2018-12-21 10:00:00  0.00000        0 -0.00013        0 51.77193        0   \n",
       "\n",
       "                        fastk    fastd  fastk_Dir  fastd_Dir  \n",
       "time                                                          \n",
       "2017-01-03 06:20:00 100.00000 66.84393          0          1  \n",
       "2017-01-03 06:40:00 100.00000 77.26101          0          1  \n",
       "2017-01-03 07:00:00  99.99012 99.99671          0          0  \n",
       "2017-01-03 07:20:00   0.00000 66.66337          1          0  \n",
       "2017-01-03 07:40:00  93.15367 64.38126          1          1  \n",
       "...                       ...      ...        ...        ...  \n",
       "2018-12-21 08:40:00   0.00000 16.01629          0          0  \n",
       "2018-12-21 09:00:00   0.00000 12.23676          1          0  \n",
       "2018-12-21 09:20:00  13.89590  4.63197          1          1  \n",
       "2018-12-21 09:40:00  81.72469 31.87353          1          1  \n",
       "2018-12-21 10:00:00 100.00000 65.20686          0          1  \n",
       "\n",
       "[36804 rows x 10 columns]"
      ]
     },
     "execution_count": 22,
     "metadata": {},
     "output_type": "execute_result"
    }
   ],
   "source": [
    "train[cols]"
   ]
  },
  {
   "cell_type": "code",
   "execution_count": null,
   "metadata": {},
   "outputs": [],
   "source": [
    "mu, std = train.mean(), train.std() # train set parameters (mu, std) for standardization"
   ]
  },
  {
   "cell_type": "code",
   "execution_count": null,
   "metadata": {},
   "outputs": [
    {
     "data": {
      "text/plain": [
       "EUR_USD      0.05159\n",
       "returns      0.00054\n",
       "dir          0.49996\n",
       "Ask_Dir      0.49997\n",
       "SMA          0.00015\n",
       "SMA_Dir      0.50000\n",
       "RSI          4.02491\n",
       "RSI_Dir      0.49997\n",
       "fastk       38.02525\n",
       "fastd       21.30792\n",
       "fastk_Dir    0.49879\n",
       "fastd_Dir    0.49935\n",
       "dtype: float64"
      ]
     },
     "execution_count": 24,
     "metadata": {},
     "output_type": "execute_result"
    }
   ],
   "source": [
    "std"
   ]
  },
  {
   "cell_type": "code",
   "execution_count": null,
   "metadata": {},
   "outputs": [],
   "source": [
    "train_s = (train - mu) / std # standardization of train set features"
   ]
  },
  {
   "cell_type": "code",
   "execution_count": null,
   "metadata": {},
   "outputs": [
    {
     "data": {
      "text/html": [
       "<div>\n",
       "<style scoped>\n",
       "    .dataframe tbody tr th:only-of-type {\n",
       "        vertical-align: middle;\n",
       "    }\n",
       "\n",
       "    .dataframe tbody tr th {\n",
       "        vertical-align: top;\n",
       "    }\n",
       "\n",
       "    .dataframe thead th {\n",
       "        text-align: right;\n",
       "    }\n",
       "</style>\n",
       "<table border=\"1\" class=\"dataframe\">\n",
       "  <thead>\n",
       "    <tr style=\"text-align: right;\">\n",
       "      <th></th>\n",
       "      <th>EUR_USD</th>\n",
       "      <th>returns</th>\n",
       "      <th>dir</th>\n",
       "      <th>Ask_Dir</th>\n",
       "      <th>SMA</th>\n",
       "      <th>SMA_Dir</th>\n",
       "      <th>RSI</th>\n",
       "      <th>RSI_Dir</th>\n",
       "      <th>fastk</th>\n",
       "      <th>fastd</th>\n",
       "      <th>fastk_Dir</th>\n",
       "      <th>fastd_Dir</th>\n",
       "    </tr>\n",
       "    <tr>\n",
       "      <th>time</th>\n",
       "      <th></th>\n",
       "      <th></th>\n",
       "      <th></th>\n",
       "      <th></th>\n",
       "      <th></th>\n",
       "      <th></th>\n",
       "      <th></th>\n",
       "      <th></th>\n",
       "      <th></th>\n",
       "      <th></th>\n",
       "      <th></th>\n",
       "      <th></th>\n",
       "    </tr>\n",
       "  </thead>\n",
       "  <tbody>\n",
       "    <tr>\n",
       "      <th>2017-01-03 06:20:00</th>\n",
       "      <td>-2.08139</td>\n",
       "      <td>0.31209</td>\n",
       "      <td>1.01339</td>\n",
       "      <td>1.01229</td>\n",
       "      <td>0.41095</td>\n",
       "      <td>1.00298</td>\n",
       "      <td>-0.00378</td>\n",
       "      <td>1.01223</td>\n",
       "      <td>1.31929</td>\n",
       "      <td>0.79836</td>\n",
       "      <td>-0.93254</td>\n",
       "      <td>1.05267</td>\n",
       "    </tr>\n",
       "    <tr>\n",
       "      <th>2017-01-03 06:40:00</th>\n",
       "      <td>-2.07752</td>\n",
       "      <td>0.34718</td>\n",
       "      <td>1.01339</td>\n",
       "      <td>-0.98783</td>\n",
       "      <td>0.53579</td>\n",
       "      <td>1.00298</td>\n",
       "      <td>0.04164</td>\n",
       "      <td>-0.98789</td>\n",
       "      <td>1.31929</td>\n",
       "      <td>1.28725</td>\n",
       "      <td>-0.93254</td>\n",
       "      <td>1.05267</td>\n",
       "    </tr>\n",
       "    <tr>\n",
       "      <th>2017-01-03 07:00:00</th>\n",
       "      <td>-2.07364</td>\n",
       "      <td>0.34712</td>\n",
       "      <td>1.01339</td>\n",
       "      <td>-0.98783</td>\n",
       "      <td>0.82203</td>\n",
       "      <td>-0.99700</td>\n",
       "      <td>0.04154</td>\n",
       "      <td>-0.98789</td>\n",
       "      <td>1.31903</td>\n",
       "      <td>2.35425</td>\n",
       "      <td>-0.93254</td>\n",
       "      <td>-0.94994</td>\n",
       "    </tr>\n",
       "    <tr>\n",
       "      <th>2017-01-03 07:20:00</th>\n",
       "      <td>-2.12985</td>\n",
       "      <td>-5.10680</td>\n",
       "      <td>-0.98676</td>\n",
       "      <td>1.01229</td>\n",
       "      <td>-0.97427</td>\n",
       "      <td>-0.99700</td>\n",
       "      <td>-4.98442</td>\n",
       "      <td>1.01223</td>\n",
       "      <td>-1.31054</td>\n",
       "      <td>0.78989</td>\n",
       "      <td>1.07232</td>\n",
       "      <td>-0.94994</td>\n",
       "    </tr>\n",
       "    <tr>\n",
       "      <th>2017-01-03 07:40:00</th>\n",
       "      <td>-2.13528</td>\n",
       "      <td>-0.49773</td>\n",
       "      <td>-0.98676</td>\n",
       "      <td>1.01229</td>\n",
       "      <td>-1.23478</td>\n",
       "      <td>-0.99700</td>\n",
       "      <td>-0.26625</td>\n",
       "      <td>1.01223</td>\n",
       "      <td>1.13924</td>\n",
       "      <td>0.68279</td>\n",
       "      <td>1.07232</td>\n",
       "      <td>1.05267</td>\n",
       "    </tr>\n",
       "    <tr>\n",
       "      <th>...</th>\n",
       "      <td>...</td>\n",
       "      <td>...</td>\n",
       "      <td>...</td>\n",
       "      <td>...</td>\n",
       "      <td>...</td>\n",
       "      <td>...</td>\n",
       "      <td>...</td>\n",
       "      <td>...</td>\n",
       "      <td>...</td>\n",
       "      <td>...</td>\n",
       "      <td>...</td>\n",
       "      <td>...</td>\n",
       "    </tr>\n",
       "    <tr>\n",
       "      <th>2018-12-21 08:40:00</th>\n",
       "      <td>-0.18879</td>\n",
       "      <td>-1.99712</td>\n",
       "      <td>-0.98676</td>\n",
       "      <td>-0.98783</td>\n",
       "      <td>0.67942</td>\n",
       "      <td>-0.99700</td>\n",
       "      <td>-3.06020</td>\n",
       "      <td>-0.98789</td>\n",
       "      <td>-1.31054</td>\n",
       "      <td>-1.58702</td>\n",
       "      <td>-0.93254</td>\n",
       "      <td>-0.94994</td>\n",
       "    </tr>\n",
       "    <tr>\n",
       "      <th>2018-12-21 09:00:00</th>\n",
       "      <td>-0.22058</td>\n",
       "      <td>-2.64327</td>\n",
       "      <td>-0.98676</td>\n",
       "      <td>1.01229</td>\n",
       "      <td>-0.01574</td>\n",
       "      <td>-0.99700</td>\n",
       "      <td>-3.73173</td>\n",
       "      <td>1.01223</td>\n",
       "      <td>-1.31054</td>\n",
       "      <td>-1.76440</td>\n",
       "      <td>1.07232</td>\n",
       "      <td>-0.94994</td>\n",
       "    </tr>\n",
       "    <tr>\n",
       "      <th>2018-12-21 09:20:00</th>\n",
       "      <td>-0.24810</td>\n",
       "      <td>-2.29232</td>\n",
       "      <td>-0.98676</td>\n",
       "      <td>1.01229</td>\n",
       "      <td>-0.80718</td>\n",
       "      <td>-0.99700</td>\n",
       "      <td>-3.07302</td>\n",
       "      <td>1.01223</td>\n",
       "      <td>-0.94511</td>\n",
       "      <td>-2.12130</td>\n",
       "      <td>1.07232</td>\n",
       "      <td>1.05267</td>\n",
       "    </tr>\n",
       "    <tr>\n",
       "      <th>2018-12-21 09:40:00</th>\n",
       "      <td>-0.25159</td>\n",
       "      <td>-0.29456</td>\n",
       "      <td>-0.98676</td>\n",
       "      <td>1.01229</td>\n",
       "      <td>-0.83112</td>\n",
       "      <td>-0.99700</td>\n",
       "      <td>0.05803</td>\n",
       "      <td>1.01223</td>\n",
       "      <td>0.83868</td>\n",
       "      <td>-0.84283</td>\n",
       "      <td>1.07232</td>\n",
       "      <td>1.05267</td>\n",
       "    </tr>\n",
       "    <tr>\n",
       "      <th>2018-12-21 10:00:00</th>\n",
       "      <td>-0.25159</td>\n",
       "      <td>-0.00433</td>\n",
       "      <td>-0.98676</td>\n",
       "      <td>-0.98783</td>\n",
       "      <td>-0.89306</td>\n",
       "      <td>-0.99700</td>\n",
       "      <td>0.44171</td>\n",
       "      <td>-0.98789</td>\n",
       "      <td>1.31929</td>\n",
       "      <td>0.72154</td>\n",
       "      <td>-0.93254</td>\n",
       "      <td>1.05267</td>\n",
       "    </tr>\n",
       "  </tbody>\n",
       "</table>\n",
       "<p>36804 rows × 12 columns</p>\n",
       "</div>"
      ],
      "text/plain": [
       "                     EUR_USD  returns      dir  Ask_Dir      SMA  SMA_Dir  \\\n",
       "time                                                                        \n",
       "2017-01-03 06:20:00 -2.08139  0.31209  1.01339  1.01229  0.41095  1.00298   \n",
       "2017-01-03 06:40:00 -2.07752  0.34718  1.01339 -0.98783  0.53579  1.00298   \n",
       "2017-01-03 07:00:00 -2.07364  0.34712  1.01339 -0.98783  0.82203 -0.99700   \n",
       "2017-01-03 07:20:00 -2.12985 -5.10680 -0.98676  1.01229 -0.97427 -0.99700   \n",
       "2017-01-03 07:40:00 -2.13528 -0.49773 -0.98676  1.01229 -1.23478 -0.99700   \n",
       "...                      ...      ...      ...      ...      ...      ...   \n",
       "2018-12-21 08:40:00 -0.18879 -1.99712 -0.98676 -0.98783  0.67942 -0.99700   \n",
       "2018-12-21 09:00:00 -0.22058 -2.64327 -0.98676  1.01229 -0.01574 -0.99700   \n",
       "2018-12-21 09:20:00 -0.24810 -2.29232 -0.98676  1.01229 -0.80718 -0.99700   \n",
       "2018-12-21 09:40:00 -0.25159 -0.29456 -0.98676  1.01229 -0.83112 -0.99700   \n",
       "2018-12-21 10:00:00 -0.25159 -0.00433 -0.98676 -0.98783 -0.89306 -0.99700   \n",
       "\n",
       "                         RSI  RSI_Dir    fastk    fastd  fastk_Dir  fastd_Dir  \n",
       "time                                                                           \n",
       "2017-01-03 06:20:00 -0.00378  1.01223  1.31929  0.79836   -0.93254    1.05267  \n",
       "2017-01-03 06:40:00  0.04164 -0.98789  1.31929  1.28725   -0.93254    1.05267  \n",
       "2017-01-03 07:00:00  0.04154 -0.98789  1.31903  2.35425   -0.93254   -0.94994  \n",
       "2017-01-03 07:20:00 -4.98442  1.01223 -1.31054  0.78989    1.07232   -0.94994  \n",
       "2017-01-03 07:40:00 -0.26625  1.01223  1.13924  0.68279    1.07232    1.05267  \n",
       "...                      ...      ...      ...      ...        ...        ...  \n",
       "2018-12-21 08:40:00 -3.06020 -0.98789 -1.31054 -1.58702   -0.93254   -0.94994  \n",
       "2018-12-21 09:00:00 -3.73173  1.01223 -1.31054 -1.76440    1.07232   -0.94994  \n",
       "2018-12-21 09:20:00 -3.07302  1.01223 -0.94511 -2.12130    1.07232    1.05267  \n",
       "2018-12-21 09:40:00  0.05803  1.01223  0.83868 -0.84283    1.07232    1.05267  \n",
       "2018-12-21 10:00:00  0.44171 -0.98789  1.31929  0.72154   -0.93254    1.05267  \n",
       "\n",
       "[36804 rows x 12 columns]"
      ]
     },
     "execution_count": 26,
     "metadata": {},
     "output_type": "execute_result"
    }
   ],
   "source": [
    "train_s"
   ]
  },
  {
   "cell_type": "code",
   "execution_count": null,
   "metadata": {},
   "outputs": [
    {
     "data": {
      "text/html": [
       "<div>\n",
       "<style scoped>\n",
       "    .dataframe tbody tr th:only-of-type {\n",
       "        vertical-align: middle;\n",
       "    }\n",
       "\n",
       "    .dataframe tbody tr th {\n",
       "        vertical-align: top;\n",
       "    }\n",
       "\n",
       "    .dataframe thead th {\n",
       "        text-align: right;\n",
       "    }\n",
       "</style>\n",
       "<table border=\"1\" class=\"dataframe\">\n",
       "  <thead>\n",
       "    <tr style=\"text-align: right;\">\n",
       "      <th></th>\n",
       "      <th>EUR_USD</th>\n",
       "      <th>returns</th>\n",
       "      <th>dir</th>\n",
       "      <th>Ask_Dir</th>\n",
       "      <th>SMA</th>\n",
       "      <th>SMA_Dir</th>\n",
       "      <th>RSI</th>\n",
       "      <th>RSI_Dir</th>\n",
       "      <th>fastk</th>\n",
       "      <th>fastd</th>\n",
       "      <th>fastk_Dir</th>\n",
       "      <th>fastd_Dir</th>\n",
       "    </tr>\n",
       "  </thead>\n",
       "  <tbody>\n",
       "    <tr>\n",
       "      <th>count</th>\n",
       "      <td>36804.00000</td>\n",
       "      <td>36804.00000</td>\n",
       "      <td>36804.00000</td>\n",
       "      <td>36804.00000</td>\n",
       "      <td>36804.00000</td>\n",
       "      <td>36804.00000</td>\n",
       "      <td>36804.00000</td>\n",
       "      <td>36804.00000</td>\n",
       "      <td>36804.00000</td>\n",
       "      <td>36804.00000</td>\n",
       "      <td>36804.00000</td>\n",
       "      <td>36804.00000</td>\n",
       "    </tr>\n",
       "    <tr>\n",
       "      <th>mean</th>\n",
       "      <td>0.00000</td>\n",
       "      <td>-0.00000</td>\n",
       "      <td>-0.00000</td>\n",
       "      <td>-0.00000</td>\n",
       "      <td>-0.00000</td>\n",
       "      <td>0.00000</td>\n",
       "      <td>-0.00000</td>\n",
       "      <td>0.00000</td>\n",
       "      <td>-0.00000</td>\n",
       "      <td>0.00000</td>\n",
       "      <td>-0.00000</td>\n",
       "      <td>0.00000</td>\n",
       "    </tr>\n",
       "    <tr>\n",
       "      <th>std</th>\n",
       "      <td>1.00000</td>\n",
       "      <td>1.00000</td>\n",
       "      <td>1.00000</td>\n",
       "      <td>1.00000</td>\n",
       "      <td>1.00000</td>\n",
       "      <td>1.00000</td>\n",
       "      <td>1.00000</td>\n",
       "      <td>1.00000</td>\n",
       "      <td>1.00000</td>\n",
       "      <td>1.00000</td>\n",
       "      <td>1.00000</td>\n",
       "      <td>1.00000</td>\n",
       "    </tr>\n",
       "    <tr>\n",
       "      <th>min</th>\n",
       "      <td>-2.32020</td>\n",
       "      <td>-15.46881</td>\n",
       "      <td>-0.98676</td>\n",
       "      <td>-0.98783</td>\n",
       "      <td>-8.62950</td>\n",
       "      <td>-0.99700</td>\n",
       "      <td>-7.96211</td>\n",
       "      <td>-0.98789</td>\n",
       "      <td>-1.31054</td>\n",
       "      <td>-2.33868</td>\n",
       "      <td>-0.93254</td>\n",
       "      <td>-0.94994</td>\n",
       "    </tr>\n",
       "    <tr>\n",
       "      <th>25%</th>\n",
       "      <td>-0.52379</td>\n",
       "      <td>-0.45348</td>\n",
       "      <td>-0.98676</td>\n",
       "      <td>-0.98783</td>\n",
       "      <td>-0.49280</td>\n",
       "      <td>-0.99700</td>\n",
       "      <td>-0.55923</td>\n",
       "      <td>-0.98789</td>\n",
       "      <td>-1.04558</td>\n",
       "      <td>-0.72250</td>\n",
       "      <td>-0.93254</td>\n",
       "      <td>-0.94994</td>\n",
       "    </tr>\n",
       "    <tr>\n",
       "      <th>50%</th>\n",
       "      <td>0.17407</td>\n",
       "      <td>-0.00433</td>\n",
       "      <td>-0.98676</td>\n",
       "      <td>-0.98783</td>\n",
       "      <td>-0.00024</td>\n",
       "      <td>-0.99700</td>\n",
       "      <td>-0.00419</td>\n",
       "      <td>-0.98789</td>\n",
       "      <td>-0.00693</td>\n",
       "      <td>0.00213</td>\n",
       "      <td>-0.93254</td>\n",
       "      <td>-0.94994</td>\n",
       "    </tr>\n",
       "    <tr>\n",
       "      <th>75%</th>\n",
       "      <td>0.58461</td>\n",
       "      <td>0.45656</td>\n",
       "      <td>1.01339</td>\n",
       "      <td>1.01229</td>\n",
       "      <td>0.48942</td>\n",
       "      <td>1.00298</td>\n",
       "      <td>0.55984</td>\n",
       "      <td>1.01223</td>\n",
       "      <td>1.04662</td>\n",
       "      <td>0.72410</td>\n",
       "      <td>1.07232</td>\n",
       "      <td>1.05267</td>\n",
       "    </tr>\n",
       "    <tr>\n",
       "      <th>max</th>\n",
       "      <td>1.92168</td>\n",
       "      <td>28.43071</td>\n",
       "      <td>1.01339</td>\n",
       "      <td>1.01229</td>\n",
       "      <td>10.02923</td>\n",
       "      <td>1.00298</td>\n",
       "      <td>8.71737</td>\n",
       "      <td>1.01223</td>\n",
       "      <td>1.31929</td>\n",
       "      <td>2.35441</td>\n",
       "      <td>1.07232</td>\n",
       "      <td>1.05267</td>\n",
       "    </tr>\n",
       "  </tbody>\n",
       "</table>\n",
       "</div>"
      ],
      "text/plain": [
       "          EUR_USD     returns         dir     Ask_Dir         SMA     SMA_Dir  \\\n",
       "count 36804.00000 36804.00000 36804.00000 36804.00000 36804.00000 36804.00000   \n",
       "mean      0.00000    -0.00000    -0.00000    -0.00000    -0.00000     0.00000   \n",
       "std       1.00000     1.00000     1.00000     1.00000     1.00000     1.00000   \n",
       "min      -2.32020   -15.46881    -0.98676    -0.98783    -8.62950    -0.99700   \n",
       "25%      -0.52379    -0.45348    -0.98676    -0.98783    -0.49280    -0.99700   \n",
       "50%       0.17407    -0.00433    -0.98676    -0.98783    -0.00024    -0.99700   \n",
       "75%       0.58461     0.45656     1.01339     1.01229     0.48942     1.00298   \n",
       "max       1.92168    28.43071     1.01339     1.01229    10.02923     1.00298   \n",
       "\n",
       "              RSI     RSI_Dir       fastk       fastd   fastk_Dir   fastd_Dir  \n",
       "count 36804.00000 36804.00000 36804.00000 36804.00000 36804.00000 36804.00000  \n",
       "mean     -0.00000     0.00000    -0.00000     0.00000    -0.00000     0.00000  \n",
       "std       1.00000     1.00000     1.00000     1.00000     1.00000     1.00000  \n",
       "min      -7.96211    -0.98789    -1.31054    -2.33868    -0.93254    -0.94994  \n",
       "25%      -0.55923    -0.98789    -1.04558    -0.72250    -0.93254    -0.94994  \n",
       "50%      -0.00419    -0.98789    -0.00693     0.00213    -0.93254    -0.94994  \n",
       "75%       0.55984     1.01223     1.04662     0.72410     1.07232     1.05267  \n",
       "max       8.71737     1.01223     1.31929     2.35441     1.07232     1.05267  "
      ]
     },
     "execution_count": 27,
     "metadata": {},
     "output_type": "execute_result"
    }
   ],
   "source": [
    "train_s.describe()"
   ]
  },
  {
   "cell_type": "code",
   "execution_count": null,
   "metadata": {},
   "outputs": [],
   "source": []
  },
  {
   "attachments": {},
   "cell_type": "markdown",
   "metadata": {},
   "source": [
    "## Creating and Fitting the DNN Model"
   ]
  },
  {
   "cell_type": "code",
   "execution_count": null,
   "metadata": {},
   "outputs": [
    {
     "name": "stderr",
     "output_type": "stream",
     "text": [
      "/home/mik/anaconda3/envs/tensor/lib/python3.8/site-packages/keras/optimizers/legacy/adam.py:117: UserWarning: The `lr` argument is deprecated, use `learning_rate` instead.\n",
      "  super().__init__(name, **kwargs)\n"
     ]
    }
   ],
   "source": [
    "from DNNModel import *"
   ]
  },
  {
   "cell_type": "code",
   "execution_count": null,
   "metadata": {},
   "outputs": [
    {
     "data": {
      "text/plain": [
       "<keras.callbacks.History at 0x7f384df79700>"
      ]
     },
     "execution_count": 29,
     "metadata": {},
     "output_type": "execute_result"
    }
   ],
   "source": [
    "# fitting a DNN model with 3 Hidden Layers (50 nodes each) and dropout regularization\n",
    "\n",
    "set_seeds(100)\n",
    "model = create_model(hl = 3, hu = 50, dropout = True, input_dim = len(cols))\n",
    "model.fit(x = train_s[cols], y = train[\"dir\"], epochs = 50, verbose = False,\n",
    "          validation_split = 0.2, shuffle = False, class_weight = cw(train))"
   ]
  },
  {
   "cell_type": "code",
   "execution_count": null,
   "metadata": {},
   "outputs": [
    {
     "name": "stdout",
     "output_type": "stream",
     "text": [
      "1151/1151 [==============================] - 2s 2ms/step - loss: 9.5406e-04 - accuracy: 1.0000\n"
     ]
    },
    {
     "data": {
      "text/plain": [
       "[0.0009540565661154687, 0.9999728202819824]"
      ]
     },
     "execution_count": 30,
     "metadata": {},
     "output_type": "execute_result"
    }
   ],
   "source": [
    "model.evaluate(train_s[cols], train[\"dir\"]) # evaluate the fit on the train set"
   ]
  },
  {
   "cell_type": "code",
   "execution_count": null,
   "metadata": {},
   "outputs": [
    {
     "name": "stdout",
     "output_type": "stream",
     "text": [
      "1151/1151 [==============================] - 2s 2ms/step\n"
     ]
    },
    {
     "data": {
      "text/plain": [
       "array([[1.0000000e+00],\n",
       "       [1.0000000e+00],\n",
       "       [1.0000000e+00],\n",
       "       ...,\n",
       "       [0.0000000e+00],\n",
       "       [1.5846394e-24],\n",
       "       [4.7966279e-02]], dtype=float32)"
      ]
     },
     "execution_count": 31,
     "metadata": {},
     "output_type": "execute_result"
    }
   ],
   "source": [
    "pred = model.predict(train_s[cols]) # prediction (probabilities)\n",
    "pred"
   ]
  },
  {
   "cell_type": "code",
   "execution_count": null,
   "metadata": {},
   "outputs": [
    {
     "data": {
      "image/png": "[encoded data removed]",
      "text/plain": [
       "<Figure size 800x550 with 1 Axes>"
      ]
     },
     "metadata": {},
     "output_type": "display_data"
    }
   ],
   "source": [
    "plt.hist(pred, bins = 50)\n",
    "plt.show()"
   ]
  },
  {
   "cell_type": "code",
   "execution_count": null,
   "metadata": {},
   "outputs": [],
   "source": []
  },
  {
   "attachments": {},
   "cell_type": "markdown",
   "metadata": {},
   "source": [
    "## Out-Sample Prediction and Forward Testing"
   ]
  },
  {
   "cell_type": "code",
   "execution_count": null,
   "metadata": {},
   "outputs": [],
   "source": [
    "test_s = (test - mu) / std # standardization of test set features (with train set parameters!!!)"
   ]
  },
  {
   "cell_type": "code",
   "execution_count": null,
   "metadata": {},
   "outputs": [
    {
     "name": "stdout",
     "output_type": "stream",
     "text": [
      "593/593 [==============================] - 1s 2ms/step - loss: 0.0016 - accuracy: 0.9999\n"
     ]
    },
    {
     "data": {
      "text/plain": [
       "[0.0016226100269705057, 0.9998944997787476]"
      ]
     },
     "execution_count": 34,
     "metadata": {},
     "output_type": "execute_result"
    }
   ],
   "source": [
    "model.evaluate(test_s[cols], test[\"dir\"])"
   ]
  },
  {
   "cell_type": "code",
   "execution_count": null,
   "metadata": {},
   "outputs": [
    {
     "name": "stdout",
     "output_type": "stream",
     "text": [
      "593/593 [==============================] - 1s 2ms/step\n"
     ]
    },
    {
     "data": {
      "text/plain": [
       "array([[0.0000000e+00],\n",
       "       [1.0000000e+00],\n",
       "       [2.9533455e-16],\n",
       "       ...,\n",
       "       [2.1837214e-19],\n",
       "       [5.5653565e-10],\n",
       "       [1.0000000e+00]], dtype=float32)"
      ]
     },
     "execution_count": 35,
     "metadata": {},
     "output_type": "execute_result"
    }
   ],
   "source": [
    "pred = model.predict(test_s[cols])\n",
    "pred"
   ]
  },
  {
   "cell_type": "code",
   "execution_count": null,
   "metadata": {},
   "outputs": [
    {
     "data": {
      "image/png": "[encoded data removed]",
      "text/plain": [
       "<Figure size 800x550 with 1 Axes>"
      ]
     },
     "metadata": {},
     "output_type": "display_data"
    }
   ],
   "source": [
    "plt.hist(pred, bins = 50);"
   ]
  },
  {
   "cell_type": "code",
   "execution_count": null,
   "metadata": {},
   "outputs": [
    {
     "name": "stdout",
     "output_type": "stream",
     "text": [
      "593/593 [==============================] - 1s 2ms/step\n"
     ]
    }
   ],
   "source": [
    "test[\"proba\"] = model.predict(test_s[cols])"
   ]
  },
  {
   "cell_type": "code",
   "execution_count": null,
   "metadata": {},
   "outputs": [],
   "source": [
    "test[\"position\"] = np.where(test.proba < 0.47, -1, np.nan) # 1. short where proba < 0.47"
   ]
  },
  {
   "cell_type": "code",
   "execution_count": null,
   "metadata": {},
   "outputs": [],
   "source": [
    "test[\"position\"] = np.where(test.proba > 0.53, 1, test.position) # 2. long where proba > 0.53"
   ]
  },
  {
   "cell_type": "code",
   "execution_count": null,
   "metadata": {},
   "outputs": [],
   "source": [
    "test.index = test.index.tz_localize(\"UTC\")\n",
    "test[\"NYTime\"] = test.index.tz_convert(\"America/New_York\")\n",
    "test[\"hour\"] = test.NYTime.dt.hour"
   ]
  },
  {
   "cell_type": "code",
   "execution_count": null,
   "metadata": {},
   "outputs": [],
   "source": [
    "test[\"position\"] = np.where(~test.hour.between(2, 12), 0, test.position) # 3. neutral in non-busy hours"
   ]
  },
  {
   "cell_type": "code",
   "execution_count": null,
   "metadata": {},
   "outputs": [],
   "source": [
    "test[\"position\"] = test.position.ffill().fillna(0) # 4. in all other cases: hold position"
   ]
  },
  {
   "cell_type": "code",
   "execution_count": null,
   "metadata": {},
   "outputs": [
    {
     "data": {
      "text/plain": [
       "0.00000     10258\n",
       "-1.00000     4431\n",
       "1.00000      4271\n",
       "Name: position, dtype: int64"
      ]
     },
     "execution_count": 43,
     "metadata": {},
     "output_type": "execute_result"
    }
   ],
   "source": [
    "test.position.value_counts(dropna = False)"
   ]
  },
  {
   "cell_type": "code",
   "execution_count": null,
   "metadata": {},
   "outputs": [],
   "source": [
    "test[\"strategy\"] = test[\"position\"] * test[\"returns\"]"
   ]
  },
  {
   "cell_type": "code",
   "execution_count": null,
   "metadata": {},
   "outputs": [],
   "source": [
    "test[\"creturns\"] = test[\"returns\"].cumsum().apply(np.exp)\n",
    "test[\"cstrategy\"] = test[\"strategy\"].cumsum().apply(np.exp)"
   ]
  },
  {
   "cell_type": "code",
   "execution_count": null,
   "metadata": {},
   "outputs": [
    {
     "data": {
      "image/png": "[encoded data removed]",
      "text/plain": [
       "<Figure size 1200x800 with 1 Axes>"
      ]
     },
     "metadata": {},
     "output_type": "display_data"
    }
   ],
   "source": [
    "test[[\"creturns\", \"cstrategy\"]].plot(figsize = (12, 8))\n",
    "plt.show()"
   ]
  },
  {
   "cell_type": "code",
   "execution_count": null,
   "metadata": {},
   "outputs": [],
   "source": [
    "ptc = 0.000059"
   ]
  },
  {
   "cell_type": "code",
   "execution_count": null,
   "metadata": {},
   "outputs": [],
   "source": [
    "test[\"trades\"] = test.position.diff().abs()"
   ]
  },
  {
   "cell_type": "code",
   "execution_count": null,
   "metadata": {},
   "outputs": [
    {
     "data": {
      "text/plain": [
       "0.00000    14095\n",
       "2.00000     4337\n",
       "1.00000      527\n",
       "Name: trades, dtype: int64"
      ]
     },
     "execution_count": 49,
     "metadata": {},
     "output_type": "execute_result"
    }
   ],
   "source": [
    "test.trades.value_counts()"
   ]
  },
  {
   "cell_type": "code",
   "execution_count": null,
   "metadata": {},
   "outputs": [],
   "source": [
    "test[\"strategy_net\"] = test.strategy - test.trades * ptc"
   ]
  },
  {
   "cell_type": "code",
   "execution_count": null,
   "metadata": {},
   "outputs": [],
   "source": [
    "test[\"cstrategy_net\"] = test[\"strategy_net\"].cumsum().apply(np.exp)"
   ]
  },
  {
   "cell_type": "code",
   "execution_count": null,
   "metadata": {},
   "outputs": [
    {
     "data": {
      "image/png": "[encoded data removed]",
      "text/plain": [
       "<Figure size 1200x800 with 1 Axes>"
      ]
     },
     "metadata": {},
     "output_type": "display_data"
    }
   ],
   "source": [
    "test[[\"creturns\", \"cstrategy\", \"cstrategy_net\"]].plot(figsize = (12, 8))\n",
    "plt.show()"
   ]
  },
  {
   "attachments": {},
   "cell_type": "markdown",
   "metadata": {},
   "source": [
    "## Saving Model and Parameters"
   ]
  },
  {
   "cell_type": "code",
   "execution_count": null,
   "metadata": {},
   "outputs": [
    {
     "name": "stderr",
     "output_type": "stream",
     "text": [
      "2023-06-01 22:05:45.083756: I tensorflow/core/common_runtime/executor.cc:1197] [/device:CPU:0] (DEBUG INFO) Executor start aborting (this does not indicate an error and you can ignore this message): INVALID_ARGUMENT: You must feed a value for placeholder tensor 'inputs' with dtype float and shape [?,50]\n",
      "\t [[{{node inputs}}]]\n",
      "2023-06-01 22:05:45.109238: I tensorflow/core/common_runtime/executor.cc:1197] [/device:CPU:0] (DEBUG INFO) Executor start aborting (this does not indicate an error and you can ignore this message): INVALID_ARGUMENT: You must feed a value for placeholder tensor 'inputs' with dtype float and shape [?,50]\n",
      "\t [[{{node inputs}}]]\n",
      "2023-06-01 22:05:45.131540: I tensorflow/core/common_runtime/executor.cc:1197] [/device:CPU:0] (DEBUG INFO) Executor start aborting (this does not indicate an error and you can ignore this message): INVALID_ARGUMENT: You must feed a value for placeholder tensor 'inputs' with dtype float and shape [?,50]\n",
      "\t [[{{node inputs}}]]\n",
      "2023-06-01 22:05:45.157374: I tensorflow/core/common_runtime/executor.cc:1197] [/device:CPU:0] (DEBUG INFO) Executor start aborting (this does not indicate an error and you can ignore this message): INVALID_ARGUMENT: You must feed a value for placeholder tensor 'inputs' with dtype float and shape [?,50]\n",
      "\t [[{{node inputs}}]]\n",
      "2023-06-01 22:05:45.516029: I tensorflow/core/common_runtime/executor.cc:1197] [/device:CPU:0] (DEBUG INFO) Executor start aborting (this does not indicate an error and you can ignore this message): INVALID_ARGUMENT: You must feed a value for placeholder tensor 'inputs' with dtype float and shape [?,50]\n",
      "\t [[{{node inputs}}]]\n",
      "2023-06-01 22:05:45.575263: I tensorflow/core/common_runtime/executor.cc:1197] [/device:CPU:0] (DEBUG INFO) Executor start aborting (this does not indicate an error and you can ignore this message): INVALID_ARGUMENT: You must feed a value for placeholder tensor 'inputs' with dtype float and shape [?,50]\n",
      "\t [[{{node inputs}}]]\n",
      "2023-06-01 22:05:45.645655: I tensorflow/core/common_runtime/executor.cc:1197] [/device:CPU:0] (DEBUG INFO) Executor start aborting (this does not indicate an error and you can ignore this message): INVALID_ARGUMENT: You must feed a value for placeholder tensor 'inputs' with dtype float and shape [?,50]\n",
      "\t [[{{node inputs}}]]\n",
      "2023-06-01 22:05:45.706541: I tensorflow/core/common_runtime/executor.cc:1197] [/device:CPU:0] (DEBUG INFO) Executor start aborting (this does not indicate an error and you can ignore this message): INVALID_ARGUMENT: You must feed a value for placeholder tensor 'inputs' with dtype float and shape [?,50]\n",
      "\t [[{{node inputs}}]]\n"
     ]
    },
    {
     "name": "stdout",
     "output_type": "stream",
     "text": [
      "INFO:tensorflow:Assets written to: DNN_model/assets\n"
     ]
    }
   ],
   "source": [
    "model.save(\"DNN_model\")"
   ]
  },
  {
   "cell_type": "code",
   "execution_count": null,
   "metadata": {},
   "outputs": [],
   "source": [
    "params = {\"mu\":mu, \"std\":std}"
   ]
  },
  {
   "cell_type": "code",
   "execution_count": null,
   "metadata": {},
   "outputs": [],
   "source": [
    "pickle.dump(params, open(\"params.pkl\", \"wb\"))"
   ]
  },
  {
   "attachments": {},
   "cell_type": "markdown",
   "metadata": {},
   "source": [
    "## Implementation"
   ]
  },
  {
   "attachments": {},
   "cell_type": "markdown",
   "metadata": {},
   "source": [
    "__Loading Model and Parameters__"
   ]
  },
  {
   "cell_type": "code",
   "execution_count": null,
   "metadata": {},
   "outputs": [],
   "source": [
    "# Loading the model\n",
    "model = keras.models.load_model(\"DNN_model\")"
   ]
  },
  {
   "cell_type": "code",
   "execution_count": null,
   "metadata": {},
   "outputs": [],
   "source": [
    "params = pickle.load(open(\"params.pkl\", \"rb\"))\n",
    "mu = params[\"mu\"]\n",
    "std = params[\"std\"]"
   ]
  },
  {
   "attachments": {},
   "cell_type": "markdown",
   "metadata": {},
   "source": [
    "__[FXCM] Implementation__"
   ]
  },
  {
   "cell_type": "code",
   "execution_count": null,
   "metadata": {},
   "outputs": [],
   "source": [
    "api = fxcmpy.fxcmpy(config_file= \"FXCM.cfg\")"
   ]
  },
  {
   "cell_type": "code",
   "execution_count": null,
   "metadata": {},
   "outputs": [],
   "source": [
    "col = [\"tradeId\", \"amountK\", \"currency\", \"grossPL\", \"isBuy\"]"
   ]
  },
  {
   "cell_type": "code",
   "execution_count": null,
   "metadata": {},
   "outputs": [],
   "source": [
    "class DNNTrader():\n",
    "    \n",
    "    def __init__(self, instrument, bar_length, window, lags, model, mu, std, units, cols):\n",
    "        self.instrument = instrument\n",
    "        self.bar_length = pd.to_timedelta(bar_length) \n",
    "        self.tick_data = None\n",
    "        self.raw_data = None\n",
    "        self.data = None \n",
    "        self.ticks = 0\n",
    "        self.last_bar = None  \n",
    "        self.units = units\n",
    "        self.position = 0\n",
    "        self.col = cols\n",
    "        \n",
    "        self.isFirst = True\n",
    "        \n",
    "        #*****************add strategy-specific attributes here******************\n",
    "        self.window = window\n",
    "        self.lags = lags\n",
    "        self.model = model\n",
    "        self.mu = mu\n",
    "        self.std = std\n",
    "        #************************************************************************        \n",
    "    \n",
    "    def get_most_recent(self, period = \"m1\", number = 10000):\n",
    "        while True:  \n",
    "            time.sleep(5)\n",
    "            df = api.get_candles(self.instrument, number = number, period = period, columns = [\"bidclose\", \"askclose\"])\n",
    "            df[self.instrument] = (df.bidclose + df.askclose) / 2\n",
    "            df = df[self.instrument].to_frame()\n",
    "            df = df.resample(self.bar_length, label = \"right\").last().dropna().iloc[:-1]\n",
    "            self.raw_data = df.copy()\n",
    "            self.last_bar = self.raw_data.index[-1]\n",
    "            if pd.to_datetime(datetime.utcnow()) - self.last_bar < self.bar_length:\n",
    "                self.start_time = pd.to_datetime(datetime.utcnow()) # NEW -> Start Time of Trading Session\n",
    "                break\n",
    "    \n",
    "    def get_tick_data(self, data, dataframe):\n",
    "        \n",
    "        self.ticks += 1\n",
    "        print(self.ticks, end = \" \", flush = True)\n",
    "        \n",
    "        recent_tick = pd.to_datetime(data[\"Updated\"], unit = \"ms\")\n",
    "        \n",
    "        if recent_tick - self.last_bar > self.bar_length:\n",
    "            self.tick_data = dataframe.loc[self.last_bar:, [\"Bid\", \"Ask\"]]\n",
    "            self.tick_data[self.instrument] = (self.tick_data.Ask + self.tick_data.Bid)/2\n",
    "            self.tick_data = self.tick_data[self.instrument].to_frame()\n",
    "            self.resample_and_join()\n",
    "            self.define_strategy() \n",
    "            self.execute_trades()\n",
    "            \n",
    "    def resample_and_join(self):\n",
    "        self.raw_data = self.raw_data.append(self.tick_data.resample(self.bar_length, \n",
    "                                                             label=\"right\").last().ffill().iloc[:-1])\n",
    "        self.last_bar = self.raw_data.index[-1]  \n",
    "        \n",
    "    def define_strategy(self): # \"strategy-specific\"\n",
    "        df = self.raw_data.copy()\n",
    "    \n",
    "        #******************** define your strategy here ************************\n",
    "        df = df.append(self.tick_data.iloc[-1]) # append latest tick (== open price of current bar)\n",
    "    \n",
    "        df[\"returns\"] = np.log(df[self.instrument] / df[self.instrument].shift())\n",
    "        df['Ask_Dir'] = np.where(df['returns'].shift(-1) > df.returns, 1, 0)\n",
    "        df['SMA'] = abstract.SMA(df['returns'], timeperiod=12)\n",
    "        df['SMA_Dir'] = np.where(df['SMA'].shift(-1) > df.SMA, 1, 0)\n",
    "        df['RSI'] = abstract.RSI(df['returns'], timeperiod=12)\n",
    "        df['RSI_Dir'] = np.where(df['RSI'].shift(-1) > df.RSI, 1, 0)\n",
    "        df['fastk'], df['fastd'] = abstract.STOCHRSI(df[\"returns\"], timeperiod=14, fastk_period=5, fastd_period=3, fastd_matype=0)\n",
    "        df['fastk_Dir'] = np.where(df['fastk'].shift(-1) > df.fastk, 1, 0)\n",
    "        df['fastd_Dir'] = np.where(df['fastd'].shift(-1) > df.fastd, 1, 0)    \n",
    "        #df.dropna(inplace = True)\n",
    "        self.cols = ['returns', 'Ask_Dir', 'SMA', 'SMA_Dir', 'RSI', 'RSI_Dir', 'fastk', 'fastd', 'fastk_Dir', 'fastd_Dir']\n",
    "        # standardization\n",
    "        df_s = (df - self.mu) / self.std\n",
    "        # predict\n",
    "\n",
    "        \n",
    "\n",
    "        df[\"proba\"] = self.model.predict(df_s[self.cols])\n",
    "        \n",
    "        #determine positions\n",
    "        df = df.loc[self.start_time:].copy() # starting with first live_stream bar (removing historical bars)\n",
    "        df[\"position\"] = np.where(df.proba < 0.47, -1, np.nan)\n",
    "        df[\"position\"] = np.where(df.proba > 0.53, 1, df.position)\n",
    "        df[\"position\"] = df.position.ffill().fillna(0) # start with neutral position if no strong signal\n",
    "        #***********************************************************************\n",
    "        self.proba = df[\"position\"].iloc[-1]\n",
    "        lastRow = df.iloc[-1]\n",
    "        \n",
    "        if self.isFirst:\n",
    "            df.to_csv('data.csv', header=True)\n",
    "            self.isFirst = False\n",
    "        else:\n",
    "            lastRow.to_csv('data.csv', mode='a', index=True, header=True)\n",
    "        \n",
    "        self.value = df[self.instrument].iloc[-1]\n",
    "        #df = df[self.col]\n",
    "        self.data = df.copy()\n",
    "        \n",
    "    def execute_trades(self):\n",
    "        print('___________________')\n",
    "        print(self.proba )\n",
    "        print(self.value )\n",
    "        print('___________________')\n",
    "\n",
    "    def report_trade(self, order, going):\n",
    "        time = order.get_time()\n",
    "        units = api.get_open_positions().amountK.iloc[-1]\n",
    "        price = api.get_open_positions().open.iloc[-1]\n",
    "        unreal_pl = api.get_open_positions().grossPL.sum()\n",
    "        print(\"\\n\" + 100* \"-\")\n",
    "        print(\"{} | {}\".format(time, going))\n",
    "        print(\"{} | units = {} | price = {} | Unreal. P&L = {}\".format(time, units, price, unreal_pl))\n",
    "        print(100 * \"-\" + \"\\n\")"
   ]
  },
  {
   "cell_type": "code",
   "execution_count": null,
   "metadata": {},
   "outputs": [],
   "source": [
    "trader = DNNTrader(\"EUR/USD\", bar_length = \"10min\", \n",
    "                   window = 50, lags = 5, model = model, mu = mu, std = std, units = 100, cols=cols)"
   ]
  },
  {
   "cell_type": "code",
   "execution_count": null,
   "metadata": {
    "scrolled": true
   },
   "outputs": [],
   "source": [
    "trader.get_most_recent()\n",
    "api.subscribe_market_data(trader.instrument, (trader.get_tick_data, ))"
   ]
  },
  {
   "cell_type": "code",
   "execution_count": null,
   "metadata": {},
   "outputs": [
    {
     "data": {
      "text/plain": [
       "'\\napi.unsubscribe_market_data(trader.instrument)\\nif len(api.get_open_positions()) != 0: # if we have final open position(s) (netting and hedging)\\n    api.close_all_for_symbol(trader.instrument)\\n    print(2*\"\\n\" + \"{} | GOING NEUTRAL\".format(str(datetime.utcnow())) + \"\\n\")\\n    time.sleep(20)\\n    print(api.get_closed_positions_summary()[col])\\n    trader.position = 0\\n'"
      ]
     },
     "execution_count": 63,
     "metadata": {},
     "output_type": "execute_result"
    }
   ],
   "source": [
    "'''\n",
    "api.unsubscribe_market_data(trader.instrument)\n",
    "if len(api.get_open_positions()) != 0: # if we have final open position(s) (netting and hedging)\n",
    "    api.close_all_for_symbol(trader.instrument)\n",
    "    print(2*\"\\n\" + \"{} | GOING NEUTRAL\".format(str(datetime.utcnow())) + \"\\n\")\n",
    "    time.sleep(20)\n",
    "    print(api.get_closed_positions_summary()[col])\n",
    "    trader.position = 0\n",
    "'''"
   ]
  },
  {
   "cell_type": "code",
   "execution_count": null,
   "metadata": {},
   "outputs": [],
   "source": [
    "#trader.data"
   ]
  },
  {
   "cell_type": "code",
   "execution_count": null,
   "metadata": {},
   "outputs": [
    {
     "data": {
      "text/plain": [
       "Index(['returns', 'Ask_Dir', 'SMA', 'SMA_Dir', 'RSI', 'RSI_Dir', 'fastk',\n",
       "       'fastd', 'fastk_Dir', 'fastd_Dir'],\n",
       "      dtype='object')"
      ]
     },
     "execution_count": 65,
     "metadata": {},
     "output_type": "execute_result"
    },
    {
     "name": "stdout",
     "output_type": "stream",
     "text": [
      "32/32 [==============================] - 0s 2ms/step1 22 23 24 25 26 27 28 29 30 31 32 33 34 35 36 37 38 39 40 41 42 43 44 45 46 47 48 49 50 51 52 53 54 55 56 57 58 59 60 61 62 63 64 65 66 67 68 69 70 71 72 73\n",
      "___________________\n",
      "-1.0\n",
      "1.076085\n",
      "___________________\n",
      "32/32 [==============================] - 0s 2ms/step2 93 94 95 96 97 98 99 100 101 102 103 104 105 106 107 108 109 110 111 112 113 114 115 116 117 118 119 120 121 122 123 124 125 126 127 128 129 130 131 132 133 134 135 136 137 138 139 140 141 142 143 144 145 146 147 148 149 150 151 152 153 154 155 156 157 158 159 160 161 162 163 164 165 166 167 168 169 170 171 172 173 174 175 176 177 178 179 180 181 182 183 184 185 186 187 188 189 190 191 192 193 194 195 196 197 198 199 200 201 202 203 204 205 206 207 208 209 210 211 212 213 214 215 216 217 218 219 220 221 222 223 224 225 226 227 228 229 230 231 232 233 234 235 236 237 238 239 240 241 242 243 244 245 246 247 248 249 250 251 252 253 254 255 256 257 258 259 260 261 262 263 264 265 266 267 268 269 270 271 272 273 274 275 276 277 278 279 280 281 282 283 284 285 286 287 288 289 290 291 292 293 294 295 296 297 298 299 300 301 302 303 304 305 306 307 308 309 310 311 312 313 314 315 316 317 318 319 320 321 322 323 324 325 326 327 328 329 330 331 332 333 334 335 336 337 338 339 340 341 342 343 344 345 346 347 348 349 350 351 352 353 354 355 356 357 358 359 360 361 362 363 364 365 366 367 368 \n",
      "___________________\n",
      "-1.0\n",
      "1.0760100000000001\n",
      "___________________\n",
      "370 371 372 373 374 375 376 377 378 379 380 381 382 383 384 385 386 387 388 389 390 391 392 393 394 395 396 397 398 399 400 401 402 403 404 405 406 407 408 409 410 411 412 413 414 415 416 417 418 419 420 421 422 423 424 425 426 427 428 429 430 431 432 433 434 435 436 437 438 439 440 441 442 443 444 445 446 447 448 449 450 451 452 453 454 455 456 "
     ]
    }
   ],
   "source": [
    "cols"
   ]
  }
 ],
 "metadata": {
  "kernelspec": {
   "display_name": "Python 3",
   "language": "python",
   "name": "python3"
  },
  "language_info": {
   "codemirror_mode": {
    "name": "ipython",
    "version": 3
   },
   "file_extension": ".py",
   "mimetype": "text/x-python",
   "name": "python",
   "nbconvert_exporter": "python",
   "pygments_lexer": "ipython3",
   "version": "3.8.16"
  }
 },
 "nbformat": 4,
 "nbformat_minor": 4
}
