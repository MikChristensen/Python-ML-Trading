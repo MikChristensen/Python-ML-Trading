{
  "cells": [
    {
      "attachments": {},
      "cell_type": "markdown",
      "metadata": {},
      "source": [
        "# MLP - Trading strategy\n",
        " - Tensorflow implementation"
      ]
    },
    {
      "attachments": {},
      "cell_type": "markdown",
      "metadata": {
        "id": "fQGeEuZwrfg-"
      },
      "source": [
        "# Import packages\n",
        "\n",
        "https://www.kdnuggets.com/2020/08/tensorflow-model-regularization-techniques.html"
      ]
    },
    {
      "cell_type": "code",
      "execution_count": 1,
      "metadata": {
        "id": "7BXaprlUre3n"
      },
      "outputs": [
        {
          "name": "stderr",
          "output_type": "stream",
          "text": [
            "2023-07-24 10:17:37.288912: I tensorflow/tsl/cuda/cudart_stub.cc:28] Could not find cuda drivers on your machine, GPU will not be used.\n",
            "2023-07-24 10:17:37.365248: I tensorflow/tsl/cuda/cudart_stub.cc:28] Could not find cuda drivers on your machine, GPU will not be used.\n",
            "2023-07-24 10:17:37.366208: I tensorflow/core/platform/cpu_feature_guard.cc:182] This TensorFlow binary is optimized to use available CPU instructions in performance-critical operations.\n",
            "To enable the following instructions: AVX2 FMA, in other operations, rebuild TensorFlow with the appropriate compiler flags.\n",
            "2023-07-24 10:17:38.459310: W tensorflow/compiler/tf2tensorrt/utils/py_utils.cc:38] TF-TRT Warning: Could not find TensorRT\n"
          ]
        }
      ],
      "source": [
        "# Import necesary libraries\n",
        "import yfinance as yf\n",
        "import numpy as np\n",
        "import matplotlib.pyplot as plt\n",
        "\n",
        "from sklearn.model_selection import train_test_split\n",
        "import warnings\n",
        "warnings.filterwarnings(\"ignore\")\n",
        "\n",
        "from Model import get_MLP_Models\n",
        "from Preprocessing import Preprocessing\n",
        "from Data import get_data\n",
        "\n",
        "preprocessing = Preprocessing()\n",
        "models = get_MLP_Models()\n",
        "obj_data = get_data()\n"
      ]
    },
    {
      "attachments": {},
      "cell_type": "markdown",
      "metadata": {
        "id": "tmRqCSYirjgY"
      },
      "source": [
        "# Download data\n"
      ]
    },
    {
      "cell_type": "code",
      "execution_count": 2,
      "metadata": {
        "colab": {
          "base_uri": "https://localhost:8080/"
        },
        "id": "Oq7o_qVksCIV",
        "outputId": "ff31cec4-7d06-405c-95fe-39aa9572dfcc"
      },
      "outputs": [
        {
          "name": "stdout",
          "output_type": "stream",
          "text": [
            "[*********************100%***********************]  1 of 1 completed\n"
          ]
        }
      ],
      "source": [
        "# Download historical data for required stocks\n",
        "symbol = \"EURUSD=X\"\n",
        "df_raw = obj_data.get_yfinance_hist(symbol)"
      ]
    },
    {
      "attachments": {},
      "cell_type": "markdown",
      "metadata": {
        "id": "-DqEcSZhD3cv"
      },
      "source": [
        "# Plot the  number of buy and sell trades"
      ]
    },
    {
      "cell_type": "code",
      "execution_count": 3,
      "metadata": {},
      "outputs": [
        {
          "data": {
            "text/html": [
              "<div>\n",
              "<style scoped>\n",
              "    .dataframe tbody tr th:only-of-type {\n",
              "        vertical-align: middle;\n",
              "    }\n",
              "\n",
              "    .dataframe tbody tr th {\n",
              "        vertical-align: top;\n",
              "    }\n",
              "\n",
              "    .dataframe thead th {\n",
              "        text-align: right;\n",
              "    }\n",
              "</style>\n",
              "<table border=\"1\" class=\"dataframe\">\n",
              "  <thead>\n",
              "    <tr style=\"text-align: right;\">\n",
              "      <th></th>\n",
              "      <th>Open</th>\n",
              "      <th>High</th>\n",
              "      <th>Low</th>\n",
              "      <th>Close</th>\n",
              "      <th>Adj Close</th>\n",
              "      <th>Volume</th>\n",
              "      <th>returns</th>\n",
              "      <th>target</th>\n",
              "    </tr>\n",
              "    <tr>\n",
              "      <th>Datetime</th>\n",
              "      <th></th>\n",
              "      <th></th>\n",
              "      <th></th>\n",
              "      <th></th>\n",
              "      <th></th>\n",
              "      <th></th>\n",
              "      <th></th>\n",
              "      <th></th>\n",
              "    </tr>\n",
              "  </thead>\n",
              "  <tbody>\n",
              "    <tr>\n",
              "      <th>2023-06-26 00:15:00</th>\n",
              "      <td>1.090869</td>\n",
              "      <td>1.090869</td>\n",
              "      <td>1.090631</td>\n",
              "      <td>1.090750</td>\n",
              "      <td>1.090750</td>\n",
              "      <td>0</td>\n",
              "      <td>0.000000</td>\n",
              "      <td>1</td>\n",
              "    </tr>\n",
              "    <tr>\n",
              "      <th>2023-06-26 00:30:00</th>\n",
              "      <td>1.090750</td>\n",
              "      <td>1.090869</td>\n",
              "      <td>1.090750</td>\n",
              "      <td>1.090869</td>\n",
              "      <td>1.090869</td>\n",
              "      <td>0</td>\n",
              "      <td>0.000109</td>\n",
              "      <td>1</td>\n",
              "    </tr>\n",
              "    <tr>\n",
              "      <th>2023-06-26 00:45:00</th>\n",
              "      <td>1.090869</td>\n",
              "      <td>1.090988</td>\n",
              "      <td>1.090869</td>\n",
              "      <td>1.090988</td>\n",
              "      <td>1.090988</td>\n",
              "      <td>0</td>\n",
              "      <td>0.000109</td>\n",
              "      <td>0</td>\n",
              "    </tr>\n",
              "    <tr>\n",
              "      <th>2023-06-26 01:00:00</th>\n",
              "      <td>1.091107</td>\n",
              "      <td>1.091107</td>\n",
              "      <td>1.090275</td>\n",
              "      <td>1.090631</td>\n",
              "      <td>1.090631</td>\n",
              "      <td>0</td>\n",
              "      <td>-0.000327</td>\n",
              "      <td>1</td>\n",
              "    </tr>\n",
              "    <tr>\n",
              "      <th>2023-06-26 01:15:00</th>\n",
              "      <td>1.090631</td>\n",
              "      <td>1.090869</td>\n",
              "      <td>1.090631</td>\n",
              "      <td>1.090750</td>\n",
              "      <td>1.090750</td>\n",
              "      <td>0</td>\n",
              "      <td>0.000109</td>\n",
              "      <td>1</td>\n",
              "    </tr>\n",
              "    <tr>\n",
              "      <th>...</th>\n",
              "      <td>...</td>\n",
              "      <td>...</td>\n",
              "      <td>...</td>\n",
              "      <td>...</td>\n",
              "      <td>...</td>\n",
              "      <td>...</td>\n",
              "      <td>...</td>\n",
              "      <td>...</td>\n",
              "    </tr>\n",
              "    <tr>\n",
              "      <th>2023-07-24 08:15:00</th>\n",
              "      <td>1.113090</td>\n",
              "      <td>1.113214</td>\n",
              "      <td>1.112842</td>\n",
              "      <td>1.112842</td>\n",
              "      <td>1.112842</td>\n",
              "      <td>0</td>\n",
              "      <td>-0.001894</td>\n",
              "      <td>0</td>\n",
              "    </tr>\n",
              "    <tr>\n",
              "      <th>2023-07-24 08:30:00</th>\n",
              "      <td>1.110371</td>\n",
              "      <td>1.110371</td>\n",
              "      <td>1.107911</td>\n",
              "      <td>1.108033</td>\n",
              "      <td>1.108033</td>\n",
              "      <td>0</td>\n",
              "      <td>-0.004331</td>\n",
              "      <td>1</td>\n",
              "    </tr>\n",
              "    <tr>\n",
              "      <th>2023-07-24 08:45:00</th>\n",
              "      <td>1.108525</td>\n",
              "      <td>1.108893</td>\n",
              "      <td>1.107911</td>\n",
              "      <td>1.108279</td>\n",
              "      <td>1.108279</td>\n",
              "      <td>0</td>\n",
              "      <td>0.000222</td>\n",
              "      <td>1</td>\n",
              "    </tr>\n",
              "    <tr>\n",
              "      <th>2023-07-24 09:00:00</th>\n",
              "      <td>1.108893</td>\n",
              "      <td>1.108893</td>\n",
              "      <td>1.107911</td>\n",
              "      <td>1.108402</td>\n",
              "      <td>1.108402</td>\n",
              "      <td>0</td>\n",
              "      <td>0.000111</td>\n",
              "      <td>0</td>\n",
              "    </tr>\n",
              "    <tr>\n",
              "      <th>2023-07-24 09:15:00</th>\n",
              "      <td>1.108033</td>\n",
              "      <td>1.108279</td>\n",
              "      <td>1.108033</td>\n",
              "      <td>1.108279</td>\n",
              "      <td>1.108279</td>\n",
              "      <td>0</td>\n",
              "      <td>-0.000111</td>\n",
              "      <td>0</td>\n",
              "    </tr>\n",
              "  </tbody>\n",
              "</table>\n",
              "<p>1933 rows × 8 columns</p>\n",
              "</div>"
            ],
            "text/plain": [
              "                         Open      High       Low     Close  Adj Close  \\\n",
              "Datetime                                                                 \n",
              "2023-06-26 00:15:00  1.090869  1.090869  1.090631  1.090750   1.090750   \n",
              "2023-06-26 00:30:00  1.090750  1.090869  1.090750  1.090869   1.090869   \n",
              "2023-06-26 00:45:00  1.090869  1.090988  1.090869  1.090988   1.090988   \n",
              "2023-06-26 01:00:00  1.091107  1.091107  1.090275  1.090631   1.090631   \n",
              "2023-06-26 01:15:00  1.090631  1.090869  1.090631  1.090750   1.090750   \n",
              "...                       ...       ...       ...       ...        ...   \n",
              "2023-07-24 08:15:00  1.113090  1.113214  1.112842  1.112842   1.112842   \n",
              "2023-07-24 08:30:00  1.110371  1.110371  1.107911  1.108033   1.108033   \n",
              "2023-07-24 08:45:00  1.108525  1.108893  1.107911  1.108279   1.108279   \n",
              "2023-07-24 09:00:00  1.108893  1.108893  1.107911  1.108402   1.108402   \n",
              "2023-07-24 09:15:00  1.108033  1.108279  1.108033  1.108279   1.108279   \n",
              "\n",
              "                     Volume   returns  target  \n",
              "Datetime                                       \n",
              "2023-06-26 00:15:00       0  0.000000       1  \n",
              "2023-06-26 00:30:00       0  0.000109       1  \n",
              "2023-06-26 00:45:00       0  0.000109       0  \n",
              "2023-06-26 01:00:00       0 -0.000327       1  \n",
              "2023-06-26 01:15:00       0  0.000109       1  \n",
              "...                     ...       ...     ...  \n",
              "2023-07-24 08:15:00       0 -0.001894       0  \n",
              "2023-07-24 08:30:00       0 -0.004331       1  \n",
              "2023-07-24 08:45:00       0  0.000222       1  \n",
              "2023-07-24 09:00:00       0  0.000111       0  \n",
              "2023-07-24 09:15:00       0 -0.000111       0  \n",
              "\n",
              "[1933 rows x 8 columns]"
            ]
          },
          "execution_count": 3,
          "metadata": {},
          "output_type": "execute_result"
        }
      ],
      "source": [
        "\n",
        "df_raw"
      ]
    },
    {
      "cell_type": "code",
      "execution_count": 4,
      "metadata": {
        "colab": {
          "base_uri": "https://localhost:8080/",
          "height": 0
        },
        "id": "aM8uF_3Bfq3u",
        "outputId": "e3b37e8e-2378-4bda-8538-424afc73e404"
      },
      "outputs": [
        {
          "data": {
            "image/png": "[encoded data removed]",
            "text/plain": [
              "<Figure size 640x480 with 1 Axes>"
            ]
          },
          "metadata": {},
          "output_type": "display_data"
        }
      ],
      "source": [
        "plt.hist(df_raw['target'], bins = 50)\n",
        "plt.show()"
      ]
    },
    {
      "attachments": {},
      "cell_type": "markdown",
      "metadata": {
        "id": "_noNQT_AxfV_"
      },
      "source": [
        "# Apply feature"
      ]
    },
    {
      "cell_type": "code",
      "execution_count": 5,
      "metadata": {
        "colab": {
          "base_uri": "https://localhost:8080/",
          "height": 0
        },
        "id": "J0nZMFZNxkC8",
        "outputId": "80d709e0-75b0-4bd1-edcc-0a7c4eaa3ca3"
      },
      "outputs": [
        {
          "data": {
            "text/html": [
              "<div>\n",
              "<style scoped>\n",
              "    .dataframe tbody tr th:only-of-type {\n",
              "        vertical-align: middle;\n",
              "    }\n",
              "\n",
              "    .dataframe tbody tr th {\n",
              "        vertical-align: top;\n",
              "    }\n",
              "\n",
              "    .dataframe thead th {\n",
              "        text-align: right;\n",
              "    }\n",
              "</style>\n",
              "<table border=\"1\" class=\"dataframe\">\n",
              "  <thead>\n",
              "    <tr style=\"text-align: right;\">\n",
              "      <th></th>\n",
              "      <th>Open</th>\n",
              "      <th>High</th>\n",
              "      <th>Low</th>\n",
              "      <th>Close</th>\n",
              "      <th>Adj Close</th>\n",
              "      <th>Volume</th>\n",
              "      <th>returns</th>\n",
              "      <th>target</th>\n",
              "      <th>lag1</th>\n",
              "      <th>lag2</th>\n",
              "      <th>...</th>\n",
              "      <th>SMA_Signal125</th>\n",
              "      <th>SMA145</th>\n",
              "      <th>SMA_Signal145</th>\n",
              "      <th>SMA165</th>\n",
              "      <th>SMA_Signal165</th>\n",
              "      <th>SMA185</th>\n",
              "      <th>SMA_Signal185</th>\n",
              "      <th>fast</th>\n",
              "      <th>slow</th>\n",
              "      <th>CrossOver_Signal</th>\n",
              "    </tr>\n",
              "    <tr>\n",
              "      <th>Datetime</th>\n",
              "      <th></th>\n",
              "      <th></th>\n",
              "      <th></th>\n",
              "      <th></th>\n",
              "      <th></th>\n",
              "      <th></th>\n",
              "      <th></th>\n",
              "      <th></th>\n",
              "      <th></th>\n",
              "      <th></th>\n",
              "      <th></th>\n",
              "      <th></th>\n",
              "      <th></th>\n",
              "      <th></th>\n",
              "      <th></th>\n",
              "      <th></th>\n",
              "      <th></th>\n",
              "      <th></th>\n",
              "      <th></th>\n",
              "      <th></th>\n",
              "      <th></th>\n",
              "    </tr>\n",
              "  </thead>\n",
              "  <tbody>\n",
              "    <tr>\n",
              "      <th>2023-06-28 02:15:00</th>\n",
              "      <td>1.095410</td>\n",
              "      <td>1.09565</td>\n",
              "      <td>1.095290</td>\n",
              "      <td>1.095650</td>\n",
              "      <td>1.095650</td>\n",
              "      <td>0</td>\n",
              "      <td>0.000000</td>\n",
              "      <td>0</td>\n",
              "      <td>-0.000110</td>\n",
              "      <td>-0.000110</td>\n",
              "      <td>...</td>\n",
              "      <td>1</td>\n",
              "      <td>1.093762</td>\n",
              "      <td>1</td>\n",
              "      <td>1.093412</td>\n",
              "      <td>1</td>\n",
              "      <td>1.093118</td>\n",
              "      <td>1</td>\n",
              "      <td>-0.000131</td>\n",
              "      <td>-0.000055</td>\n",
              "      <td>-1</td>\n",
              "    </tr>\n",
              "    <tr>\n",
              "      <th>2023-06-28 02:30:00</th>\n",
              "      <td>1.095530</td>\n",
              "      <td>1.09553</td>\n",
              "      <td>1.095050</td>\n",
              "      <td>1.095050</td>\n",
              "      <td>1.095050</td>\n",
              "      <td>0</td>\n",
              "      <td>-0.000548</td>\n",
              "      <td>0</td>\n",
              "      <td>0.000000</td>\n",
              "      <td>-0.000110</td>\n",
              "      <td>...</td>\n",
              "      <td>1</td>\n",
              "      <td>1.093785</td>\n",
              "      <td>1</td>\n",
              "      <td>1.093444</td>\n",
              "      <td>1</td>\n",
              "      <td>1.093140</td>\n",
              "      <td>1</td>\n",
              "      <td>-0.000219</td>\n",
              "      <td>-0.000096</td>\n",
              "      <td>-1</td>\n",
              "    </tr>\n",
              "    <tr>\n",
              "      <th>2023-06-28 02:45:00</th>\n",
              "      <td>1.095170</td>\n",
              "      <td>1.09517</td>\n",
              "      <td>1.094931</td>\n",
              "      <td>1.094931</td>\n",
              "      <td>1.094931</td>\n",
              "      <td>0</td>\n",
              "      <td>-0.000109</td>\n",
              "      <td>0</td>\n",
              "      <td>-0.000548</td>\n",
              "      <td>0.000000</td>\n",
              "      <td>...</td>\n",
              "      <td>1</td>\n",
              "      <td>1.093809</td>\n",
              "      <td>1</td>\n",
              "      <td>1.093479</td>\n",
              "      <td>1</td>\n",
              "      <td>1.093161</td>\n",
              "      <td>1</td>\n",
              "      <td>-0.000175</td>\n",
              "      <td>-0.000137</td>\n",
              "      <td>-1</td>\n",
              "    </tr>\n",
              "    <tr>\n",
              "      <th>2023-06-28 03:00:00</th>\n",
              "      <td>1.095050</td>\n",
              "      <td>1.09505</td>\n",
              "      <td>1.094931</td>\n",
              "      <td>1.094931</td>\n",
              "      <td>1.094931</td>\n",
              "      <td>0</td>\n",
              "      <td>0.000000</td>\n",
              "      <td>0</td>\n",
              "      <td>-0.000109</td>\n",
              "      <td>-0.000548</td>\n",
              "      <td>...</td>\n",
              "      <td>1</td>\n",
              "      <td>1.093833</td>\n",
              "      <td>1</td>\n",
              "      <td>1.093512</td>\n",
              "      <td>1</td>\n",
              "      <td>1.093183</td>\n",
              "      <td>1</td>\n",
              "      <td>-0.000153</td>\n",
              "      <td>-0.000164</td>\n",
              "      <td>1</td>\n",
              "    </tr>\n",
              "    <tr>\n",
              "      <th>2023-06-28 03:15:00</th>\n",
              "      <td>1.094931</td>\n",
              "      <td>1.09505</td>\n",
              "      <td>1.094571</td>\n",
              "      <td>1.094691</td>\n",
              "      <td>1.094691</td>\n",
              "      <td>0</td>\n",
              "      <td>-0.000219</td>\n",
              "      <td>1</td>\n",
              "      <td>0.000000</td>\n",
              "      <td>-0.000109</td>\n",
              "      <td>...</td>\n",
              "      <td>1</td>\n",
              "      <td>1.093856</td>\n",
              "      <td>1</td>\n",
              "      <td>1.093542</td>\n",
              "      <td>1</td>\n",
              "      <td>1.093203</td>\n",
              "      <td>1</td>\n",
              "      <td>-0.000175</td>\n",
              "      <td>-0.000178</td>\n",
              "      <td>1</td>\n",
              "    </tr>\n",
              "  </tbody>\n",
              "</table>\n",
              "<p>5 rows × 236 columns</p>\n",
              "</div>"
            ],
            "text/plain": [
              "                         Open     High       Low     Close  Adj Close  Volume  \\\n",
              "Datetime                                                                        \n",
              "2023-06-28 02:15:00  1.095410  1.09565  1.095290  1.095650   1.095650       0   \n",
              "2023-06-28 02:30:00  1.095530  1.09553  1.095050  1.095050   1.095050       0   \n",
              "2023-06-28 02:45:00  1.095170  1.09517  1.094931  1.094931   1.094931       0   \n",
              "2023-06-28 03:00:00  1.095050  1.09505  1.094931  1.094931   1.094931       0   \n",
              "2023-06-28 03:15:00  1.094931  1.09505  1.094571  1.094691   1.094691       0   \n",
              "\n",
              "                      returns  target      lag1      lag2  ...  SMA_Signal125  \\\n",
              "Datetime                                                   ...                  \n",
              "2023-06-28 02:15:00  0.000000       0 -0.000110 -0.000110  ...              1   \n",
              "2023-06-28 02:30:00 -0.000548       0  0.000000 -0.000110  ...              1   \n",
              "2023-06-28 02:45:00 -0.000109       0 -0.000548  0.000000  ...              1   \n",
              "2023-06-28 03:00:00  0.000000       0 -0.000109 -0.000548  ...              1   \n",
              "2023-06-28 03:15:00 -0.000219       1  0.000000 -0.000109  ...              1   \n",
              "\n",
              "                       SMA145  SMA_Signal145    SMA165  SMA_Signal165  \\\n",
              "Datetime                                                                \n",
              "2023-06-28 02:15:00  1.093762              1  1.093412              1   \n",
              "2023-06-28 02:30:00  1.093785              1  1.093444              1   \n",
              "2023-06-28 02:45:00  1.093809              1  1.093479              1   \n",
              "2023-06-28 03:00:00  1.093833              1  1.093512              1   \n",
              "2023-06-28 03:15:00  1.093856              1  1.093542              1   \n",
              "\n",
              "                       SMA185  SMA_Signal185      fast      slow  \\\n",
              "Datetime                                                           \n",
              "2023-06-28 02:15:00  1.093118              1 -0.000131 -0.000055   \n",
              "2023-06-28 02:30:00  1.093140              1 -0.000219 -0.000096   \n",
              "2023-06-28 02:45:00  1.093161              1 -0.000175 -0.000137   \n",
              "2023-06-28 03:00:00  1.093183              1 -0.000153 -0.000164   \n",
              "2023-06-28 03:15:00  1.093203              1 -0.000175 -0.000178   \n",
              "\n",
              "                     CrossOver_Signal  \n",
              "Datetime                               \n",
              "2023-06-28 02:15:00                -1  \n",
              "2023-06-28 02:30:00                -1  \n",
              "2023-06-28 02:45:00                -1  \n",
              "2023-06-28 03:00:00                 1  \n",
              "2023-06-28 03:15:00                 1  \n",
              "\n",
              "[5 rows x 236 columns]"
            ]
          },
          "execution_count": 5,
          "metadata": {},
          "output_type": "execute_result"
        }
      ],
      "source": [
        "df, cols = preprocessing.get_feature(df_raw)\n",
        "df.head()"
      ]
    },
    {
      "attachments": {},
      "cell_type": "markdown",
      "metadata": {
        "id": "LqK1_lj_WCIc"
      },
      "source": [
        "# Scaling data"
      ]
    },
    {
      "cell_type": "code",
      "execution_count": 6,
      "metadata": {
        "id": "m8F7LMzvpSOf"
      },
      "outputs": [],
      "source": [
        "#standardizing the data\n",
        "X = preprocessing.get_data_scaled(df, cols)"
      ]
    },
    {
      "attachments": {},
      "cell_type": "markdown",
      "metadata": {
        "id": "hET9IW8M2nMO"
      },
      "source": [
        "# Split data"
      ]
    },
    {
      "cell_type": "code",
      "execution_count": 7,
      "metadata": {
        "id": "fnoZe7lSe9HP"
      },
      "outputs": [],
      "source": [
        "X_train, X_test, y_train, y_test = train_test_split(X,df.target) #splitting dataset into 2 halves"
      ]
    },
    {
      "attachments": {},
      "cell_type": "markdown",
      "metadata": {
        "id": "Sa5Fexm9qlvq"
      },
      "source": [
        "# Build Model"
      ]
    },
    {
      "cell_type": "code",
      "execution_count": 8,
      "metadata": {
        "colab": {
          "base_uri": "https://localhost:8080/",
          "height": 0
        },
        "id": "cbeeWVQv1Du3",
        "outputId": "9ce5fb2c-aa0a-49a7-c180-e0f2862695a3"
      },
      "outputs": [
        {
          "name": "stdout",
          "output_type": "stream",
          "text": [
            "Model: \"sequential\"\n",
            "_________________________________________________________________\n",
            " Layer (type)                Output Shape              Param #   \n",
            "=================================================================\n",
            " dense (Dense)               (None, 1368)              313272    \n",
            "                                                                 \n",
            " dense_1 (Dense)             (None, 2052)              2809188   \n",
            "                                                                 \n",
            " dense_2 (Dense)             (None, 2736)              5617008   \n",
            "                                                                 \n",
            " dense_3 (Dense)             (None, 228)               624036    \n",
            "                                                                 \n",
            " dense_4 (Dense)             (None, 114)               26106     \n",
            "                                                                 \n",
            " dense_5 (Dense)             (None, 76)                8740      \n",
            "                                                                 \n",
            " dense_6 (Dense)             (None, 57)                4389      \n",
            "                                                                 \n",
            " dense_7 (Dense)             (None, 45)                2610      \n",
            "                                                                 \n",
            " dense_8 (Dense)             (None, 38)                1748      \n",
            "                                                                 \n",
            " dense_9 (Dense)             (None, 228)               8892      \n",
            "                                                                 \n",
            " dense_10 (Dense)            (None, 1)                 229       \n",
            "                                                                 \n",
            " dense_11 (Dense)            (None, 1)                 2         \n",
            "                                                                 \n",
            "=================================================================\n",
            "Total params: 9,416,220\n",
            "Trainable params: 9,416,220\n",
            "Non-trainable params: 0\n",
            "_________________________________________________________________\n",
            "None\n"
          ]
        }
      ],
      "source": [
        "model = models.create_model_1(cols=cols)\n",
        "model_history = model.fit(x = X_train, y = y_train, epochs = 10, verbose = False, validation_split = 0.2, shuffle = False)"
      ]
    },
    {
      "cell_type": "code",
      "execution_count": 9,
      "metadata": {},
      "outputs": [
        {
          "name": "stdout",
          "output_type": "stream",
          "text": [
            "41/41 [==============================] - 1s 16ms/step - loss: 0.7398 - acc: 0.4018 - mse: 0.2724\n",
            "Loss is 0.7398416996002197,\n",
            "Accuracy is 40.184757113456726,\n",
            "MSE is 0.2723645269870758\n"
          ]
        }
      ],
      "source": [
        "loss1, acc1, mse1 = model.evaluate(X_train, y_train)\n",
        "print(f\"Loss is {loss1},\\nAccuracy is {acc1*100},\\nMSE is {mse1}\")"
      ]
    },
    {
      "cell_type": "code",
      "execution_count": 10,
      "metadata": {},
      "outputs": [
        {
          "name": "stdout",
          "output_type": "stream",
          "text": [
            "14/14 [==============================] - 0s 15ms/step - loss: 0.7213 - acc: 0.4309 - mse: 0.2637\n",
            "Loss is 0.7212954163551331,\n",
            "Accuracy is 43.08755695819855,\n",
            "MSE is 0.2637069523334503\n"
          ]
        }
      ],
      "source": [
        "loss1, acc1, mse1 = model.evaluate(X_test, y_test)\n",
        "print(f\"Loss is {loss1},\\nAccuracy is {acc1*100},\\nMSE is {mse1}\")"
      ]
    },
    {
      "cell_type": "code",
      "execution_count": 11,
      "metadata": {},
      "outputs": [
        {
          "data": {
            "image/png": "[encoded data removed]",
            "text/plain": [
              "<Figure size 640x480 with 1 Axes>"
            ]
          },
          "metadata": {},
          "output_type": "display_data"
        },
        {
          "data": {
            "image/png": "[encoded data removed]",
            "text/plain": [
              "<Figure size 640x480 with 1 Axes>"
            ]
          },
          "metadata": {},
          "output_type": "display_data"
        }
      ],
      "source": [
        "plt.style.use('ggplot')\n",
        "plt.plot(model_history.history['loss'], label = 'loss')\n",
        "plt.plot(model_history.history['val_loss'], label='val loss')\n",
        "plt.title(\"Loss vs Val_Loss\")\n",
        "plt.xlabel(\"Epochs\")\n",
        "plt.ylabel(\"Loss\")\n",
        "plt.legend()\n",
        "plt.show()\n",
        "\n",
        "\n",
        "plt.plot(model_history.history['acc'], label = 'acc')\n",
        "plt.plot(model_history.history['val_acc'], label='val acc')\n",
        "plt.title(\"acc vs Val_acc\")\n",
        "plt.xlabel(\"Epochs\")\n",
        "plt.ylabel(\"acc\")\n",
        "plt.legend()\n",
        "plt.show()"
      ]
    },
    {
      "cell_type": "code",
      "execution_count": 13,
      "metadata": {},
      "outputs": [
        {
          "name": "stdout",
          "output_type": "stream",
          "text": [
            "Model: \"sequential_1\"\n",
            "_________________________________________________________________\n",
            " Layer (type)                Output Shape              Param #   \n",
            "=================================================================\n",
            " dense_12 (Dense)            (None, 1368)              313272    \n",
            "                                                                 \n",
            " dense_13 (Dense)            (None, 2052)              2809188   \n",
            "                                                                 \n",
            " dense_14 (Dense)            (None, 2736)              5617008   \n",
            "                                                                 \n",
            " dense_15 (Dense)            (None, 228)               624036    \n",
            "                                                                 \n",
            " dense_16 (Dense)            (None, 114)               26106     \n",
            "                                                                 \n",
            " dense_17 (Dense)            (None, 76)                8740      \n",
            "                                                                 \n",
            " dense_18 (Dense)            (None, 57)                4389      \n",
            "                                                                 \n",
            " dense_19 (Dense)            (None, 45)                2610      \n",
            "                                                                 \n",
            " dense_20 (Dense)            (None, 38)                1748      \n",
            "                                                                 \n",
            " dense_21 (Dense)            (None, 228)               8892      \n",
            "                                                                 \n",
            " dense_22 (Dense)            (None, 1)                 229       \n",
            "                                                                 \n",
            " dense_23 (Dense)            (None, 1)                 2         \n",
            "                                                                 \n",
            "=================================================================\n",
            "Total params: 9,416,220\n",
            "Trainable params: 9,416,220\n",
            "Non-trainable params: 0\n",
            "_________________________________________________________________\n",
            "None\n"
          ]
        }
      ],
      "source": [
        "model_1 = models.create_model_1(cols=cols)\n",
        "model_history_1 = model_1.fit(x = X_train, y = y_train, epochs = 10, verbose = False, validation_split = 0.2, shuffle = False)"
      ]
    },
    {
      "cell_type": "code",
      "execution_count": 14,
      "metadata": {
        "id": "1U5vs6Fo1Djw"
      },
      "outputs": [
        {
          "name": "stdout",
          "output_type": "stream",
          "text": [
            "41/41 [==============================] - 1s 22ms/step - loss: 0.6789 - acc: 0.6128 - mse: 0.2429\n",
            "Loss is 0.6789401769638062,\n",
            "Accuracy is 61.27790808677673,\n",
            "MSE is 0.24292844533920288\n"
          ]
        }
      ],
      "source": [
        "loss1_1, acc1_1, mse1_1 = model_1.evaluate(X_train, y_train)\n",
        "print(f\"Loss is {loss1_1},\\nAccuracy is {acc1_1*100},\\nMSE is {mse1_1}\")"
      ]
    },
    {
      "cell_type": "code",
      "execution_count": 15,
      "metadata": {},
      "outputs": [
        {
          "name": "stdout",
          "output_type": "stream",
          "text": [
            "14/14 [==============================] - 0s 27ms/step - loss: 0.7213 - acc: 0.4309 - mse: 0.2637\n",
            "Loss is 0.7212954163551331,\n",
            "Accuracy is 43.08755695819855,\n",
            "MSE is 0.2637069523334503\n"
          ]
        }
      ],
      "source": [
        "loss1_1, acc1_1, mse1_1 = model.evaluate(X_test, y_test)\n",
        "print(f\"Loss is {loss1_1},\\nAccuracy is {acc1_1*100},\\nMSE is {mse1_1}\")"
      ]
    },
    {
      "attachments": {},
      "cell_type": "markdown",
      "metadata": {
        "id": "priu1os9A-tZ"
      },
      "source": [
        "# Neural Network Optimization"
      ]
    },
    {
      "attachments": {},
      "cell_type": "markdown",
      "metadata": {
        "id": "ifVrxplhIzGR"
      },
      "source": [
        "## Added an extra parameter kernel_regularizer, which we set it to ‘l1’ for L1 Regularization."
      ]
    },
    {
      "cell_type": "code",
      "execution_count": null,
      "metadata": {
        "colab": {
          "base_uri": "https://localhost:8080/",
          "height": 0
        },
        "id": "FBsmna04IsqT",
        "outputId": "7b12af67-96cc-4ff9-bf11-e534ee4e2448"
      },
      "outputs": [
        {
          "name": "stdout",
          "output_type": "stream",
          "text": [
            "Model: \"sequential_1\"\n",
            "_________________________________________________________________\n",
            " Layer (type)                Output Shape              Param #   \n",
            "=================================================================\n",
            " dense_12 (Dense)            (None, 1368)              313272    \n",
            "                                                                 \n",
            " dense_13 (Dense)            (None, 2052)              2809188   \n",
            "                                                                 \n",
            " dense_14 (Dense)            (None, 2736)              5617008   \n",
            "                                                                 \n",
            " dense_15 (Dense)            (None, 228)               624036    \n",
            "                                                                 \n",
            " dense_16 (Dense)            (None, 114)               26106     \n",
            "                                                                 \n",
            " dense_17 (Dense)            (None, 76)                8740      \n",
            "                                                                 \n",
            " dense_18 (Dense)            (None, 57)                4389      \n",
            "                                                                 \n",
            " dense_19 (Dense)            (None, 45)                2610      \n",
            "                                                                 \n",
            " dense_20 (Dense)            (None, 38)                1748      \n",
            "                                                                 \n",
            " dense_21 (Dense)            (None, 228)               8892      \n",
            "                                                                 \n",
            " dense_22 (Dense)            (None, 1)                 229       \n",
            "                                                                 \n",
            " dense_23 (Dense)            (None, 1)                 2         \n",
            "                                                                 \n",
            "=================================================================\n",
            "Total params: 9,416,220\n",
            "Trainable params: 9,416,220\n",
            "Non-trainable params: 0\n",
            "_________________________________________________________________\n",
            "None\n",
            "44/44 [==============================] - 1s 28ms/step - loss: 1.0553 - acc: 0.5704 - mse: 0.2450\n",
            "15/15 [==============================] - 0s 25ms/step - loss: 1.0550 - acc: 0.5714 - mse: 0.2449\n",
            "Loss is 1.055035948753357,\n",
            "Accuracy is 57.14285969734192,\n",
            "MSE is 0.24489879608154297\n"
          ]
        },
        {
          "data": {
            "image/png": "[encoded data removed]",
            "text/plain": [
              "<Figure size 640x480 with 1 Axes>"
            ]
          },
          "metadata": {},
          "output_type": "display_data"
        },
        {
          "data": {
            "image/png": "[encoded data removed]",
            "text/plain": [
              "<Figure size 640x480 with 1 Axes>"
            ]
          },
          "metadata": {},
          "output_type": "display_data"
        }
      ],
      "source": [
        "\n",
        "def create_model_2():\n",
        "    optimizer = Adam(learning_rate=0.001)\n",
        "    model = Sequential([\n",
        "      Dense(len(cols) * 6, activation=\"relu\", input_shape=(len(cols),), kernel_regularizer='l1'),\n",
        "\n",
        "      Dense(len(cols) * 9, activation=\"relu\"),\n",
        "\n",
        "      Dense(len(cols) * 12, activation=\"relu\"),\n",
        "\n",
        "      Dense(len(cols), activation=\"relu\"),\n",
        "\n",
        "      Dense(int(len(cols) / 2), activation=\"relu\"),\n",
        "\n",
        "      Dense(int(len(cols) / 3), activation=\"relu\"),\n",
        "\n",
        "      Dense(int(len(cols) / 4), activation=\"relu\"),\n",
        "\n",
        "      Dense(int(len(cols) / 5), activation=\"relu\"),\n",
        "\n",
        "      Dense(int(len(cols) / 6), activation=\"relu\"),\n",
        "\n",
        "      Dense(len(cols), activation=\"relu\"),\n",
        "    Dense(1)\n",
        "    ])\n",
        "\n",
        "    model.add(Dense(1, use_bias=True, activation = \"sigmoid\"))\n",
        "\n",
        "    print(model.summary())\n",
        "\n",
        "    model.compile(optimizer=optimizer,loss='binary_crossentropy', metrics=['acc', 'mse'])\n",
        "    return model\n",
        "\n",
        "\n",
        "\n",
        "\n",
        "set_seeds(100)\n",
        "model = create_model_2()\n",
        "model_history = model.fit(x = X_train , y = y_train, epochs = 10, verbose = False, validation_split = 0.2, shuffle = False)\n",
        "model.evaluate(X_train, y_train) # evaluate the fit on the train set\n",
        "\n",
        "loss1, acc1, mse1 = model.evaluate(X_test, y_test)\n",
        "print(f\"Loss is {loss1},\\nAccuracy is {acc1*100},\\nMSE is {mse1}\")\n",
        "\n",
        "plt.style.use('ggplot')\n",
        "plt.plot(model_history.history['loss'], label = 'loss')\n",
        "plt.plot(model_history.history['val_loss'], label='val loss')\n",
        "plt.title(\"Loss vs Val_Loss\")\n",
        "plt.xlabel(\"Epochs\")\n",
        "plt.ylabel(\"Loss\")\n",
        "plt.legend()\n",
        "plt.show()\n",
        "\n",
        "\n",
        "plt.plot(model_history.history['acc'], label = 'acc')\n",
        "plt.plot(model_history.history['val_acc'], label='val acc')\n",
        "plt.title(\"acc vs Val_acc\")\n",
        "plt.xlabel(\"Epochs\")\n",
        "plt.ylabel(\"acc\")\n",
        "plt.legend()\n",
        "plt.show()"
      ]
    },
    {
      "cell_type": "code",
      "execution_count": null,
      "metadata": {
        "id": "wwsGhLQDIsnY"
      },
      "outputs": [],
      "source": []
    },
    {
      "cell_type": "code",
      "execution_count": null,
      "metadata": {
        "id": "e3i6M6VgIsT3"
      },
      "outputs": [],
      "source": []
    },
    {
      "attachments": {},
      "cell_type": "markdown",
      "metadata": {
        "id": "50jshZQZGQ3a"
      },
      "source": [
        "## Neural Networks with Feature Selection (Correlation Heatmap/PCA)"
      ]
    },
    {
      "attachments": {},
      "cell_type": "markdown",
      "metadata": {
        "id": "9sM0wTJQG5Tc"
      },
      "source": [
        "## Reduse feature"
      ]
    },
    {
      "cell_type": "code",
      "execution_count": null,
      "metadata": {
        "id": "bG-UftGxMlLJ"
      },
      "outputs": [],
      "source": []
    },
    {
      "cell_type": "code",
      "execution_count": null,
      "metadata": {
        "colab": {
          "base_uri": "https://localhost:8080/",
          "height": 0
        },
        "id": "D7kVOswdI9be",
        "outputId": "563156a2-4c10-4976-8706-a7a1abe34ab7"
      },
      "outputs": [],
      "source": [
        "#df[cols].style.background_gradient(cmap ='viridis').set_properties(**{'font-size': '10px'})"
      ]
    },
    {
      "cell_type": "code",
      "execution_count": null,
      "metadata": {
        "colab": {
          "base_uri": "https://localhost:8080/",
          "height": 0
        },
        "id": "rnVJDE_BE8V-",
        "outputId": "a2b60b03-4886-450f-fec1-fde675e29ed5"
      },
      "outputs": [],
      "source": [
        "#df[cols].style.background_gradient(cmap ='viridis').set_properties(**{'font-size': '10px'})"
      ]
    },
    {
      "cell_type": "code",
      "execution_count": null,
      "metadata": {
        "colab": {
          "base_uri": "https://localhost:8080/",
          "height": 0
        },
        "id": "3fLGafXq36Ke",
        "outputId": "20203bc7-5610-45c2-c98d-4073f1bf3f51"
      },
      "outputs": [
        {
          "data": {
            "text/html": [
              "<div>\n",
              "<style scoped>\n",
              "    .dataframe tbody tr th:only-of-type {\n",
              "        vertical-align: middle;\n",
              "    }\n",
              "\n",
              "    .dataframe tbody tr th {\n",
              "        vertical-align: top;\n",
              "    }\n",
              "\n",
              "    .dataframe thead th {\n",
              "        text-align: right;\n",
              "    }\n",
              "</style>\n",
              "<table border=\"1\" class=\"dataframe\">\n",
              "  <thead>\n",
              "    <tr style=\"text-align: right;\">\n",
              "      <th></th>\n",
              "      <th>Open</th>\n",
              "      <th>High</th>\n",
              "      <th>Low</th>\n",
              "      <th>Close</th>\n",
              "      <th>Adj Close</th>\n",
              "      <th>Volume</th>\n",
              "      <th>returns</th>\n",
              "      <th>target</th>\n",
              "      <th>lag1</th>\n",
              "      <th>lag2</th>\n",
              "      <th>...</th>\n",
              "      <th>SMA_Signal125</th>\n",
              "      <th>SMA145</th>\n",
              "      <th>SMA_Signal145</th>\n",
              "      <th>SMA165</th>\n",
              "      <th>SMA_Signal165</th>\n",
              "      <th>SMA185</th>\n",
              "      <th>SMA_Signal185</th>\n",
              "      <th>fast</th>\n",
              "      <th>slow</th>\n",
              "      <th>CrossOver_Signal</th>\n",
              "    </tr>\n",
              "  </thead>\n",
              "  <tbody>\n",
              "    <tr>\n",
              "      <th>Open</th>\n",
              "      <td>1.000000</td>\n",
              "      <td>0.997939</td>\n",
              "      <td>0.998101</td>\n",
              "      <td>0.996043</td>\n",
              "      <td>0.996043</td>\n",
              "      <td>NaN</td>\n",
              "      <td>-0.044335</td>\n",
              "      <td>-0.038396</td>\n",
              "      <td>0.035533</td>\n",
              "      <td>0.040809</td>\n",
              "      <td>...</td>\n",
              "      <td>0.319514</td>\n",
              "      <td>0.718433</td>\n",
              "      <td>0.289863</td>\n",
              "      <td>0.674805</td>\n",
              "      <td>0.290595</td>\n",
              "      <td>0.632812</td>\n",
              "      <td>0.301198</td>\n",
              "      <td>0.047533</td>\n",
              "      <td>0.084328</td>\n",
              "      <td>-0.021010</td>\n",
              "    </tr>\n",
              "    <tr>\n",
              "      <th>High</th>\n",
              "      <td>0.997939</td>\n",
              "      <td>1.000000</td>\n",
              "      <td>0.997147</td>\n",
              "      <td>0.998145</td>\n",
              "      <td>0.998145</td>\n",
              "      <td>NaN</td>\n",
              "      <td>-0.002141</td>\n",
              "      <td>-0.036596</td>\n",
              "      <td>0.037871</td>\n",
              "      <td>0.039131</td>\n",
              "      <td>...</td>\n",
              "      <td>0.329813</td>\n",
              "      <td>0.715108</td>\n",
              "      <td>0.298195</td>\n",
              "      <td>0.671461</td>\n",
              "      <td>0.297727</td>\n",
              "      <td>0.629479</td>\n",
              "      <td>0.308066</td>\n",
              "      <td>0.067115</td>\n",
              "      <td>0.099544</td>\n",
              "      <td>-0.012893</td>\n",
              "    </tr>\n",
              "    <tr>\n",
              "      <th>Low</th>\n",
              "      <td>0.998101</td>\n",
              "      <td>0.997147</td>\n",
              "      <td>1.000000</td>\n",
              "      <td>0.998078</td>\n",
              "      <td>0.998078</td>\n",
              "      <td>NaN</td>\n",
              "      <td>-0.001992</td>\n",
              "      <td>-0.040771</td>\n",
              "      <td>0.039623</td>\n",
              "      <td>0.040594</td>\n",
              "      <td>...</td>\n",
              "      <td>0.322596</td>\n",
              "      <td>0.716620</td>\n",
              "      <td>0.292662</td>\n",
              "      <td>0.672964</td>\n",
              "      <td>0.293568</td>\n",
              "      <td>0.631067</td>\n",
              "      <td>0.303975</td>\n",
              "      <td>0.067183</td>\n",
              "      <td>0.100151</td>\n",
              "      <td>-0.013151</td>\n",
              "    </tr>\n",
              "    <tr>\n",
              "      <th>Close</th>\n",
              "      <td>0.996043</td>\n",
              "      <td>0.998145</td>\n",
              "      <td>0.998078</td>\n",
              "      <td>1.000000</td>\n",
              "      <td>1.000000</td>\n",
              "      <td>NaN</td>\n",
              "      <td>0.036324</td>\n",
              "      <td>-0.039797</td>\n",
              "      <td>0.041574</td>\n",
              "      <td>0.042120</td>\n",
              "      <td>...</td>\n",
              "      <td>0.332873</td>\n",
              "      <td>0.712463</td>\n",
              "      <td>0.301028</td>\n",
              "      <td>0.668808</td>\n",
              "      <td>0.300503</td>\n",
              "      <td>0.626951</td>\n",
              "      <td>0.311232</td>\n",
              "      <td>0.086698</td>\n",
              "      <td>0.116996</td>\n",
              "      <td>-0.007210</td>\n",
              "    </tr>\n",
              "    <tr>\n",
              "      <th>Adj Close</th>\n",
              "      <td>0.996043</td>\n",
              "      <td>0.998145</td>\n",
              "      <td>0.998078</td>\n",
              "      <td>1.000000</td>\n",
              "      <td>1.000000</td>\n",
              "      <td>NaN</td>\n",
              "      <td>0.036324</td>\n",
              "      <td>-0.039797</td>\n",
              "      <td>0.041574</td>\n",
              "      <td>0.042120</td>\n",
              "      <td>...</td>\n",
              "      <td>0.332873</td>\n",
              "      <td>0.712463</td>\n",
              "      <td>0.301028</td>\n",
              "      <td>0.668808</td>\n",
              "      <td>0.300503</td>\n",
              "      <td>0.626951</td>\n",
              "      <td>0.311232</td>\n",
              "      <td>0.086698</td>\n",
              "      <td>0.116996</td>\n",
              "      <td>-0.007210</td>\n",
              "    </tr>\n",
              "    <tr>\n",
              "      <th>...</th>\n",
              "      <td>...</td>\n",
              "      <td>...</td>\n",
              "      <td>...</td>\n",
              "      <td>...</td>\n",
              "      <td>...</td>\n",
              "      <td>...</td>\n",
              "      <td>...</td>\n",
              "      <td>...</td>\n",
              "      <td>...</td>\n",
              "      <td>...</td>\n",
              "      <td>...</td>\n",
              "      <td>...</td>\n",
              "      <td>...</td>\n",
              "      <td>...</td>\n",
              "      <td>...</td>\n",
              "      <td>...</td>\n",
              "      <td>...</td>\n",
              "      <td>...</td>\n",
              "      <td>...</td>\n",
              "      <td>...</td>\n",
              "      <td>...</td>\n",
              "    </tr>\n",
              "    <tr>\n",
              "      <th>SMA185</th>\n",
              "      <td>0.632812</td>\n",
              "      <td>0.629479</td>\n",
              "      <td>0.631067</td>\n",
              "      <td>0.626951</td>\n",
              "      <td>0.626951</td>\n",
              "      <td>NaN</td>\n",
              "      <td>-0.075313</td>\n",
              "      <td>-0.046212</td>\n",
              "      <td>-0.073525</td>\n",
              "      <td>-0.071996</td>\n",
              "      <td>...</td>\n",
              "      <td>-0.307552</td>\n",
              "      <td>0.980932</td>\n",
              "      <td>-0.361372</td>\n",
              "      <td>0.995169</td>\n",
              "      <td>-0.372527</td>\n",
              "      <td>1.000000</td>\n",
              "      <td>-0.366013</td>\n",
              "      <td>-0.159514</td>\n",
              "      <td>-0.191463</td>\n",
              "      <td>0.011841</td>\n",
              "    </tr>\n",
              "    <tr>\n",
              "      <th>SMA_Signal185</th>\n",
              "      <td>0.301198</td>\n",
              "      <td>0.308066</td>\n",
              "      <td>0.303975</td>\n",
              "      <td>0.311232</td>\n",
              "      <td>0.311232</td>\n",
              "      <td>NaN</td>\n",
              "      <td>0.112125</td>\n",
              "      <td>-0.006539</td>\n",
              "      <td>0.086812</td>\n",
              "      <td>0.101664</td>\n",
              "      <td>...</td>\n",
              "      <td>0.796341</td>\n",
              "      <td>-0.259516</td>\n",
              "      <td>0.871040</td>\n",
              "      <td>-0.318124</td>\n",
              "      <td>0.936998</td>\n",
              "      <td>-0.366013</td>\n",
              "      <td>1.000000</td>\n",
              "      <td>0.212895</td>\n",
              "      <td>0.261133</td>\n",
              "      <td>-0.015483</td>\n",
              "    </tr>\n",
              "    <tr>\n",
              "      <th>fast</th>\n",
              "      <td>0.047533</td>\n",
              "      <td>0.067115</td>\n",
              "      <td>0.067183</td>\n",
              "      <td>0.086698</td>\n",
              "      <td>0.086698</td>\n",
              "      <td>NaN</td>\n",
              "      <td>0.455093</td>\n",
              "      <td>0.028303</td>\n",
              "      <td>0.450563</td>\n",
              "      <td>0.472324</td>\n",
              "      <td>...</td>\n",
              "      <td>0.266568</td>\n",
              "      <td>-0.159629</td>\n",
              "      <td>0.247680</td>\n",
              "      <td>-0.161891</td>\n",
              "      <td>0.218684</td>\n",
              "      <td>-0.159514</td>\n",
              "      <td>0.212895</td>\n",
              "      <td>1.000000</td>\n",
              "      <td>0.801621</td>\n",
              "      <td>0.406699</td>\n",
              "    </tr>\n",
              "    <tr>\n",
              "      <th>slow</th>\n",
              "      <td>0.084328</td>\n",
              "      <td>0.099544</td>\n",
              "      <td>0.100151</td>\n",
              "      <td>0.116996</td>\n",
              "      <td>0.116996</td>\n",
              "      <td>NaN</td>\n",
              "      <td>0.382387</td>\n",
              "      <td>0.033876</td>\n",
              "      <td>0.380155</td>\n",
              "      <td>0.377097</td>\n",
              "      <td>...</td>\n",
              "      <td>0.322634</td>\n",
              "      <td>-0.190171</td>\n",
              "      <td>0.290999</td>\n",
              "      <td>-0.193755</td>\n",
              "      <td>0.264865</td>\n",
              "      <td>-0.191463</td>\n",
              "      <td>0.261133</td>\n",
              "      <td>0.801621</td>\n",
              "      <td>1.000000</td>\n",
              "      <td>0.005477</td>\n",
              "    </tr>\n",
              "    <tr>\n",
              "      <th>CrossOver_Signal</th>\n",
              "      <td>-0.021010</td>\n",
              "      <td>-0.012893</td>\n",
              "      <td>-0.013151</td>\n",
              "      <td>-0.007210</td>\n",
              "      <td>-0.007210</td>\n",
              "      <td>NaN</td>\n",
              "      <td>0.158530</td>\n",
              "      <td>-0.022790</td>\n",
              "      <td>0.185033</td>\n",
              "      <td>0.185772</td>\n",
              "      <td>...</td>\n",
              "      <td>-0.003080</td>\n",
              "      <td>0.004442</td>\n",
              "      <td>0.002858</td>\n",
              "      <td>0.008411</td>\n",
              "      <td>-0.016291</td>\n",
              "      <td>0.011841</td>\n",
              "      <td>-0.015483</td>\n",
              "      <td>0.406699</td>\n",
              "      <td>0.005477</td>\n",
              "      <td>1.000000</td>\n",
              "    </tr>\n",
              "  </tbody>\n",
              "</table>\n",
              "<p>236 rows × 236 columns</p>\n",
              "</div>"
            ],
            "text/plain": [
              "                      Open      High       Low     Close  Adj Close  Volume  \\\n",
              "Open              1.000000  0.997939  0.998101  0.996043   0.996043     NaN   \n",
              "High              0.997939  1.000000  0.997147  0.998145   0.998145     NaN   \n",
              "Low               0.998101  0.997147  1.000000  0.998078   0.998078     NaN   \n",
              "Close             0.996043  0.998145  0.998078  1.000000   1.000000     NaN   \n",
              "Adj Close         0.996043  0.998145  0.998078  1.000000   1.000000     NaN   \n",
              "...                    ...       ...       ...       ...        ...     ...   \n",
              "SMA185            0.632812  0.629479  0.631067  0.626951   0.626951     NaN   \n",
              "SMA_Signal185     0.301198  0.308066  0.303975  0.311232   0.311232     NaN   \n",
              "fast              0.047533  0.067115  0.067183  0.086698   0.086698     NaN   \n",
              "slow              0.084328  0.099544  0.100151  0.116996   0.116996     NaN   \n",
              "CrossOver_Signal -0.021010 -0.012893 -0.013151 -0.007210  -0.007210     NaN   \n",
              "\n",
              "                   returns    target      lag1      lag2  ...  SMA_Signal125  \\\n",
              "Open             -0.044335 -0.038396  0.035533  0.040809  ...       0.319514   \n",
              "High             -0.002141 -0.036596  0.037871  0.039131  ...       0.329813   \n",
              "Low              -0.001992 -0.040771  0.039623  0.040594  ...       0.322596   \n",
              "Close             0.036324 -0.039797  0.041574  0.042120  ...       0.332873   \n",
              "Adj Close         0.036324 -0.039797  0.041574  0.042120  ...       0.332873   \n",
              "...                    ...       ...       ...       ...  ...            ...   \n",
              "SMA185           -0.075313 -0.046212 -0.073525 -0.071996  ...      -0.307552   \n",
              "SMA_Signal185     0.112125 -0.006539  0.086812  0.101664  ...       0.796341   \n",
              "fast              0.455093  0.028303  0.450563  0.472324  ...       0.266568   \n",
              "slow              0.382387  0.033876  0.380155  0.377097  ...       0.322634   \n",
              "CrossOver_Signal  0.158530 -0.022790  0.185033  0.185772  ...      -0.003080   \n",
              "\n",
              "                    SMA145  SMA_Signal145    SMA165  SMA_Signal165    SMA185  \\\n",
              "Open              0.718433       0.289863  0.674805       0.290595  0.632812   \n",
              "High              0.715108       0.298195  0.671461       0.297727  0.629479   \n",
              "Low               0.716620       0.292662  0.672964       0.293568  0.631067   \n",
              "Close             0.712463       0.301028  0.668808       0.300503  0.626951   \n",
              "Adj Close         0.712463       0.301028  0.668808       0.300503  0.626951   \n",
              "...                    ...            ...       ...            ...       ...   \n",
              "SMA185            0.980932      -0.361372  0.995169      -0.372527  1.000000   \n",
              "SMA_Signal185    -0.259516       0.871040 -0.318124       0.936998 -0.366013   \n",
              "fast             -0.159629       0.247680 -0.161891       0.218684 -0.159514   \n",
              "slow             -0.190171       0.290999 -0.193755       0.264865 -0.191463   \n",
              "CrossOver_Signal  0.004442       0.002858  0.008411      -0.016291  0.011841   \n",
              "\n",
              "                  SMA_Signal185      fast      slow  CrossOver_Signal  \n",
              "Open                   0.301198  0.047533  0.084328         -0.021010  \n",
              "High                   0.308066  0.067115  0.099544         -0.012893  \n",
              "Low                    0.303975  0.067183  0.100151         -0.013151  \n",
              "Close                  0.311232  0.086698  0.116996         -0.007210  \n",
              "Adj Close              0.311232  0.086698  0.116996         -0.007210  \n",
              "...                         ...       ...       ...               ...  \n",
              "SMA185                -0.366013 -0.159514 -0.191463          0.011841  \n",
              "SMA_Signal185          1.000000  0.212895  0.261133         -0.015483  \n",
              "fast                   0.212895  1.000000  0.801621          0.406699  \n",
              "slow                   0.261133  0.801621  1.000000          0.005477  \n",
              "CrossOver_Signal      -0.015483  0.406699  0.005477          1.000000  \n",
              "\n",
              "[236 rows x 236 columns]"
            ]
          },
          "execution_count": 14,
          "metadata": {},
          "output_type": "execute_result"
        }
      ],
      "source": [
        "df.corr()"
      ]
    },
    {
      "attachments": {},
      "cell_type": "markdown",
      "metadata": {
        "id": "KXUFPrMLDJgC"
      },
      "source": [
        "## Neural Networks with Regularization (DropOut and L1/L2)"
      ]
    },
    {
      "cell_type": "code",
      "execution_count": null,
      "metadata": {
        "colab": {
          "base_uri": "https://localhost:8080/",
          "height": 1000
        },
        "id": "zcADwPbGIBSm",
        "outputId": "70dd9a0d-31e1-4e7a-bea8-0ed551520071"
      },
      "outputs": [
        {
          "name": "stdout",
          "output_type": "stream",
          "text": [
            "Model: \"sequential_11\"\n",
            "_________________________________________________________________\n",
            " Layer (type)                Output Shape              Param #   \n",
            "=================================================================\n",
            " dense_155 (Dense)           (None, 1368)              313272    \n",
            "                                                                 \n",
            " dense_156 (Dense)           (None, 2052)              2809188   \n",
            "                                                                 \n",
            " dense_157 (Dense)           (None, 2736)              5617008   \n",
            "                                                                 \n",
            " dense_158 (Dense)           (None, 228)               624036    \n",
            "                                                                 \n",
            " dense_159 (Dense)           (None, 114)               26106     \n",
            "                                                                 \n",
            " dense_160 (Dense)           (None, 76)                8740      \n",
            "                                                                 \n",
            " dense_161 (Dense)           (None, 57)                4389      \n",
            "                                                                 \n",
            " dense_162 (Dense)           (None, 45)                2610      \n",
            "                                                                 \n",
            " dense_163 (Dense)           (None, 38)                1748      \n",
            "                                                                 \n",
            " dense_164 (Dense)           (None, 228)               8892      \n",
            "                                                                 \n",
            " dense_165 (Dense)           (None, 1)                 229       \n",
            "                                                                 \n",
            " dense_166 (Dense)           (None, 1)                 2         \n",
            "                                                                 \n",
            "=================================================================\n",
            "Total params: 9,416,220\n",
            "Trainable params: 9,416,220\n",
            "Non-trainable params: 0\n",
            "_________________________________________________________________\n",
            "None\n",
            "44/44 [==============================] - 1s 28ms/step - loss: 12.5423 - acc: 0.5704 - mse: 0.2451\n",
            "44/44 [==============================] - 2s 37ms/step - loss: 12.5423 - acc: 0.5704 - mse: 0.2451\n",
            "Loss is 12.54232406616211,\n",
            "Accuracy is 57.039713859558105,\n",
            "MSE is 0.2450549602508545\n"
          ]
        },
        {
          "data": {
            "image/png": "[encoded data removed]",
            "text/plain": [
              "<Figure size 640x480 with 1 Axes>"
            ]
          },
          "metadata": {},
          "output_type": "display_data"
        },
        {
          "data": {
            "image/png": "[encoded data removed]",
            "text/plain": [
              "<Figure size 640x480 with 1 Axes>"
            ]
          },
          "metadata": {},
          "output_type": "display_data"
        }
      ],
      "source": [
        "\n",
        "def create_model_2():\n",
        "    optimizer = Adam(learning_rate=0.001)\n",
        "    model = Sequential([\n",
        "      Dense(len(cols) * 6, activation=\"relu\", input_shape=(len(cols),), kernel_regularizer='l1'),\n",
        "\n",
        "      Dense(len(cols) * 9, activation=\"relu\", kernel_regularizer='l1'),\n",
        "\n",
        "      Dense(len(cols) * 12, activation=\"relu\", kernel_regularizer='l1'),\n",
        "\n",
        "      Dense(len(cols), activation=\"relu\", kernel_regularizer='l1'),\n",
        "\n",
        "      Dense(int(len(cols) / 2), activation=\"relu\", kernel_regularizer='l1'),\n",
        "\n",
        "      Dense(int(len(cols) / 3), activation=\"relu\", kernel_regularizer='l1'),\n",
        "\n",
        "      Dense(int(len(cols) / 4), activation=\"relu\", kernel_regularizer='l1'),\n",
        "\n",
        "      Dense(int(len(cols) / 5), activation=\"relu\", kernel_regularizer='l1'),\n",
        "\n",
        "      Dense(int(len(cols) / 6), activation=\"relu\", kernel_regularizer='l1'),\n",
        "\n",
        "      Dense(len(cols), activation=\"relu\", kernel_regularizer='l1'),\n",
        "    Dense(1)\n",
        "    ])\n",
        "\n",
        "    model.add(Dense(1, use_bias=True, activation = \"sigmoid\"))\n",
        "\n",
        "    print(model.summary())\n",
        "\n",
        "    model.compile(optimizer=optimizer,loss='binary_crossentropy', metrics=['acc', 'mse'])\n",
        "    return model\n",
        "\n",
        "\n",
        "set_seeds(100)\n",
        "model = create_model_2()\n",
        "model_history = model.fit(x = X_train, y = y_train, epochs = 10, verbose = False, validation_split = 0.2, shuffle = False)\n",
        "model.evaluate(X_train, y_train ) # evaluate the fit on the train set\n",
        "\n",
        "loss1, acc1, mse1 = model.evaluate(X_test, y_test)\n",
        "print(f\"Loss is {loss1},\\nAccuracy is {acc1*100},\\nMSE is {mse1}\")\n",
        "\n",
        "\n",
        "plt.style.use('ggplot')\n",
        "plt.plot(model_history.history['loss'], label = 'loss')\n",
        "plt.plot(model_history.history['val_loss'], label='val loss')\n",
        "plt.title(\"Loss vs Val_Loss\")\n",
        "plt.xlabel(\"Epochs\")\n",
        "plt.ylabel(\"Loss\")\n",
        "plt.legend()\n",
        "plt.show()\n",
        "\n",
        "\n",
        "plt.plot(model_history.history['acc'], label = 'acc')\n",
        "plt.plot(model_history.history['val_acc'], label='val acc')\n",
        "plt.title(\"acc vs Val_acc\")\n",
        "plt.xlabel(\"Epochs\")\n",
        "plt.ylabel(\"acc\")\n",
        "plt.legend()\n",
        "plt.show()\n"
      ]
    },
    {
      "cell_type": "code",
      "execution_count": null,
      "metadata": {
        "id": "3HEbI5Aj4r2g"
      },
      "outputs": [
        {
          "name": "stdout",
          "output_type": "stream",
          "text": [
            "Model: \"sequential_8\"\n",
            "_________________________________________________________________\n",
            " Layer (type)                Output Shape              Param #   \n",
            "=================================================================\n",
            " dense_114 (Dense)           (None, 228)               52212     \n",
            "                                                                 \n",
            " dense_115 (Dense)           (None, 228)               52212     \n",
            "                                                                 \n",
            " dense_116 (Dense)           (None, 228)               52212     \n",
            "                                                                 \n",
            " dense_117 (Dense)           (None, 228)               52212     \n",
            "                                                                 \n",
            " dense_118 (Dense)           (None, 228)               52212     \n",
            "                                                                 \n",
            " dense_119 (Dense)           (None, 228)               52212     \n",
            "                                                                 \n",
            " dense_120 (Dense)           (None, 228)               52212     \n",
            "                                                                 \n",
            " dense_121 (Dense)           (None, 228)               52212     \n",
            "                                                                 \n",
            " dense_122 (Dense)           (None, 228)               52212     \n",
            "                                                                 \n",
            " dense_123 (Dense)           (None, 114)               26106     \n",
            "                                                                 \n",
            " dense_124 (Dense)           (None, 76)                8740      \n",
            "                                                                 \n",
            " dense_125 (Dense)           (None, 57)                4389      \n",
            "                                                                 \n",
            " dense_126 (Dense)           (None, 45)                2610      \n",
            "                                                                 \n",
            " dense_127 (Dense)           (None, 38)                1748      \n",
            "                                                                 \n",
            " dense_128 (Dense)           (None, 228)               8892      \n",
            "                                                                 \n",
            " dense_129 (Dense)           (None, 1)                 229       \n",
            "                                                                 \n",
            " dense_130 (Dense)           (None, 1)                 2         \n",
            "                                                                 \n",
            "=================================================================\n",
            "Total params: 522,624\n",
            "Trainable params: 522,624\n",
            "Non-trainable params: 0\n",
            "_________________________________________________________________\n",
            "None\n",
            "44/44 [==============================] - 0s 4ms/step - loss: 1.3401 - acc: 0.5704 - mse: 0.2451\n",
            "15/15 [==============================] - 0s 4ms/step - loss: 1.3398 - acc: 0.5714 - mse: 0.2449\n",
            "Loss is 1.3397581577301025,\n",
            "Accuracy is 57.14285969734192,\n",
            "MSE is 0.24490807950496674\n"
          ]
        },
        {
          "data": {
            "image/png": "[encoded data removed]",
            "text/plain": [
              "<Figure size 640x480 with 1 Axes>"
            ]
          },
          "metadata": {},
          "output_type": "display_data"
        },
        {
          "data": {
            "image/png": "[encoded data removed]",
            "text/plain": [
              "<Figure size 640x480 with 1 Axes>"
            ]
          },
          "metadata": {},
          "output_type": "display_data"
        }
      ],
      "source": [
        "\n",
        "def create_model_2():\n",
        "    optimizer = Adam(learning_rate=0.001)\n",
        "    model = Sequential([\n",
        "      Dense(len(cols), activation=\"relu\", input_shape=(len(cols),), kernel_regularizer='l1'),\n",
        "      Dense(len(cols), activation=\"relu\", kernel_regularizer='l1'),\n",
        "      Dense(len(cols), activation=\"relu\", kernel_regularizer='l1'),\n",
        "      Dense(len(cols), activation=\"relu\", kernel_regularizer='l1'),\n",
        "      Dense(len(cols), activation=\"relu\", kernel_regularizer='l1'),\n",
        "      Dense(len(cols), activation=\"relu\", kernel_regularizer='l1'),\n",
        "      Dense(len(cols), activation=\"relu\", kernel_regularizer='l1'),\n",
        "      Dense(len(cols), activation=\"relu\", kernel_regularizer='l1'),\n",
        "      Dense(len(cols), activation=\"relu\", kernel_regularizer='l1'),\n",
        "      Dense(int(len(cols) / 2), activation=\"relu\", kernel_regularizer='l1'),\n",
        "      Dense(int(len(cols) / 3), activation=\"relu\", kernel_regularizer='l1'),\n",
        "      Dense(int(len(cols) / 4), activation=\"relu\", kernel_regularizer='l1'),\n",
        "      Dense(int(len(cols) / 5), activation=\"relu\", kernel_regularizer='l1'),\n",
        "      Dense(int(len(cols) / 6), activation=\"relu\", kernel_regularizer='l1'),\n",
        "      Dense(len(cols), activation=\"relu\", kernel_regularizer='l1'),\n",
        "    Dense(1)\n",
        "    ])\n",
        "\n",
        "    model.add(Dense(1, use_bias=True, activation = \"sigmoid\"))\n",
        "\n",
        "    print(model.summary())\n",
        "\n",
        "    model.compile(optimizer=optimizer,loss='binary_crossentropy', metrics=['acc', 'mse'])\n",
        "    return model\n",
        "\n",
        "\n",
        "set_seeds(100)\n",
        "model = create_model_2()\n",
        "model_history = model.fit(x = X_train, y = y_train, epochs = 10, verbose = False, validation_split = 0.2, shuffle = False)\n",
        "model.evaluate(X_train, y_train ) # evaluate the fit on the train set\n",
        "loss1, acc1, mse1 = model.evaluate(X_test, y_test)\n",
        "print(f\"Loss is {loss1},\\nAccuracy is {acc1*100},\\nMSE is {mse1}\")\n",
        "\n",
        "plt.style.use('ggplot')\n",
        "plt.plot(model_history.history['loss'], label = 'loss')\n",
        "plt.plot(model_history.history['val_loss'], label='val loss')\n",
        "plt.title(\"Loss vs Val_Loss\")\n",
        "plt.xlabel(\"Epochs\")\n",
        "plt.ylabel(\"Loss\")\n",
        "plt.legend()\n",
        "plt.show()\n",
        "\n",
        "\n",
        "plt.plot(model_history.history['acc'], label = 'acc')\n",
        "plt.plot(model_history.history['val_acc'], label='val acc')\n",
        "plt.title(\"acc vs Val_acc\")\n",
        "plt.xlabel(\"Epochs\")\n",
        "plt.ylabel(\"acc\")\n",
        "plt.legend()\n",
        "plt.show()"
      ]
    },
    {
      "cell_type": "code",
      "execution_count": null,
      "metadata": {},
      "outputs": [],
      "source": [
        "\n",
        "def create_model_2():\n",
        "    optimizer = Adam(learning_rate=0.001)\n",
        "    model = Sequential([\n",
        "      Dense(len(cols), activation=\"relu\", input_shape=(len(cols),), kernel_regularizer='l1'),\n",
        "      Dense(len(cols), activation=\"relu\", kernel_regularizer='l1'),\n",
        "      Dense(len(cols), activation=\"relu\", kernel_regularizer='l1'),\n",
        "      Dense(len(cols), activation=\"relu\", kernel_regularizer='l1'),\n",
        "      Dense(len(cols), activation=\"relu\", kernel_regularizer='l1'),\n",
        "      Dense(len(cols), activation=\"relu\", kernel_regularizer='l1'),\n",
        "      Dense(len(cols), activation=\"relu\", kernel_regularizer='l1'),\n",
        "      Dense(len(cols), activation=\"relu\", kernel_regularizer='l1'),\n",
        "      Dense(len(cols), activation=\"relu\", kernel_regularizer='l1'),\n",
        "      Dense(int(len(cols) / 2), activation=\"relu\", kernel_regularizer='l1'),\n",
        "      Dense(int(len(cols) / 3), activation=\"relu\", kernel_regularizer='l1'),\n",
        "      Dense(int(len(cols) / 4), activation=\"relu\", kernel_regularizer='l1'),\n",
        "      Dense(int(len(cols) / 5), activation=\"relu\", kernel_regularizer='l1'),\n",
        "      Dense(int(len(cols) / 6), activation=\"relu\", kernel_regularizer='l1'),\n",
        "      Dense(len(cols), activation=\"relu\", kernel_regularizer='l1'),\n",
        "    Dense(1)\n",
        "    ])\n",
        "\n",
        "    model.add(Dense(1, use_bias=True, activation = \"sigmoid\"))\n",
        "\n",
        "    print(model.summary())\n",
        "\n",
        "    model.compile(optimizer=optimizer,loss='binary_crossentropy', metrics=['acc', 'mse'])\n",
        "    return model\n",
        "\n",
        "\n",
        "set_seeds(100)\n",
        "model = create_model_2()\n",
        "model_history = model.fit(x = X_train, y = y_train, epochs = 10, verbose = False, validation_split = 0.2, shuffle = False)\n",
        "model.evaluate(X_train, y_train ) # evaluate the fit on the train set\n",
        "loss1, acc1, mse1 = model.evaluate(X_test, y_test)\n",
        "print(f\"Loss is {loss1},\\nAccuracy is {acc1*100},\\nMSE is {mse1}\")\n",
        "\n",
        "plt.style.use('ggplot')\n",
        "plt.plot(model_history.history['loss'], label = 'loss')\n",
        "plt.plot(model_history.history['val_loss'], label='val loss')\n",
        "plt.title(\"Loss vs Val_Loss\")\n",
        "plt.xlabel(\"Epochs\")\n",
        "plt.ylabel(\"Loss\")\n",
        "plt.legend()\n",
        "plt.show()\n",
        "\n",
        "\n",
        "plt.plot(model_history.history['acc'], label = 'acc')\n",
        "plt.plot(model_history.history['val_acc'], label='val acc')\n",
        "plt.title(\"acc vs Val_acc\")\n",
        "plt.xlabel(\"Epochs\")\n",
        "plt.ylabel(\"acc\")\n",
        "plt.legend()\n",
        "plt.show()"
      ]
    },
    {
      "attachments": {},
      "cell_type": "markdown",
      "metadata": {
        "id": "kfPHZjxsBCzE"
      },
      "source": [
        "## Neural Networks with additional layers (increase model complexity)"
      ]
    },
    {
      "attachments": {},
      "cell_type": "markdown",
      "metadata": {
        "id": "u7-fUEdDBCv7"
      },
      "source": [
        "## Neural Networks with different optimizers"
      ]
    },
    {
      "attachments": {},
      "cell_type": "markdown",
      "metadata": {
        "id": "d5wbXu3ADG5S"
      },
      "source": [
        "## Neural Networks with higher epochs (Early Stopping)"
      ]
    },
    {
      "attachments": {},
      "cell_type": "markdown",
      "metadata": {
        "id": "rEsXxauKDJ9S"
      },
      "source": [
        "## Neural Networks with different activation and initializer"
      ]
    },
    {
      "attachments": {},
      "cell_type": "markdown",
      "metadata": {
        "id": "kSmjE1khDWKv"
      },
      "source": [
        "## Neural Networks with smaller batch size"
      ]
    }
  ],
  "metadata": {
    "colab": {
      "collapsed_sections": [
        "tmRqCSYirjgY",
        "-DqEcSZhD3cv",
        "_noNQT_AxfV_",
        "LqK1_lj_WCIc",
        "Sa5Fexm9qlvq",
        "ifVrxplhIzGR",
        "9sM0wTJQG5Tc"
      ],
      "provenance": []
    },
    "kernelspec": {
      "display_name": "Python 3",
      "name": "python3"
    },
    "language_info": {
      "codemirror_mode": {
        "name": "ipython",
        "version": 3
      },
      "file_extension": ".py",
      "mimetype": "text/x-python",
      "name": "python",
      "nbconvert_exporter": "python",
      "pygments_lexer": "ipython3",
      "version": "3.8.16"
    }
  },
  "nbformat": 4,
  "nbformat_minor": 0
}
